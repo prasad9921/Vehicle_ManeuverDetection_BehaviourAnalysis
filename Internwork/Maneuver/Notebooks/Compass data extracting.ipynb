{
 "cells": [
  {
   "cell_type": "code",
   "execution_count": 1,
   "id": "37a58a43",
   "metadata": {},
   "outputs": [],
   "source": [
    "import cv2\n",
    "import pytesseract"
   ]
  },
  {
   "cell_type": "code",
   "execution_count": 2,
   "id": "a59534d5",
   "metadata": {},
   "outputs": [],
   "source": [
    "image_path = r\"G:\\TCS Xplore\\Intern\\Sources\\DATA\\Compass1\\VID-20210430-WA00261 (4-30-2021 11-28-23 PM)\\VID-20210430-WA00261 \"\n",
    "pytesseract.pytesseract.tesseract_cmd = r\"C:\\Program Files\\Tesseract-OCR\\tesseract.exe\""
   ]
  },
  {
   "cell_type": "code",
   "execution_count": 3,
   "id": "2ffbbf93",
   "metadata": {},
   "outputs": [],
   "source": [
    "#to extract numeric data from compass images\n",
    "x=[]\n",
    "for i in range(1,501):\n",
    "    k=str(i)\n",
    "    if(len(k)<3):\n",
    "        k='0'*(3-len(k))+k\n",
    "    image = cv2.imread(image_path+k+'.jpg', 0)\n",
    "    thresh = cv2.threshold(image, 0, 255, cv2.THRESH_BINARY_INV + cv2.THRESH_OTSU)[1]\n",
    "\n",
    "    data = pytesseract.image_to_string(thresh, lang='eng',config='--psm 6')\n",
    "    y=data.split('°')[0]\n",
    "    if(y=='A'):\n",
    "        x.append(4)\n",
    "    else:\n",
    "        try:\n",
    "            x.append(int(y))\n",
    "        except:\n",
    "            x.append(y)"
   ]
  },
  {
   "cell_type": "code",
   "execution_count": 9,
   "id": "7504c8eb",
   "metadata": {
    "scrolled": false
   },
   "outputs": [
    {
     "name": "stdout",
     "output_type": "stream",
     "text": [
      "3 1O1\n",
      "\f",
      "\n",
      "4 1O1\n",
      "\f",
      "\n"
     ]
    }
   ],
   "source": [
    "#to debug\n",
    "for i in range(len(x)):\n",
    "    if(not(type(x[i])==int)):\n",
    "        print(i,x[i])"
   ]
  },
  {
   "cell_type": "code",
   "execution_count": 13,
   "id": "186bc4f6",
   "metadata": {},
   "outputs": [],
   "source": [
    "#to see converted image\n",
    "cv2.imshow('thresh', thresh)  \n",
    "cv2.waitKey(0) \n",
    "cv2.destroyAllWindows() "
   ]
  },
  {
   "cell_type": "code",
   "execution_count": 83,
   "id": "e34dad54",
   "metadata": {},
   "outputs": [],
   "source": [
    "#to change values which are wrongly converted\n",
    "x[57]= 101\n",
    "x[58]= 101\n",
    "x[59]= 101\n",
    "x[72]= 101\n",
    "x[73]= 101\n",
    "x[74]= 101\n",
    "x[75]= 101\n",
    "\n",
    "x[76]= 101\n",
    "\n",
    "x[77]= 101\n",
    "\n",
    "x[78]= 101\n",
    "\n",
    "x[79]= 101\n",
    "\n",
    "x[110]= 101\n",
    "x[111]= 101\n",
    "\n",
    "x[152]= 101\n",
    "\n",
    "x[153]= 101\n",
    "\n",
    "x[173]= 145\n",
    "\n",
    "x[174]= 145\n",
    "\n",
    "x[175]= 149\n",
    "\n",
    "x[176]= 149\n",
    "\n",
    "x[219]= 191\n",
    "x[220]= 191\n",
    "\n",
    "x[410]= 341\n",
    "\n",
    "x[411]= 341\n",
    "\n",
    "x[423]= 6\n",
    "x[424]= 6\n",
    "x[427]= 8\n",
    "x[428]= 8\n",
    "x[429]= 8\n",
    "x[430]= 8\n",
    "x[438]= 11\n",
    "\n",
    "x[439]= 11\n",
    "\n",
    "x[440]= 11\n",
    "\n",
    "x[441]= 11\n",
    "\n",
    "x[450]= 15\n",
    "\n",
    "x[451]= 15\n",
    "\n",
    "x[490]= 11\n",
    "\n",
    "x[491]= 11\n",
    "\n",
    "x[496]= 1\n",
    "\n",
    "x[497]= 0\n",
    "\n",
    "x[498]= 0\n",
    "\n",
    "x[499]= 0"
   ]
  },
  {
   "cell_type": "code",
   "execution_count": 50,
   "id": "a8800c05",
   "metadata": {},
   "outputs": [],
   "source": [
    "'''\n",
    "x[254]= 271\n",
    "x[255]= 270\n",
    "x[256]= 271\n",
    "x[269]= 53\n",
    "x[400]= 277\n",
    "'''"
   ]
  },
  {
   "cell_type": "code",
   "execution_count": 84,
   "id": "a6e94d31",
   "metadata": {},
   "outputs": [],
   "source": [
    "#organizing data into excel\n",
    "import xlsxwriter"
   ]
  },
  {
   "cell_type": "code",
   "execution_count": 85,
   "id": "0b61ccf6",
   "metadata": {},
   "outputs": [],
   "source": [
    "workbook = xlsxwriter.Workbook('comp1.xlsx')\n",
    "worksheet = workbook.add_worksheet()\n",
    "row = 1\n",
    "column = 0\n",
    "worksheet.write(0, column, 'data')\n",
    "for item in x :\n",
    "    worksheet.write(row, column, item)\n",
    "    row += 1\n",
    "workbook.close()"
   ]
  }
 ],
 "metadata": {
  "kernelspec": {
   "display_name": "Python 3",
   "language": "python",
   "name": "python3"
  },
  "language_info": {
   "codemirror_mode": {
    "name": "ipython",
    "version": 3
   },
   "file_extension": ".py",
   "mimetype": "text/x-python",
   "name": "python",
   "nbconvert_exporter": "python",
   "pygments_lexer": "ipython3",
   "version": "3.8.8"
  }
 },
 "nbformat": 4,
 "nbformat_minor": 5
}

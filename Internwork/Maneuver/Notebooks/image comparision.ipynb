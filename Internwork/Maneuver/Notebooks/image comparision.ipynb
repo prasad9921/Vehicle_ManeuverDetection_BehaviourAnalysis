{
 "cells": [
  {
   "cell_type": "code",
   "execution_count": null,
   "id": "8d91886e",
   "metadata": {},
   "outputs": [],
   "source": [
    "import cv2\n",
    "import os"
   ]
  },
  {
   "cell_type": "code",
   "execution_count": null,
   "id": "f0e365d8",
   "metadata": {},
   "outputs": [],
   "source": [
    "Right = os.listdir('OneDrive\\Desktop\\yugandhar\\Test\\Right') #storing all the names of files (images) of the folder into a list\n",
    "Back=os.listdir('OneDrive\\Desktop\\yugandhar\\Test\\Back') #storing all the names of files (images) of the folder into a list"
   ]
  },
  {
   "cell_type": "code",
   "execution_count": 28,
   "id": "c6568d91",
   "metadata": {
    "scrolled": true
   },
   "outputs": [
    {
     "name": "stdout",
     "output_type": "stream",
     "text": [
      "The Difference score between B1.jpg and R1.jpg is :  [296787.88]\n",
      "The Difference score between B10.jpg and R10.jpg is :  [285389.12]\n",
      "The Difference score between B11.jpg and R11.jpg is :  [230456.]\n",
      "The Difference score between B12.jpg and R12.jpg is :  [215934.78]\n",
      "The Difference score between B13.jpg and R13.jpg is :  [244632.38]\n",
      "The Difference score between B14.jpg and R14.jpg is :  [199677.55]\n",
      "The Difference score between B15.jpg and R15.jpg is :  [162351.02]\n",
      "The Difference score between B16.jpg and R16.jpg is :  [0.]\n",
      "The Difference score between B2.jpg and R2.jpg is :  [229361.42]\n",
      "The Difference score between B3.jpg and R3.jpg is :  [242629.53]\n",
      "The Difference score between B4.jpg and R4.jpg is :  [218269.66]\n",
      "The Difference score between B5.jpg and R5.jpg is :  [290754.66]\n",
      "The Difference score between B6.jpg and R6.jpg is :  [317490.22]\n",
      "The Difference score between B7.jpg and R7.jpg is :  [327342.84]\n",
      "The Difference score between B8.jpg and R8.jpg is :  [355772.53]\n",
      "The Difference score between B9.jpg and R9.jpg is :  [352183.28]\n"
     ]
    },
    {
     "data": {
      "text/plain": [
       "'\\n# Euclidean Distace between data2 and test\\ni = 0\\nwhile i<len(histogram) and i<len(histogram2):\\n    c2+=(histogram[i]-histogram2[i])**2\\n    i+= 1\\nc2 = c2**(1 / 2)\\n\\nif(c1<c2):\\n    print(\"data1.jpg is more similar to test.jpg as compare to data2.jpg\")\\nelse:\\n    print(\"data2.jpg is more similar to test.jpg as compare to data1.jpg\")'"
      ]
     },
     "execution_count": 28,
     "metadata": {},
     "output_type": "execute_result"
    }
   ],
   "source": [
    "for serial in range(len(Right)): #for loop running through the length of file list for uniform checking\n",
    "    # test image\n",
    "    image = cv2.imread(\"OneDrive\\\\Desktop\\\\yugandhar\\\\Test\\\\Back\\\\\"+ Back[serial]) #reading file from the specfic path\n",
    "    gray_image = cv2.cvtColor(image, cv2.COLOR_BGR2GRAY) #converting the image into greyscale for easy computation\n",
    "    histogram = cv2.calcHist([gray_image], [0],None, [256], [0, 256]) #Calculating Histogram value\n",
    "\n",
    "    # data1 image\n",
    "    image = cv2.imread('OneDrive\\\\Desktop\\\\yugandhar\\\\Test\\\\Right\\\\'+ Right[serial]) #reading file from the specfic path\n",
    "    gray_image1 = cv2.cvtColor(image, cv2.COLOR_BGR2GRAY) #converting the image into greyscale for easy computation\n",
    "    histogram1 = cv2.calcHist([gray_image1], [0],None, [256], [0, 256]) #Calculating Histogram value\n",
    "\n",
    "    '''# data2 image\n",
    "    image = cv2.imread('OneDrive\\Desktop\\yugandhar\\Test\\Right\\R1.jpg')\n",
    "    gray_image2 = cv2.cvtColor(image, cv2.COLOR_BGR2GRAY)\n",
    "    histogram2 = cv2.calcHist([gray_image2], [0],None, [256], [0, 256])'''\n",
    "\n",
    "\n",
    "    c1, c2 = 0, 0\n",
    "\n",
    "    # Euclidean Distace between data1 and test\n",
    "    i = 0\n",
    "    while i<len(histogram) and i<len(histogram1):\n",
    "        c1+=(histogram[i]-histogram1[i])**2\n",
    "        i+= 1\n",
    "    c1 = c1**(1 / 2)\n",
    "    print(\"The Difference score between \"+Back[serial]+\" and \"+Right[serial]+\" is\"+ \" : \",c1)\n",
    "\n",
    "'''\n",
    "# Euclidean Distace between data2 and test\n",
    "i = 0\n",
    "while i<len(histogram) and i<len(histogram2):\n",
    "    c2+=(histogram[i]-histogram2[i])**2\n",
    "    i+= 1\n",
    "c2 = c2**(1 / 2)\n",
    "\n",
    "if(c1<c2):\n",
    "    print(\"data1.jpg is more similar to test.jpg as compare to data2.jpg\")\n",
    "else:\n",
    "    print(\"data2.jpg is more similar to test.jpg as compare to data1.jpg\")'''"
   ]
  }
 ],
 "metadata": {
  "kernelspec": {
   "display_name": "Python 3",
   "language": "python",
   "name": "python3"
  },
  "language_info": {
   "codemirror_mode": {
    "name": "ipython",
    "version": 3
   },
   "file_extension": ".py",
   "mimetype": "text/x-python",
   "name": "python",
   "nbconvert_exporter": "python",
   "pygments_lexer": "ipython3",
   "version": "3.8.8"
  }
 },
 "nbformat": 4,
 "nbformat_minor": 5
}

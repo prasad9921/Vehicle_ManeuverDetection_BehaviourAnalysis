{
 "cells": [
  {
   "cell_type": "code",
   "execution_count": null,
   "id": "ffc9d740",
   "metadata": {},
   "outputs": [],
   "source": [
    "#video into frames\n",
    "import cv2\n",
    "vidcap = cv2.VideoCapture('OneDrive\\\\Desktop\\\\yugandhar\\\\Test\\\\test1.mp4')\n",
    "def getFrame(sec):\n",
    "    vidcap.set(cv2.CAP_PROP_POS_MSEC,sec*1000)\n",
    "    hasFrames,image = vidcap.read()\n",
    "    if hasFrames:\n",
    "        cv2.imwrite(\"Test1\\\\\"+str(sec)+\" sec.jpg\", image)     # save frame as jpg file\n",
    "    return hasFrames\n",
    "sec = 0\n",
    "frameRate = 0.5 #it will capture image in each 0.5 second\n",
    "success = getFrame(sec)\n",
    "while success:\n",
    "    sec = sec + frameRate\n",
    "    sec = round(sec, 2)\n",
    "    success = getFrame(sec)"
   ]
  },
  {
   "cell_type": "code",
   "execution_count": null,
   "id": "8e747ac0",
   "metadata": {},
   "outputs": [],
   "source": [
    "# Improting Image class from PIL module\n",
    "from PIL import Image\n",
    "for sec in putavariable:\n",
    "    # Opens a image in RGB mode\n",
    "    im = Image.open(r\"Test1\\\\\"+str(sec)+\" sec.jpg\")\n",
    "\n",
    "    # Setting the points for cropped image\n",
    "    left = 155\n",
    "    top = 65\n",
    "    right = 360\n",
    "    bottom = 270\n",
    "\n",
    "    # Cropped image of above dimension\n",
    "    # (It will not change orginal image)\n",
    "    im1 = im.crop((left, top, right, bottom))\n",
    "\n",
    "    # Shows the image in image viewer\n",
    "    im1.show()"
   ]
  },
  {
   "cell_type": "code",
   "execution_count": null,
   "id": "4dc39ca4",
   "metadata": {},
   "outputs": [],
   "source": []
  },
  {
   "cell_type": "code",
   "execution_count": 1,
   "id": "5a189f3f",
   "metadata": {},
   "outputs": [],
   "source": [
    "#video cropping\n",
    "import numpy as np\n",
    "import cv2"
   ]
  },
  {
   "cell_type": "code",
   "execution_count": 2,
   "id": "5e8ee50e",
   "metadata": {},
   "outputs": [],
   "source": [
    "# Open the video\n",
    "cap = cv2.VideoCapture('‪G:\\TCS Xplore\\Intern\\Sources\\autonomus vid\\video_2021-04-19_11-24-04.mp4')\n",
    "\n",
    "# Initialize frame counter\n",
    "cnt = 0\n",
    "\n",
    "# Some characteristics from the original video\n",
    "w_frame, h_frame = int(cap.get(cv2.CAP_PROP_FRAME_WIDTH)), int(cap.get(cv2.CAP_PROP_FRAME_HEIGHT))\n",
    "fps, frames = cap.get(cv2.CAP_PROP_FPS), cap.get(cv2.CAP_PROP_FRAME_COUNT)\n",
    "\n",
    "# Here you can define your croping values\n",
    "x,y,h,w = 0,0,100,100\n",
    "\n",
    "# output\n",
    "fourcc = cv2.VideoWriter_fourcc(*'XVID')\n",
    "out = cv2.VideoWriter('result.avi', fourcc, fps, (w, h))"
   ]
  },
  {
   "cell_type": "code",
   "execution_count": 3,
   "id": "7c64d787",
   "metadata": {},
   "outputs": [],
   "source": [
    "# Now we start\n",
    "while(cap.isOpened()):\n",
    "    ret, frame = cap.read()\n",
    "\n",
    "    cnt += 1 # Counting frames\n",
    "\n",
    "    # Avoid problems when video finish\n",
    "    if ret==True:\n",
    "        # Croping the frame\n",
    "        crop_frame = frame[y:y+h, x:x+w]\n",
    "\n",
    "        # Percentage\n",
    "        xx = cnt *100/frames\n",
    "        print(int(xx),'%')\n",
    "\n",
    "        # Saving from the desired frames\n",
    "        #if 15 <= cnt <= 90:\n",
    "        #    out.write(crop_frame)\n",
    "\n",
    "        # I see the answer now. Here you save all the video\n",
    "        out.write(crop_frame)\n",
    "\n",
    "        # Just to see the video in real time          \n",
    "        cv2.imshow('frame',frame)\n",
    "        cv2.imshow('croped',crop_frame)\n",
    "\n",
    "        if cv2.waitKey(1) & 0xFF == ord('q'):\n",
    "            break\n",
    "    else:\n",
    "        break\n",
    "\n",
    "\n",
    "cap.release()\n",
    "out.release()\n",
    "cv2.destroyAllWindows()"
   ]
  }
 ],
 "metadata": {
  "kernelspec": {
   "display_name": "Python 3",
   "language": "python",
   "name": "python3"
  },
  "language_info": {
   "codemirror_mode": {
    "name": "ipython",
    "version": 3
   },
   "file_extension": ".py",
   "mimetype": "text/x-python",
   "name": "python",
   "nbconvert_exporter": "python",
   "pygments_lexer": "ipython3",
   "version": "3.8.8"
  }
 },
 "nbformat": 4,
 "nbformat_minor": 5
}

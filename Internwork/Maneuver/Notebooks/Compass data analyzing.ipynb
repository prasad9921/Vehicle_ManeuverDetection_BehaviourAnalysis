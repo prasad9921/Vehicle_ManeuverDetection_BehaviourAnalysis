{
 "cells": [
  {
   "cell_type": "code",
   "execution_count": 2,
   "id": "fdee64d9",
   "metadata": {},
   "outputs": [],
   "source": [
    "import numpy as np\n",
    "import pandas as pd\n",
    "import matplotlib.pyplot as plt\n",
    "import seaborn as sns\n",
    "import sklearn as sk\n",
    "%matplotlib inline"
   ]
  },
  {
   "cell_type": "code",
   "execution_count": 3,
   "id": "94412ec7",
   "metadata": {},
   "outputs": [],
   "source": [
    "d=pd.read_excel('comp.xlsx')"
   ]
  },
  {
   "cell_type": "code",
   "execution_count": 4,
   "id": "76e6774e",
   "metadata": {},
   "outputs": [
    {
     "data": {
      "text/html": [
       "<div>\n",
       "<style scoped>\n",
       "    .dataframe tbody tr th:only-of-type {\n",
       "        vertical-align: middle;\n",
       "    }\n",
       "\n",
       "    .dataframe tbody tr th {\n",
       "        vertical-align: top;\n",
       "    }\n",
       "\n",
       "    .dataframe thead th {\n",
       "        text-align: right;\n",
       "    }\n",
       "</style>\n",
       "<table border=\"1\" class=\"dataframe\">\n",
       "  <thead>\n",
       "    <tr style=\"text-align: right;\">\n",
       "      <th></th>\n",
       "      <th>data</th>\n",
       "    </tr>\n",
       "  </thead>\n",
       "  <tbody>\n",
       "    <tr>\n",
       "      <th>0</th>\n",
       "      <td>110</td>\n",
       "    </tr>\n",
       "    <tr>\n",
       "      <th>1</th>\n",
       "      <td>110</td>\n",
       "    </tr>\n",
       "    <tr>\n",
       "      <th>2</th>\n",
       "      <td>111</td>\n",
       "    </tr>\n",
       "    <tr>\n",
       "      <th>3</th>\n",
       "      <td>111</td>\n",
       "    </tr>\n",
       "    <tr>\n",
       "      <th>4</th>\n",
       "      <td>111</td>\n",
       "    </tr>\n",
       "  </tbody>\n",
       "</table>\n",
       "</div>"
      ],
      "text/plain": [
       "   data\n",
       "0   110\n",
       "1   110\n",
       "2   111\n",
       "3   111\n",
       "4   111"
      ]
     },
     "execution_count": 4,
     "metadata": {},
     "output_type": "execute_result"
    }
   ],
   "source": [
    "d.head()"
   ]
  },
  {
   "cell_type": "code",
   "execution_count": 5,
   "id": "02144b8b",
   "metadata": {},
   "outputs": [],
   "source": [
    "x=d['data']"
   ]
  },
  {
   "cell_type": "code",
   "execution_count": 6,
   "id": "cb343f4e",
   "metadata": {
    "scrolled": false
   },
   "outputs": [
    {
     "data": {
      "text/plain": [
       "<matplotlib.collections.PathCollection at 0x2453f0670d0>"
      ]
     },
     "execution_count": 6,
     "metadata": {},
     "output_type": "execute_result"
    },
    {
     "data": {
      "image/png": "[encoded data removed]",
      "text/plain": [
       "<Figure size 432x288 with 1 Axes>"
      ]
     },
     "metadata": {
      "needs_background": "light"
     },
     "output_type": "display_data"
    }
   ],
   "source": [
    "plt.scatter(list(range(len(x))),d['data'])"
   ]
  },
  {
   "cell_type": "code",
   "execution_count": 9,
   "id": "792d2623",
   "metadata": {},
   "outputs": [],
   "source": [
    "#increasing order\n",
    "def inx(x,i):\n",
    "    s=0\n",
    "    r=0\n",
    "    v=0\n",
    "    k=10\n",
    "    l=5\n",
    "    if(i+k>=500):\n",
    "        k=500-i-1\n",
    "    if(i+l>=500):\n",
    "        l=500-i-1\n",
    "    for j in range(l):\n",
    "        if(x[i+j]<x[i+j+1]):\n",
    "            r=r+1\n",
    "    for j in range(k):\n",
    "        if(x[i+j]<=x[i+j+1]):\n",
    "            s=s+(x[i+j+1]-x[i+j])\n",
    "            v=v+1\n",
    "    if(s<=15):\n",
    "        return 0\n",
    "    else:\n",
    "        if(v==k or r==l):\n",
    "            return 1\n",
    "    return 0"
   ]
  },
  {
   "cell_type": "code",
   "execution_count": 10,
   "id": "c8f2e7f4",
   "metadata": {},
   "outputs": [],
   "source": [
    "#decreasing order\n",
    "def inx1(x,i):\n",
    "    s=0\n",
    "    r=0\n",
    "    v=0\n",
    "    k=10\n",
    "    l=5\n",
    "    if(i+k>=500):\n",
    "        k=500-i-1\n",
    "    if(i+l>=500):\n",
    "        l=500-i-1\n",
    "    for j in range(l):\n",
    "        if(x[i+j]>x[i+j+1]):\n",
    "            r=r+1\n",
    "    for j in range(k):\n",
    "        if(x[i+j]>=x[i+j+1]):\n",
    "            s=s+(x[i+j]-x[i+j-1])\n",
    "            v=v+1\n",
    "    if(s<=15):\n",
    "        return 0\n",
    "    else:\n",
    "        if(v==k or r==l):\n",
    "            return 1\n",
    "    return 0"
   ]
  },
  {
   "cell_type": "code",
   "execution_count": 11,
   "id": "6560b854",
   "metadata": {},
   "outputs": [
    {
     "name": "stdout",
     "output_type": "stream",
     "text": [
      "Turn 27 76\n",
      "U 109 133\n",
      "Turn 109 204\n",
      "U 256 271\n",
      "Turn 317 375\n",
      "U 386 410\n"
     ]
    }
   ],
   "source": [
    "#basic version\n",
    "l=[]\n",
    "q=[]\n",
    "s=x[0]\n",
    "a=0\n",
    "b=0\n",
    "f=0\n",
    "for i in range(1,500):\n",
    "    z=abs(x[i]-x[i-1])\n",
    "    l.append(min(z,360-z))\n",
    "    y=abs(x[i]-s)\n",
    "    y=(min(y,360-y))\n",
    "    if(x[i-1]<=x[i]):\n",
    "        if(f==0):\n",
    "            if(inx(x,i-1)):\n",
    "                right=i\n",
    "                s=x[right]\n",
    "                f=1\n",
    "    if(y>=80 and y<=100):\n",
    "        v=0\n",
    "        k=10\n",
    "        if(i+k>=500):\n",
    "            k=500-i-1\n",
    "        for j in range(k):\n",
    "            if(x[i+j]<=x[i+j+1]):\n",
    "                v=v+1\n",
    "        if(v<k//2):\n",
    "            s=x[i]\n",
    "            f=0\n",
    "            print('Turn',right,i)\n",
    "    if(y>=170 and y<=190):\n",
    "        print(\"U\",right,i)\n",
    "        s=x[i]\n",
    "        f=0"
   ]
  },
  {
   "cell_type": "code",
   "execution_count": 16,
   "id": "794176a0",
   "metadata": {},
   "outputs": [
    {
     "data": {
      "text/plain": [
       "<matplotlib.collections.PathCollection at 0x2453f0b3370>"
      ]
     },
     "execution_count": 16,
     "metadata": {},
     "output_type": "execute_result"
    },
    {
     "data": {
      "image/png": "[encoded data removed]",
      "text/plain": [
       "<Figure size 432x288 with 1 Axes>"
      ]
     },
     "metadata": {
      "needs_background": "light"
     },
     "output_type": "display_data"
    }
   ],
   "source": [
    "plt.scatter(list(range(len(l))),l)"
   ]
  },
  {
   "cell_type": "code",
   "execution_count": 32,
   "id": "6be0af75",
   "metadata": {
    "scrolled": true
   },
   "outputs": [
    {
     "name": "stdout",
     "output_type": "stream",
     "text": [
      "Right Turn 106 193 26 63\n",
      "RU 198 16 108 140\n",
      "Left Turn 358 288 188 218\n",
      "RU 270 108 255 280\n",
      "Right Turn 102 201 316 359\n",
      "RU 191 17 385 419\n",
      "Left Turn 18 286 449 483\n"
     ]
    }
   ],
   "source": [
    "#complete version\n",
    "s=x[0]\n",
    "a=0\n",
    "f=0\n",
    "g=0\n",
    "b=0\n",
    "i=0\n",
    "rt=[]\n",
    "lt=[]\n",
    "ru=[]\n",
    "lu=[]\n",
    "while(i<499):\n",
    "    i=i+1\n",
    "    y=abs(x[i]-s)\n",
    "    y=(min(y,360-y))\n",
    "    if(x[i-1]<=x[i] and g==0):\n",
    "        if(f==0 and g==0):\n",
    "            if(inx(x,i-1)):\n",
    "                right=i-1\n",
    "                #print(\"insr \"+str(right))\n",
    "                s=x[right]\n",
    "                f=1\n",
    "        if(y>=65 and y<=125):\n",
    "            v=0\n",
    "            k=10\n",
    "            if(i+k>=500):\n",
    "                k=500-i-1\n",
    "            for j in range(k):\n",
    "                if(x[i+j]<x[i+j+1]):\n",
    "                    v=v+1\n",
    "            if(v<k//2):\n",
    "                j=i\n",
    "                while(x[j]<x[j+1] and j<500):\n",
    "                    j=j+1\n",
    "                j=j+6\n",
    "                f=0\n",
    "                print('Right Turn',s,x[j],right,j)\n",
    "                rt.append([right,j])\n",
    "                s=x[j]\n",
    "                i=j\n",
    "                right=j\n",
    "        if(y>=170 and y<=190):\n",
    "            j=i\n",
    "            while(x[j]<x[j+1] and j<500):\n",
    "                j=j+1\n",
    "            j=j+6\n",
    "            f=0\n",
    "            print(\"RU\",s,x[j],right,j)\n",
    "            ru.append([right,j])\n",
    "            s=x[j]\n",
    "            i=j\n",
    "            right=j\n",
    "    elif(x[i-1]>=x[i] and f==0):\n",
    "        if(f==0 and g==0):\n",
    "            if(inx1(x,i-1)):\n",
    "                #print(\"insl \"+str(i-1))\n",
    "                left=i-1\n",
    "                s=x[left]\n",
    "                g=1\n",
    "        if(y>=65 and y<=125):\n",
    "            v=0\n",
    "            k=10\n",
    "            if(i+k>=500):\n",
    "                k=500-i-1\n",
    "            for j in range(k):\n",
    "                if(x[i+j]>x[i+j+1]):\n",
    "                    v=v+1\n",
    "            if(v<k//2):\n",
    "                j=i\n",
    "                while(x[j]>x[j+1] and j<500):\n",
    "                    j=j+1\n",
    "                j=j+6\n",
    "                g=0\n",
    "                print('Left Turn',s,x[j],left,j)\n",
    "                lt.append([left,j])\n",
    "                s=x[j]\n",
    "                i=j\n",
    "                left=j\n",
    "                if(left==189):\n",
    "                    print(i)\n",
    "        if(y>=170 and y<=190):\n",
    "            j=i\n",
    "            while(x[j]>x[j+1] and j<500):\n",
    "                j=j+1\n",
    "            j=j+6\n",
    "            g=0\n",
    "            print(\"LU\",s,x[j],left,j)\n",
    "            rt.append([left,j])\n",
    "            s=x[j]\n",
    "            i=j\n",
    "            left=j"
   ]
  },
  {
   "cell_type": "code",
   "execution_count": 33,
   "id": "66fef6f2",
   "metadata": {},
   "outputs": [
    {
     "name": "stdout",
     "output_type": "stream",
     "text": [
      "[[26, 63], [316, 359]]\n",
      "[[108, 140], [255, 280], [385, 419]]\n",
      "[[188, 218], [449, 483]]\n",
      "[]\n"
     ]
    }
   ],
   "source": [
    "print(rt)\n",
    "print(ru)\n",
    "print(lt)\n",
    "print(lu)"
   ]
  },
  {
   "cell_type": "code",
   "execution_count": 17,
   "id": "b944d8fe",
   "metadata": {},
   "outputs": [],
   "source": [
    "import shutil\n",
    "import os"
   ]
  },
  {
   "cell_type": "code",
   "execution_count": 29,
   "id": "bb5396bf",
   "metadata": {},
   "outputs": [],
   "source": [
    "#to create folders for turns data\n",
    "# Directory\n",
    "d=[]\n",
    "d.append([\"Right Turn\",rt])\n",
    "d.append([\"Left Turn\",lt])\n",
    "d.append([\"Right U Turn\",ru])\n",
    "d.append([\"Left U Turn\",lu])\n",
    "  \n",
    "# Parent Directory path\n",
    "parent_dir = \"G:\\TCS Xplore\\Intern\\Sources\\DATA\\Compass\"\n",
    "  \n",
    "# Path\n",
    "for i in d:\n",
    "    path = os.path.join(parent_dir,i[0])\n",
    "    os.mkdir(path)\n",
    "    #print(path)\n",
    "    pd=path\n",
    "    for j in range(len(i[1])):\n",
    "        path=os.path.join(pd,str(j))\n",
    "        #print(path)\n",
    "        os.mkdir(path)"
   ]
  },
  {
   "cell_type": "code",
   "execution_count": 35,
   "id": "55809a9f",
   "metadata": {},
   "outputs": [],
   "source": [
    "img=\"G:\\TCS Xplore\\Intern\\Sources\\DATA\\Compass\\Car's view\\VID20210429155101 \""
   ]
  },
  {
   "cell_type": "code",
   "execution_count": 39,
   "id": "2b77f403",
   "metadata": {
    "collapsed": true
   },
   "outputs": [
    {
     "name": "stdout",
     "output_type": "stream",
     "text": [
      "G:\\TCS Xplore\\Intern\\Sources\\DATA\\Compass\\Car's view\\VID20210429155101 026.jpg\n",
      "G:\\TCS Xplore\\Intern\\Sources\\DATA\\Compass\\Car's view\\VID20210429155101 027.jpg\n",
      "G:\\TCS Xplore\\Intern\\Sources\\DATA\\Compass\\Car's view\\VID20210429155101 028.jpg\n",
      "G:\\TCS Xplore\\Intern\\Sources\\DATA\\Compass\\Car's view\\VID20210429155101 029.jpg\n",
      "G:\\TCS Xplore\\Intern\\Sources\\DATA\\Compass\\Car's view\\VID20210429155101 030.jpg\n",
      "G:\\TCS Xplore\\Intern\\Sources\\DATA\\Compass\\Car's view\\VID20210429155101 031.jpg\n",
      "G:\\TCS Xplore\\Intern\\Sources\\DATA\\Compass\\Car's view\\VID20210429155101 032.jpg\n",
      "G:\\TCS Xplore\\Intern\\Sources\\DATA\\Compass\\Car's view\\VID20210429155101 033.jpg\n",
      "G:\\TCS Xplore\\Intern\\Sources\\DATA\\Compass\\Car's view\\VID20210429155101 034.jpg\n",
      "G:\\TCS Xplore\\Intern\\Sources\\DATA\\Compass\\Car's view\\VID20210429155101 035.jpg\n",
      "G:\\TCS Xplore\\Intern\\Sources\\DATA\\Compass\\Car's view\\VID20210429155101 036.jpg\n",
      "G:\\TCS Xplore\\Intern\\Sources\\DATA\\Compass\\Car's view\\VID20210429155101 037.jpg\n",
      "G:\\TCS Xplore\\Intern\\Sources\\DATA\\Compass\\Car's view\\VID20210429155101 038.jpg\n",
      "G:\\TCS Xplore\\Intern\\Sources\\DATA\\Compass\\Car's view\\VID20210429155101 039.jpg\n",
      "G:\\TCS Xplore\\Intern\\Sources\\DATA\\Compass\\Car's view\\VID20210429155101 040.jpg\n",
      "G:\\TCS Xplore\\Intern\\Sources\\DATA\\Compass\\Car's view\\VID20210429155101 041.jpg\n",
      "G:\\TCS Xplore\\Intern\\Sources\\DATA\\Compass\\Car's view\\VID20210429155101 042.jpg\n",
      "G:\\TCS Xplore\\Intern\\Sources\\DATA\\Compass\\Car's view\\VID20210429155101 043.jpg\n",
      "G:\\TCS Xplore\\Intern\\Sources\\DATA\\Compass\\Car's view\\VID20210429155101 044.jpg\n",
      "G:\\TCS Xplore\\Intern\\Sources\\DATA\\Compass\\Car's view\\VID20210429155101 045.jpg\n",
      "G:\\TCS Xplore\\Intern\\Sources\\DATA\\Compass\\Car's view\\VID20210429155101 046.jpg\n",
      "G:\\TCS Xplore\\Intern\\Sources\\DATA\\Compass\\Car's view\\VID20210429155101 047.jpg\n",
      "G:\\TCS Xplore\\Intern\\Sources\\DATA\\Compass\\Car's view\\VID20210429155101 048.jpg\n",
      "G:\\TCS Xplore\\Intern\\Sources\\DATA\\Compass\\Car's view\\VID20210429155101 049.jpg\n",
      "G:\\TCS Xplore\\Intern\\Sources\\DATA\\Compass\\Car's view\\VID20210429155101 050.jpg\n",
      "G:\\TCS Xplore\\Intern\\Sources\\DATA\\Compass\\Car's view\\VID20210429155101 051.jpg\n",
      "G:\\TCS Xplore\\Intern\\Sources\\DATA\\Compass\\Car's view\\VID20210429155101 052.jpg\n",
      "G:\\TCS Xplore\\Intern\\Sources\\DATA\\Compass\\Car's view\\VID20210429155101 053.jpg\n",
      "G:\\TCS Xplore\\Intern\\Sources\\DATA\\Compass\\Car's view\\VID20210429155101 054.jpg\n",
      "G:\\TCS Xplore\\Intern\\Sources\\DATA\\Compass\\Car's view\\VID20210429155101 055.jpg\n",
      "G:\\TCS Xplore\\Intern\\Sources\\DATA\\Compass\\Car's view\\VID20210429155101 056.jpg\n",
      "G:\\TCS Xplore\\Intern\\Sources\\DATA\\Compass\\Car's view\\VID20210429155101 057.jpg\n",
      "G:\\TCS Xplore\\Intern\\Sources\\DATA\\Compass\\Car's view\\VID20210429155101 058.jpg\n",
      "G:\\TCS Xplore\\Intern\\Sources\\DATA\\Compass\\Car's view\\VID20210429155101 059.jpg\n",
      "G:\\TCS Xplore\\Intern\\Sources\\DATA\\Compass\\Car's view\\VID20210429155101 060.jpg\n",
      "G:\\TCS Xplore\\Intern\\Sources\\DATA\\Compass\\Car's view\\VID20210429155101 061.jpg\n",
      "G:\\TCS Xplore\\Intern\\Sources\\DATA\\Compass\\Car's view\\VID20210429155101 062.jpg\n",
      "G:\\TCS Xplore\\Intern\\Sources\\DATA\\Compass\\Car's view\\VID20210429155101 063.jpg\n",
      "G:\\TCS Xplore\\Intern\\Sources\\DATA\\Compass\\Car's view\\VID20210429155101 316.jpg\n",
      "G:\\TCS Xplore\\Intern\\Sources\\DATA\\Compass\\Car's view\\VID20210429155101 317.jpg\n",
      "G:\\TCS Xplore\\Intern\\Sources\\DATA\\Compass\\Car's view\\VID20210429155101 318.jpg\n",
      "G:\\TCS Xplore\\Intern\\Sources\\DATA\\Compass\\Car's view\\VID20210429155101 319.jpg\n",
      "G:\\TCS Xplore\\Intern\\Sources\\DATA\\Compass\\Car's view\\VID20210429155101 320.jpg\n",
      "G:\\TCS Xplore\\Intern\\Sources\\DATA\\Compass\\Car's view\\VID20210429155101 321.jpg\n",
      "G:\\TCS Xplore\\Intern\\Sources\\DATA\\Compass\\Car's view\\VID20210429155101 322.jpg\n",
      "G:\\TCS Xplore\\Intern\\Sources\\DATA\\Compass\\Car's view\\VID20210429155101 323.jpg\n",
      "G:\\TCS Xplore\\Intern\\Sources\\DATA\\Compass\\Car's view\\VID20210429155101 324.jpg\n",
      "G:\\TCS Xplore\\Intern\\Sources\\DATA\\Compass\\Car's view\\VID20210429155101 325.jpg\n",
      "G:\\TCS Xplore\\Intern\\Sources\\DATA\\Compass\\Car's view\\VID20210429155101 326.jpg\n",
      "G:\\TCS Xplore\\Intern\\Sources\\DATA\\Compass\\Car's view\\VID20210429155101 327.jpg\n",
      "G:\\TCS Xplore\\Intern\\Sources\\DATA\\Compass\\Car's view\\VID20210429155101 328.jpg\n",
      "G:\\TCS Xplore\\Intern\\Sources\\DATA\\Compass\\Car's view\\VID20210429155101 329.jpg\n",
      "G:\\TCS Xplore\\Intern\\Sources\\DATA\\Compass\\Car's view\\VID20210429155101 330.jpg\n",
      "G:\\TCS Xplore\\Intern\\Sources\\DATA\\Compass\\Car's view\\VID20210429155101 331.jpg\n",
      "G:\\TCS Xplore\\Intern\\Sources\\DATA\\Compass\\Car's view\\VID20210429155101 332.jpg\n",
      "G:\\TCS Xplore\\Intern\\Sources\\DATA\\Compass\\Car's view\\VID20210429155101 333.jpg\n",
      "G:\\TCS Xplore\\Intern\\Sources\\DATA\\Compass\\Car's view\\VID20210429155101 334.jpg\n",
      "G:\\TCS Xplore\\Intern\\Sources\\DATA\\Compass\\Car's view\\VID20210429155101 335.jpg\n",
      "G:\\TCS Xplore\\Intern\\Sources\\DATA\\Compass\\Car's view\\VID20210429155101 336.jpg\n",
      "G:\\TCS Xplore\\Intern\\Sources\\DATA\\Compass\\Car's view\\VID20210429155101 337.jpg\n",
      "G:\\TCS Xplore\\Intern\\Sources\\DATA\\Compass\\Car's view\\VID20210429155101 338.jpg\n",
      "G:\\TCS Xplore\\Intern\\Sources\\DATA\\Compass\\Car's view\\VID20210429155101 339.jpg\n",
      "G:\\TCS Xplore\\Intern\\Sources\\DATA\\Compass\\Car's view\\VID20210429155101 340.jpg\n",
      "G:\\TCS Xplore\\Intern\\Sources\\DATA\\Compass\\Car's view\\VID20210429155101 341.jpg\n",
      "G:\\TCS Xplore\\Intern\\Sources\\DATA\\Compass\\Car's view\\VID20210429155101 342.jpg\n",
      "G:\\TCS Xplore\\Intern\\Sources\\DATA\\Compass\\Car's view\\VID20210429155101 343.jpg\n",
      "G:\\TCS Xplore\\Intern\\Sources\\DATA\\Compass\\Car's view\\VID20210429155101 344.jpg\n",
      "G:\\TCS Xplore\\Intern\\Sources\\DATA\\Compass\\Car's view\\VID20210429155101 345.jpg\n",
      "G:\\TCS Xplore\\Intern\\Sources\\DATA\\Compass\\Car's view\\VID20210429155101 346.jpg\n",
      "G:\\TCS Xplore\\Intern\\Sources\\DATA\\Compass\\Car's view\\VID20210429155101 347.jpg\n",
      "G:\\TCS Xplore\\Intern\\Sources\\DATA\\Compass\\Car's view\\VID20210429155101 348.jpg\n",
      "G:\\TCS Xplore\\Intern\\Sources\\DATA\\Compass\\Car's view\\VID20210429155101 349.jpg\n",
      "G:\\TCS Xplore\\Intern\\Sources\\DATA\\Compass\\Car's view\\VID20210429155101 350.jpg\n",
      "G:\\TCS Xplore\\Intern\\Sources\\DATA\\Compass\\Car's view\\VID20210429155101 351.jpg\n",
      "G:\\TCS Xplore\\Intern\\Sources\\DATA\\Compass\\Car's view\\VID20210429155101 352.jpg\n",
      "G:\\TCS Xplore\\Intern\\Sources\\DATA\\Compass\\Car's view\\VID20210429155101 353.jpg\n",
      "G:\\TCS Xplore\\Intern\\Sources\\DATA\\Compass\\Car's view\\VID20210429155101 354.jpg\n",
      "G:\\TCS Xplore\\Intern\\Sources\\DATA\\Compass\\Car's view\\VID20210429155101 355.jpg\n",
      "G:\\TCS Xplore\\Intern\\Sources\\DATA\\Compass\\Car's view\\VID20210429155101 356.jpg\n",
      "G:\\TCS Xplore\\Intern\\Sources\\DATA\\Compass\\Car's view\\VID20210429155101 357.jpg\n",
      "G:\\TCS Xplore\\Intern\\Sources\\DATA\\Compass\\Car's view\\VID20210429155101 358.jpg\n",
      "G:\\TCS Xplore\\Intern\\Sources\\DATA\\Compass\\Car's view\\VID20210429155101 359.jpg\n",
      "G:\\TCS Xplore\\Intern\\Sources\\DATA\\Compass\\Car's view\\VID20210429155101 188.jpg\n",
      "G:\\TCS Xplore\\Intern\\Sources\\DATA\\Compass\\Car's view\\VID20210429155101 189.jpg\n",
      "G:\\TCS Xplore\\Intern\\Sources\\DATA\\Compass\\Car's view\\VID20210429155101 190.jpg\n",
      "G:\\TCS Xplore\\Intern\\Sources\\DATA\\Compass\\Car's view\\VID20210429155101 191.jpg\n",
      "G:\\TCS Xplore\\Intern\\Sources\\DATA\\Compass\\Car's view\\VID20210429155101 192.jpg\n",
      "G:\\TCS Xplore\\Intern\\Sources\\DATA\\Compass\\Car's view\\VID20210429155101 193.jpg\n",
      "G:\\TCS Xplore\\Intern\\Sources\\DATA\\Compass\\Car's view\\VID20210429155101 194.jpg\n",
      "G:\\TCS Xplore\\Intern\\Sources\\DATA\\Compass\\Car's view\\VID20210429155101 195.jpg\n",
      "G:\\TCS Xplore\\Intern\\Sources\\DATA\\Compass\\Car's view\\VID20210429155101 196.jpg\n",
      "G:\\TCS Xplore\\Intern\\Sources\\DATA\\Compass\\Car's view\\VID20210429155101 197.jpg\n",
      "G:\\TCS Xplore\\Intern\\Sources\\DATA\\Compass\\Car's view\\VID20210429155101 198.jpg\n",
      "G:\\TCS Xplore\\Intern\\Sources\\DATA\\Compass\\Car's view\\VID20210429155101 199.jpg\n",
      "G:\\TCS Xplore\\Intern\\Sources\\DATA\\Compass\\Car's view\\VID20210429155101 200.jpg\n",
      "G:\\TCS Xplore\\Intern\\Sources\\DATA\\Compass\\Car's view\\VID20210429155101 201.jpg\n",
      "G:\\TCS Xplore\\Intern\\Sources\\DATA\\Compass\\Car's view\\VID20210429155101 202.jpg\n",
      "G:\\TCS Xplore\\Intern\\Sources\\DATA\\Compass\\Car's view\\VID20210429155101 203.jpg\n",
      "G:\\TCS Xplore\\Intern\\Sources\\DATA\\Compass\\Car's view\\VID20210429155101 204.jpg\n",
      "G:\\TCS Xplore\\Intern\\Sources\\DATA\\Compass\\Car's view\\VID20210429155101 205.jpg\n",
      "G:\\TCS Xplore\\Intern\\Sources\\DATA\\Compass\\Car's view\\VID20210429155101 206.jpg\n",
      "G:\\TCS Xplore\\Intern\\Sources\\DATA\\Compass\\Car's view\\VID20210429155101 207.jpg\n",
      "G:\\TCS Xplore\\Intern\\Sources\\DATA\\Compass\\Car's view\\VID20210429155101 208.jpg\n",
      "G:\\TCS Xplore\\Intern\\Sources\\DATA\\Compass\\Car's view\\VID20210429155101 209.jpg\n",
      "G:\\TCS Xplore\\Intern\\Sources\\DATA\\Compass\\Car's view\\VID20210429155101 210.jpg\n",
      "G:\\TCS Xplore\\Intern\\Sources\\DATA\\Compass\\Car's view\\VID20210429155101 211.jpg\n",
      "G:\\TCS Xplore\\Intern\\Sources\\DATA\\Compass\\Car's view\\VID20210429155101 212.jpg\n"
     ]
    },
    {
     "name": "stdout",
     "output_type": "stream",
     "text": [
      "G:\\TCS Xplore\\Intern\\Sources\\DATA\\Compass\\Car's view\\VID20210429155101 213.jpg\n",
      "G:\\TCS Xplore\\Intern\\Sources\\DATA\\Compass\\Car's view\\VID20210429155101 214.jpg\n",
      "G:\\TCS Xplore\\Intern\\Sources\\DATA\\Compass\\Car's view\\VID20210429155101 215.jpg\n",
      "G:\\TCS Xplore\\Intern\\Sources\\DATA\\Compass\\Car's view\\VID20210429155101 216.jpg\n",
      "G:\\TCS Xplore\\Intern\\Sources\\DATA\\Compass\\Car's view\\VID20210429155101 217.jpg\n",
      "G:\\TCS Xplore\\Intern\\Sources\\DATA\\Compass\\Car's view\\VID20210429155101 218.jpg\n",
      "G:\\TCS Xplore\\Intern\\Sources\\DATA\\Compass\\Car's view\\VID20210429155101 449.jpg\n",
      "G:\\TCS Xplore\\Intern\\Sources\\DATA\\Compass\\Car's view\\VID20210429155101 450.jpg\n",
      "G:\\TCS Xplore\\Intern\\Sources\\DATA\\Compass\\Car's view\\VID20210429155101 451.jpg\n",
      "G:\\TCS Xplore\\Intern\\Sources\\DATA\\Compass\\Car's view\\VID20210429155101 452.jpg\n",
      "G:\\TCS Xplore\\Intern\\Sources\\DATA\\Compass\\Car's view\\VID20210429155101 453.jpg\n",
      "G:\\TCS Xplore\\Intern\\Sources\\DATA\\Compass\\Car's view\\VID20210429155101 454.jpg\n",
      "G:\\TCS Xplore\\Intern\\Sources\\DATA\\Compass\\Car's view\\VID20210429155101 455.jpg\n",
      "G:\\TCS Xplore\\Intern\\Sources\\DATA\\Compass\\Car's view\\VID20210429155101 456.jpg\n",
      "G:\\TCS Xplore\\Intern\\Sources\\DATA\\Compass\\Car's view\\VID20210429155101 457.jpg\n",
      "G:\\TCS Xplore\\Intern\\Sources\\DATA\\Compass\\Car's view\\VID20210429155101 458.jpg\n",
      "G:\\TCS Xplore\\Intern\\Sources\\DATA\\Compass\\Car's view\\VID20210429155101 459.jpg\n",
      "G:\\TCS Xplore\\Intern\\Sources\\DATA\\Compass\\Car's view\\VID20210429155101 460.jpg\n",
      "G:\\TCS Xplore\\Intern\\Sources\\DATA\\Compass\\Car's view\\VID20210429155101 461.jpg\n",
      "G:\\TCS Xplore\\Intern\\Sources\\DATA\\Compass\\Car's view\\VID20210429155101 462.jpg\n",
      "G:\\TCS Xplore\\Intern\\Sources\\DATA\\Compass\\Car's view\\VID20210429155101 463.jpg\n",
      "G:\\TCS Xplore\\Intern\\Sources\\DATA\\Compass\\Car's view\\VID20210429155101 464.jpg\n",
      "G:\\TCS Xplore\\Intern\\Sources\\DATA\\Compass\\Car's view\\VID20210429155101 465.jpg\n",
      "G:\\TCS Xplore\\Intern\\Sources\\DATA\\Compass\\Car's view\\VID20210429155101 466.jpg\n",
      "G:\\TCS Xplore\\Intern\\Sources\\DATA\\Compass\\Car's view\\VID20210429155101 467.jpg\n",
      "G:\\TCS Xplore\\Intern\\Sources\\DATA\\Compass\\Car's view\\VID20210429155101 468.jpg\n",
      "G:\\TCS Xplore\\Intern\\Sources\\DATA\\Compass\\Car's view\\VID20210429155101 469.jpg\n",
      "G:\\TCS Xplore\\Intern\\Sources\\DATA\\Compass\\Car's view\\VID20210429155101 470.jpg\n",
      "G:\\TCS Xplore\\Intern\\Sources\\DATA\\Compass\\Car's view\\VID20210429155101 471.jpg\n",
      "G:\\TCS Xplore\\Intern\\Sources\\DATA\\Compass\\Car's view\\VID20210429155101 472.jpg\n",
      "G:\\TCS Xplore\\Intern\\Sources\\DATA\\Compass\\Car's view\\VID20210429155101 473.jpg\n",
      "G:\\TCS Xplore\\Intern\\Sources\\DATA\\Compass\\Car's view\\VID20210429155101 474.jpg\n",
      "G:\\TCS Xplore\\Intern\\Sources\\DATA\\Compass\\Car's view\\VID20210429155101 475.jpg\n",
      "G:\\TCS Xplore\\Intern\\Sources\\DATA\\Compass\\Car's view\\VID20210429155101 476.jpg\n",
      "G:\\TCS Xplore\\Intern\\Sources\\DATA\\Compass\\Car's view\\VID20210429155101 477.jpg\n",
      "G:\\TCS Xplore\\Intern\\Sources\\DATA\\Compass\\Car's view\\VID20210429155101 478.jpg\n",
      "G:\\TCS Xplore\\Intern\\Sources\\DATA\\Compass\\Car's view\\VID20210429155101 479.jpg\n",
      "G:\\TCS Xplore\\Intern\\Sources\\DATA\\Compass\\Car's view\\VID20210429155101 480.jpg\n",
      "G:\\TCS Xplore\\Intern\\Sources\\DATA\\Compass\\Car's view\\VID20210429155101 481.jpg\n",
      "G:\\TCS Xplore\\Intern\\Sources\\DATA\\Compass\\Car's view\\VID20210429155101 482.jpg\n",
      "G:\\TCS Xplore\\Intern\\Sources\\DATA\\Compass\\Car's view\\VID20210429155101 483.jpg\n",
      "G:\\TCS Xplore\\Intern\\Sources\\DATA\\Compass\\Car's view\\VID20210429155101 108.jpg\n",
      "G:\\TCS Xplore\\Intern\\Sources\\DATA\\Compass\\Car's view\\VID20210429155101 109.jpg\n",
      "G:\\TCS Xplore\\Intern\\Sources\\DATA\\Compass\\Car's view\\VID20210429155101 110.jpg\n",
      "G:\\TCS Xplore\\Intern\\Sources\\DATA\\Compass\\Car's view\\VID20210429155101 111.jpg\n",
      "G:\\TCS Xplore\\Intern\\Sources\\DATA\\Compass\\Car's view\\VID20210429155101 112.jpg\n",
      "G:\\TCS Xplore\\Intern\\Sources\\DATA\\Compass\\Car's view\\VID20210429155101 113.jpg\n",
      "G:\\TCS Xplore\\Intern\\Sources\\DATA\\Compass\\Car's view\\VID20210429155101 114.jpg\n",
      "G:\\TCS Xplore\\Intern\\Sources\\DATA\\Compass\\Car's view\\VID20210429155101 115.jpg\n",
      "G:\\TCS Xplore\\Intern\\Sources\\DATA\\Compass\\Car's view\\VID20210429155101 116.jpg\n",
      "G:\\TCS Xplore\\Intern\\Sources\\DATA\\Compass\\Car's view\\VID20210429155101 117.jpg\n",
      "G:\\TCS Xplore\\Intern\\Sources\\DATA\\Compass\\Car's view\\VID20210429155101 118.jpg\n",
      "G:\\TCS Xplore\\Intern\\Sources\\DATA\\Compass\\Car's view\\VID20210429155101 119.jpg\n",
      "G:\\TCS Xplore\\Intern\\Sources\\DATA\\Compass\\Car's view\\VID20210429155101 120.jpg\n",
      "G:\\TCS Xplore\\Intern\\Sources\\DATA\\Compass\\Car's view\\VID20210429155101 121.jpg\n",
      "G:\\TCS Xplore\\Intern\\Sources\\DATA\\Compass\\Car's view\\VID20210429155101 122.jpg\n",
      "G:\\TCS Xplore\\Intern\\Sources\\DATA\\Compass\\Car's view\\VID20210429155101 123.jpg\n",
      "G:\\TCS Xplore\\Intern\\Sources\\DATA\\Compass\\Car's view\\VID20210429155101 124.jpg\n",
      "G:\\TCS Xplore\\Intern\\Sources\\DATA\\Compass\\Car's view\\VID20210429155101 125.jpg\n",
      "G:\\TCS Xplore\\Intern\\Sources\\DATA\\Compass\\Car's view\\VID20210429155101 126.jpg\n",
      "G:\\TCS Xplore\\Intern\\Sources\\DATA\\Compass\\Car's view\\VID20210429155101 127.jpg\n",
      "G:\\TCS Xplore\\Intern\\Sources\\DATA\\Compass\\Car's view\\VID20210429155101 128.jpg\n",
      "G:\\TCS Xplore\\Intern\\Sources\\DATA\\Compass\\Car's view\\VID20210429155101 129.jpg\n",
      "G:\\TCS Xplore\\Intern\\Sources\\DATA\\Compass\\Car's view\\VID20210429155101 130.jpg\n",
      "G:\\TCS Xplore\\Intern\\Sources\\DATA\\Compass\\Car's view\\VID20210429155101 131.jpg\n",
      "G:\\TCS Xplore\\Intern\\Sources\\DATA\\Compass\\Car's view\\VID20210429155101 132.jpg\n",
      "G:\\TCS Xplore\\Intern\\Sources\\DATA\\Compass\\Car's view\\VID20210429155101 133.jpg\n",
      "G:\\TCS Xplore\\Intern\\Sources\\DATA\\Compass\\Car's view\\VID20210429155101 134.jpg\n",
      "G:\\TCS Xplore\\Intern\\Sources\\DATA\\Compass\\Car's view\\VID20210429155101 135.jpg\n",
      "G:\\TCS Xplore\\Intern\\Sources\\DATA\\Compass\\Car's view\\VID20210429155101 136.jpg\n",
      "G:\\TCS Xplore\\Intern\\Sources\\DATA\\Compass\\Car's view\\VID20210429155101 137.jpg\n",
      "G:\\TCS Xplore\\Intern\\Sources\\DATA\\Compass\\Car's view\\VID20210429155101 138.jpg\n",
      "G:\\TCS Xplore\\Intern\\Sources\\DATA\\Compass\\Car's view\\VID20210429155101 139.jpg\n",
      "G:\\TCS Xplore\\Intern\\Sources\\DATA\\Compass\\Car's view\\VID20210429155101 140.jpg\n",
      "G:\\TCS Xplore\\Intern\\Sources\\DATA\\Compass\\Car's view\\VID20210429155101 255.jpg\n",
      "G:\\TCS Xplore\\Intern\\Sources\\DATA\\Compass\\Car's view\\VID20210429155101 256.jpg\n",
      "G:\\TCS Xplore\\Intern\\Sources\\DATA\\Compass\\Car's view\\VID20210429155101 257.jpg\n",
      "G:\\TCS Xplore\\Intern\\Sources\\DATA\\Compass\\Car's view\\VID20210429155101 258.jpg\n",
      "G:\\TCS Xplore\\Intern\\Sources\\DATA\\Compass\\Car's view\\VID20210429155101 259.jpg\n",
      "G:\\TCS Xplore\\Intern\\Sources\\DATA\\Compass\\Car's view\\VID20210429155101 260.jpg\n",
      "G:\\TCS Xplore\\Intern\\Sources\\DATA\\Compass\\Car's view\\VID20210429155101 261.jpg\n",
      "G:\\TCS Xplore\\Intern\\Sources\\DATA\\Compass\\Car's view\\VID20210429155101 262.jpg\n",
      "G:\\TCS Xplore\\Intern\\Sources\\DATA\\Compass\\Car's view\\VID20210429155101 263.jpg\n",
      "G:\\TCS Xplore\\Intern\\Sources\\DATA\\Compass\\Car's view\\VID20210429155101 264.jpg\n",
      "G:\\TCS Xplore\\Intern\\Sources\\DATA\\Compass\\Car's view\\VID20210429155101 265.jpg\n",
      "G:\\TCS Xplore\\Intern\\Sources\\DATA\\Compass\\Car's view\\VID20210429155101 266.jpg\n",
      "G:\\TCS Xplore\\Intern\\Sources\\DATA\\Compass\\Car's view\\VID20210429155101 267.jpg\n",
      "G:\\TCS Xplore\\Intern\\Sources\\DATA\\Compass\\Car's view\\VID20210429155101 268.jpg\n",
      "G:\\TCS Xplore\\Intern\\Sources\\DATA\\Compass\\Car's view\\VID20210429155101 269.jpg\n",
      "G:\\TCS Xplore\\Intern\\Sources\\DATA\\Compass\\Car's view\\VID20210429155101 270.jpg\n",
      "G:\\TCS Xplore\\Intern\\Sources\\DATA\\Compass\\Car's view\\VID20210429155101 271.jpg\n",
      "G:\\TCS Xplore\\Intern\\Sources\\DATA\\Compass\\Car's view\\VID20210429155101 272.jpg\n",
      "G:\\TCS Xplore\\Intern\\Sources\\DATA\\Compass\\Car's view\\VID20210429155101 273.jpg\n",
      "G:\\TCS Xplore\\Intern\\Sources\\DATA\\Compass\\Car's view\\VID20210429155101 274.jpg\n",
      "G:\\TCS Xplore\\Intern\\Sources\\DATA\\Compass\\Car's view\\VID20210429155101 275.jpg\n",
      "G:\\TCS Xplore\\Intern\\Sources\\DATA\\Compass\\Car's view\\VID20210429155101 276.jpg\n",
      "G:\\TCS Xplore\\Intern\\Sources\\DATA\\Compass\\Car's view\\VID20210429155101 277.jpg\n",
      "G:\\TCS Xplore\\Intern\\Sources\\DATA\\Compass\\Car's view\\VID20210429155101 278.jpg\n",
      "G:\\TCS Xplore\\Intern\\Sources\\DATA\\Compass\\Car's view\\VID20210429155101 279.jpg\n",
      "G:\\TCS Xplore\\Intern\\Sources\\DATA\\Compass\\Car's view\\VID20210429155101 280.jpg\n",
      "G:\\TCS Xplore\\Intern\\Sources\\DATA\\Compass\\Car's view\\VID20210429155101 385.jpg\n",
      "G:\\TCS Xplore\\Intern\\Sources\\DATA\\Compass\\Car's view\\VID20210429155101 386.jpg\n",
      "G:\\TCS Xplore\\Intern\\Sources\\DATA\\Compass\\Car's view\\VID20210429155101 387.jpg\n",
      "G:\\TCS Xplore\\Intern\\Sources\\DATA\\Compass\\Car's view\\VID20210429155101 388.jpg\n",
      "G:\\TCS Xplore\\Intern\\Sources\\DATA\\Compass\\Car's view\\VID20210429155101 389.jpg\n"
     ]
    },
    {
     "name": "stdout",
     "output_type": "stream",
     "text": [
      "G:\\TCS Xplore\\Intern\\Sources\\DATA\\Compass\\Car's view\\VID20210429155101 390.jpg\n",
      "G:\\TCS Xplore\\Intern\\Sources\\DATA\\Compass\\Car's view\\VID20210429155101 391.jpg\n",
      "G:\\TCS Xplore\\Intern\\Sources\\DATA\\Compass\\Car's view\\VID20210429155101 392.jpg\n",
      "G:\\TCS Xplore\\Intern\\Sources\\DATA\\Compass\\Car's view\\VID20210429155101 393.jpg\n",
      "G:\\TCS Xplore\\Intern\\Sources\\DATA\\Compass\\Car's view\\VID20210429155101 394.jpg\n",
      "G:\\TCS Xplore\\Intern\\Sources\\DATA\\Compass\\Car's view\\VID20210429155101 395.jpg\n",
      "G:\\TCS Xplore\\Intern\\Sources\\DATA\\Compass\\Car's view\\VID20210429155101 396.jpg\n",
      "G:\\TCS Xplore\\Intern\\Sources\\DATA\\Compass\\Car's view\\VID20210429155101 397.jpg\n",
      "G:\\TCS Xplore\\Intern\\Sources\\DATA\\Compass\\Car's view\\VID20210429155101 398.jpg\n",
      "G:\\TCS Xplore\\Intern\\Sources\\DATA\\Compass\\Car's view\\VID20210429155101 399.jpg\n",
      "G:\\TCS Xplore\\Intern\\Sources\\DATA\\Compass\\Car's view\\VID20210429155101 400.jpg\n",
      "G:\\TCS Xplore\\Intern\\Sources\\DATA\\Compass\\Car's view\\VID20210429155101 401.jpg\n",
      "G:\\TCS Xplore\\Intern\\Sources\\DATA\\Compass\\Car's view\\VID20210429155101 402.jpg\n",
      "G:\\TCS Xplore\\Intern\\Sources\\DATA\\Compass\\Car's view\\VID20210429155101 403.jpg\n",
      "G:\\TCS Xplore\\Intern\\Sources\\DATA\\Compass\\Car's view\\VID20210429155101 404.jpg\n",
      "G:\\TCS Xplore\\Intern\\Sources\\DATA\\Compass\\Car's view\\VID20210429155101 405.jpg\n",
      "G:\\TCS Xplore\\Intern\\Sources\\DATA\\Compass\\Car's view\\VID20210429155101 406.jpg\n",
      "G:\\TCS Xplore\\Intern\\Sources\\DATA\\Compass\\Car's view\\VID20210429155101 407.jpg\n",
      "G:\\TCS Xplore\\Intern\\Sources\\DATA\\Compass\\Car's view\\VID20210429155101 408.jpg\n",
      "G:\\TCS Xplore\\Intern\\Sources\\DATA\\Compass\\Car's view\\VID20210429155101 409.jpg\n",
      "G:\\TCS Xplore\\Intern\\Sources\\DATA\\Compass\\Car's view\\VID20210429155101 410.jpg\n",
      "G:\\TCS Xplore\\Intern\\Sources\\DATA\\Compass\\Car's view\\VID20210429155101 411.jpg\n",
      "G:\\TCS Xplore\\Intern\\Sources\\DATA\\Compass\\Car's view\\VID20210429155101 412.jpg\n",
      "G:\\TCS Xplore\\Intern\\Sources\\DATA\\Compass\\Car's view\\VID20210429155101 413.jpg\n",
      "G:\\TCS Xplore\\Intern\\Sources\\DATA\\Compass\\Car's view\\VID20210429155101 414.jpg\n",
      "G:\\TCS Xplore\\Intern\\Sources\\DATA\\Compass\\Car's view\\VID20210429155101 415.jpg\n",
      "G:\\TCS Xplore\\Intern\\Sources\\DATA\\Compass\\Car's view\\VID20210429155101 416.jpg\n",
      "G:\\TCS Xplore\\Intern\\Sources\\DATA\\Compass\\Car's view\\VID20210429155101 417.jpg\n",
      "G:\\TCS Xplore\\Intern\\Sources\\DATA\\Compass\\Car's view\\VID20210429155101 418.jpg\n",
      "G:\\TCS Xplore\\Intern\\Sources\\DATA\\Compass\\Car's view\\VID20210429155101 419.jpg\n"
     ]
    }
   ],
   "source": [
    "#copying images where vehicle takes turn to turns folders \n",
    "for i in d:\n",
    "    pd = os.path.join(parent_dir,i[0])\n",
    "    for j in range(len(i[1])):\n",
    "        path=os.path.join(pd,str(j))\n",
    "        #print(path)\n",
    "        for k in range(i[1][j][0],i[1][j][1]+1):\n",
    "            m=str(k)\n",
    "            if(len(m)<3):\n",
    "                m='0'*(3-len(m))+m\n",
    "            print(img+m+'.jpg')\n",
    "            shutil.copy(img+m+'.jpg',path)"
   ]
  },
  {
   "cell_type": "code",
   "execution_count": 37,
   "id": "f4ea48ce",
   "metadata": {
    "scrolled": true
   },
   "outputs": [
    {
     "data": {
      "text/plain": [
       "[['Right Turn', [[26, 63], [316, 359]]],\n",
       " ['Left Turn', [[188, 218], [449, 483]]],\n",
       " ['Right U Turn', [[108, 140], [255, 280], [385, 419]]],\n",
       " ['Left U Turn', []]]"
      ]
     },
     "execution_count": 37,
     "metadata": {},
     "output_type": "execute_result"
    }
   ],
   "source": [
    "d"
   ]
  },
  {
   "cell_type": "code",
   "execution_count": null,
   "id": "7d3af0b2",
   "metadata": {},
   "outputs": [],
   "source": []
  },
  {
   "cell_type": "code",
   "execution_count": null,
   "id": "1dd4196f",
   "metadata": {},
   "outputs": [],
   "source": []
  },
  {
   "cell_type": "code",
   "execution_count": null,
   "id": "210bce5f",
   "metadata": {},
   "outputs": [],
   "source": [
    "files = ['file1.txt', 'file2.txt', 'file3.txt']"
   ]
  },
  {
   "cell_type": "code",
   "execution_count": null,
   "id": "9bf516e4",
   "metadata": {},
   "outputs": [],
   "source": [
    "for f in files:\n",
    "    shutil.copy(f, 'dest_folder')"
   ]
  },
  {
   "cell_type": "code",
   "execution_count": null,
   "id": "2ddd3965",
   "metadata": {},
   "outputs": [],
   "source": [
    "inx(x,64)"
   ]
  },
  {
   "cell_type": "code",
   "execution_count": null,
   "id": "5b35fb0f",
   "metadata": {},
   "outputs": [],
   "source": [
    "x[356]-x[332]"
   ]
  },
  {
   "cell_type": "code",
   "execution_count": null,
   "id": "c4e45906",
   "metadata": {},
   "outputs": [],
   "source": [
    "import numpy as np\n",
    "from scipy.signal import argrelextrema"
   ]
  },
  {
   "cell_type": "code",
   "execution_count": null,
   "id": "eb275f3c",
   "metadata": {},
   "outputs": [],
   "source": [
    "x=np.array(x)"
   ]
  },
  {
   "cell_type": "code",
   "execution_count": null,
   "id": "58cb146c",
   "metadata": {},
   "outputs": [],
   "source": [
    "# for local maxima\n",
    "argrelextrema(x, np.greater)"
   ]
  },
  {
   "cell_type": "code",
   "execution_count": null,
   "id": "a406d2aa",
   "metadata": {},
   "outputs": [],
   "source": [
    "# for local minima\n",
    "argrelextrema(x, np.less)"
   ]
  }
 ],
 "metadata": {
  "kernelspec": {
   "display_name": "Python 3",
   "language": "python",
   "name": "python3"
  },
  "language_info": {
   "codemirror_mode": {
    "name": "ipython",
    "version": 3
   },
   "file_extension": ".py",
   "mimetype": "text/x-python",
   "name": "python",
   "nbconvert_exporter": "python",
   "pygments_lexer": "ipython3",
   "version": "3.8.8"
  }
 },
 "nbformat": 4,
 "nbformat_minor": 5
}

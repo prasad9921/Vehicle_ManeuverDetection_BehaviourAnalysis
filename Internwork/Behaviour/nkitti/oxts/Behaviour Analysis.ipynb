{
 "cells": [
  {
   "cell_type": "code",
   "execution_count": 1,
   "id": "df401a04",
   "metadata": {},
   "outputs": [
    {
     "name": "stdout",
     "output_type": "stream",
     "text": [
      "['49.011226504293', '8.4228780174545', '112.79475402832', '0.025982', '-0.013047', '-1.2879616732051', '-3.5890958450448', '0.95452975301369', '3.7134915845511', '0.051141572733954', '-0.010773306562982', '-0.3568566479525', '0.45581696413481', '10.203606921496', '-0.4709244694932', '0.19291236849087', '10.207925285174', '0.0053499414661754', '-0.029610852925611', '0.15884187852504', '0.0035853053045718', '-0.03368917942587', '0.15811623321851', '0.49229361157748', '0.068883960397178', '4', '11', '4', '4', '0']\n"
     ]
    }
   ],
   "source": [
    "f = open(\"data/0000000000.txt\", \"r\")\n",
    "l=[]\n",
    "for x in f:\n",
    "    a=x.split()\n",
    "    l.append(a)\n",
    "    print(a)"
   ]
  },
  {
   "cell_type": "code",
   "execution_count": 1,
   "id": "41aac1ad",
   "metadata": {},
   "outputs": [],
   "source": [
    "la=[]\n",
    "lo=[]\n",
    "a1=[]\n",
    "b=[]\n",
    "c=[]\n",
    "for i in range(1648):\n",
    "    x=str(i)\n",
    "    s='0'*(10-len(x))+x+'.txt'\n",
    "    f=open(\"data/\"+s, \"r\")\n",
    "    for x in f:\n",
    "        a=x.split()\n",
    "        la.append(float(a[0]))\n",
    "        lo.append(float(a[1]))\n",
    "        a1.append(float(a[3]))\n",
    "        b.append(float(a[4]))\n",
    "        c.append(float(a[5]))"
   ]
  },
  {
   "cell_type": "code",
   "execution_count": 2,
   "id": "ef30dca3",
   "metadata": {},
   "outputs": [
    {
     "ename": "ModuleNotFoundError",
     "evalue": "No module named 'sklearn'",
     "output_type": "error",
     "traceback": [
      "\u001b[1;31m---------------------------------------------------------------------------\u001b[0m",
      "\u001b[1;31mModuleNotFoundError\u001b[0m                       Traceback (most recent call last)",
      "\u001b[1;32m~\\AppData\\Local\\Temp/ipykernel_9080/1139614812.py\u001b[0m in \u001b[0;36m<module>\u001b[1;34m\u001b[0m\n\u001b[0;32m      3\u001b[0m \u001b[1;32mimport\u001b[0m \u001b[0mmatplotlib\u001b[0m\u001b[1;33m.\u001b[0m\u001b[0mpyplot\u001b[0m \u001b[1;32mas\u001b[0m \u001b[0mplt\u001b[0m\u001b[1;33m\u001b[0m\u001b[1;33m\u001b[0m\u001b[0m\n\u001b[0;32m      4\u001b[0m \u001b[1;32mimport\u001b[0m \u001b[0mseaborn\u001b[0m \u001b[1;32mas\u001b[0m \u001b[0msns\u001b[0m\u001b[1;33m\u001b[0m\u001b[1;33m\u001b[0m\u001b[0m\n\u001b[1;32m----> 5\u001b[1;33m \u001b[1;32mimport\u001b[0m \u001b[0msklearn\u001b[0m \u001b[1;32mas\u001b[0m \u001b[0msk\u001b[0m\u001b[1;33m\u001b[0m\u001b[1;33m\u001b[0m\u001b[0m\n\u001b[0m\u001b[0;32m      6\u001b[0m \u001b[0mget_ipython\u001b[0m\u001b[1;33m(\u001b[0m\u001b[1;33m)\u001b[0m\u001b[1;33m.\u001b[0m\u001b[0mrun_line_magic\u001b[0m\u001b[1;33m(\u001b[0m\u001b[1;34m'matplotlib'\u001b[0m\u001b[1;33m,\u001b[0m \u001b[1;34m'inline'\u001b[0m\u001b[1;33m)\u001b[0m\u001b[1;33m\u001b[0m\u001b[1;33m\u001b[0m\u001b[0m\n",
      "\u001b[1;31mModuleNotFoundError\u001b[0m: No module named 'sklearn'"
     ]
    }
   ],
   "source": [
    "import numpy as np\n",
    "import pandas as pd\n",
    "import matplotlib.pyplot as plt\n",
    "import seaborn as sns\n",
    "import sklearn as sk\n",
    "%matplotlib inline"
   ]
  },
  {
   "cell_type": "code",
   "execution_count": 3,
   "id": "e71741c5",
   "metadata": {},
   "outputs": [],
   "source": [
    "d=pd.DataFrame([np.array(la),np.array(lo),np.array(a1),np.array(b),np.array(c)])"
   ]
  },
  {
   "cell_type": "code",
   "execution_count": 4,
   "id": "d2391e05",
   "metadata": {},
   "outputs": [],
   "source": [
    "d=d.T"
   ]
  },
  {
   "cell_type": "code",
   "execution_count": 5,
   "id": "9a7191ba",
   "metadata": {},
   "outputs": [
    {
     "data": {
      "text/html": [
       "<div>\n",
       "<style scoped>\n",
       "    .dataframe tbody tr th:only-of-type {\n",
       "        vertical-align: middle;\n",
       "    }\n",
       "\n",
       "    .dataframe tbody tr th {\n",
       "        vertical-align: top;\n",
       "    }\n",
       "\n",
       "    .dataframe thead th {\n",
       "        text-align: right;\n",
       "    }\n",
       "</style>\n",
       "<table border=\"1\" class=\"dataframe\">\n",
       "  <thead>\n",
       "    <tr style=\"text-align: right;\">\n",
       "      <th></th>\n",
       "      <th>0</th>\n",
       "      <th>1</th>\n",
       "      <th>2</th>\n",
       "      <th>3</th>\n",
       "      <th>4</th>\n",
       "    </tr>\n",
       "  </thead>\n",
       "  <tbody>\n",
       "    <tr>\n",
       "      <th>0</th>\n",
       "      <td>49.011227</td>\n",
       "      <td>8.422878</td>\n",
       "      <td>0.025982</td>\n",
       "      <td>-0.013047</td>\n",
       "      <td>-1.287962</td>\n",
       "    </tr>\n",
       "    <tr>\n",
       "      <th>1</th>\n",
       "      <td>49.011226</td>\n",
       "      <td>8.422878</td>\n",
       "      <td>0.026346</td>\n",
       "      <td>-0.013242</td>\n",
       "      <td>-1.286318</td>\n",
       "    </tr>\n",
       "    <tr>\n",
       "      <th>2</th>\n",
       "      <td>49.011226</td>\n",
       "      <td>8.422878</td>\n",
       "      <td>0.026712</td>\n",
       "      <td>-0.013469</td>\n",
       "      <td>-1.284915</td>\n",
       "    </tr>\n",
       "    <tr>\n",
       "      <th>3</th>\n",
       "      <td>49.011226</td>\n",
       "      <td>8.422878</td>\n",
       "      <td>0.027125</td>\n",
       "      <td>-0.013598</td>\n",
       "      <td>-1.283393</td>\n",
       "    </tr>\n",
       "    <tr>\n",
       "      <th>4</th>\n",
       "      <td>49.011225</td>\n",
       "      <td>8.422879</td>\n",
       "      <td>0.027577</td>\n",
       "      <td>-0.013621</td>\n",
       "      <td>-1.281920</td>\n",
       "    </tr>\n",
       "  </tbody>\n",
       "</table>\n",
       "</div>"
      ],
      "text/plain": [
       "           0         1         2         3         4\n",
       "0  49.011227  8.422878  0.025982 -0.013047 -1.287962\n",
       "1  49.011226  8.422878  0.026346 -0.013242 -1.286318\n",
       "2  49.011226  8.422878  0.026712 -0.013469 -1.284915\n",
       "3  49.011226  8.422878  0.027125 -0.013598 -1.283393\n",
       "4  49.011225  8.422879  0.027577 -0.013621 -1.281920"
      ]
     },
     "execution_count": 5,
     "metadata": {},
     "output_type": "execute_result"
    }
   ],
   "source": [
    "d.head()"
   ]
  },
  {
   "cell_type": "code",
   "execution_count": 6,
   "id": "8d37d34d",
   "metadata": {},
   "outputs": [],
   "source": [
    "d.rename(columns = {0: 'Lat', 1: 'Lon',2:'roll',3:'pitch',4:'yaw'}, inplace = True)"
   ]
  },
  {
   "cell_type": "code",
   "execution_count": 7,
   "id": "9f66fde3",
   "metadata": {
    "scrolled": false
   },
   "outputs": [
    {
     "data": {
      "text/html": [
       "<div>\n",
       "<style scoped>\n",
       "    .dataframe tbody tr th:only-of-type {\n",
       "        vertical-align: middle;\n",
       "    }\n",
       "\n",
       "    .dataframe tbody tr th {\n",
       "        vertical-align: top;\n",
       "    }\n",
       "\n",
       "    .dataframe thead th {\n",
       "        text-align: right;\n",
       "    }\n",
       "</style>\n",
       "<table border=\"1\" class=\"dataframe\">\n",
       "  <thead>\n",
       "    <tr style=\"text-align: right;\">\n",
       "      <th></th>\n",
       "      <th>Lat</th>\n",
       "      <th>Lon</th>\n",
       "      <th>roll</th>\n",
       "      <th>pitch</th>\n",
       "      <th>yaw</th>\n",
       "    </tr>\n",
       "  </thead>\n",
       "  <tbody>\n",
       "    <tr>\n",
       "      <th>0</th>\n",
       "      <td>49.011227</td>\n",
       "      <td>8.422878</td>\n",
       "      <td>0.025982</td>\n",
       "      <td>-0.013047</td>\n",
       "      <td>-1.287962</td>\n",
       "    </tr>\n",
       "    <tr>\n",
       "      <th>1</th>\n",
       "      <td>49.011226</td>\n",
       "      <td>8.422878</td>\n",
       "      <td>0.026346</td>\n",
       "      <td>-0.013242</td>\n",
       "      <td>-1.286318</td>\n",
       "    </tr>\n",
       "    <tr>\n",
       "      <th>2</th>\n",
       "      <td>49.011226</td>\n",
       "      <td>8.422878</td>\n",
       "      <td>0.026712</td>\n",
       "      <td>-0.013469</td>\n",
       "      <td>-1.284915</td>\n",
       "    </tr>\n",
       "    <tr>\n",
       "      <th>3</th>\n",
       "      <td>49.011226</td>\n",
       "      <td>8.422878</td>\n",
       "      <td>0.027125</td>\n",
       "      <td>-0.013598</td>\n",
       "      <td>-1.283393</td>\n",
       "    </tr>\n",
       "    <tr>\n",
       "      <th>4</th>\n",
       "      <td>49.011225</td>\n",
       "      <td>8.422879</td>\n",
       "      <td>0.027577</td>\n",
       "      <td>-0.013621</td>\n",
       "      <td>-1.281920</td>\n",
       "    </tr>\n",
       "  </tbody>\n",
       "</table>\n",
       "</div>"
      ],
      "text/plain": [
       "         Lat       Lon      roll     pitch       yaw\n",
       "0  49.011227  8.422878  0.025982 -0.013047 -1.287962\n",
       "1  49.011226  8.422878  0.026346 -0.013242 -1.286318\n",
       "2  49.011226  8.422878  0.026712 -0.013469 -1.284915\n",
       "3  49.011226  8.422878  0.027125 -0.013598 -1.283393\n",
       "4  49.011225  8.422879  0.027577 -0.013621 -1.281920"
      ]
     },
     "execution_count": 7,
     "metadata": {},
     "output_type": "execute_result"
    }
   ],
   "source": [
    "d.head()"
   ]
  },
  {
   "cell_type": "code",
   "execution_count": 9,
   "id": "cad8f596",
   "metadata": {
    "scrolled": false
   },
   "outputs": [
    {
     "name": "stdout",
     "output_type": "stream",
     "text": [
      "<class 'pandas.core.frame.DataFrame'>\n",
      "RangeIndex: 1648 entries, 0 to 1647\n",
      "Data columns (total 5 columns):\n",
      " #   Column  Non-Null Count  Dtype  \n",
      "---  ------  --------------  -----  \n",
      " 0   Lat     1648 non-null   float64\n",
      " 1   Lon     1648 non-null   float64\n",
      " 2   roll    1648 non-null   float64\n",
      " 3   pitch   1648 non-null   float64\n",
      " 4   yaw     1648 non-null   float64\n",
      "dtypes: float64(5)\n",
      "memory usage: 64.5 KB\n"
     ]
    }
   ],
   "source": [
    "d.info()"
   ]
  },
  {
   "cell_type": "code",
   "execution_count": 10,
   "id": "dc2a0826",
   "metadata": {},
   "outputs": [],
   "source": [
    "import math\n",
    "def an(lat1,lo1):\n",
    "    lat2=16.52638889\n",
    "    lo2=80.64527778\n",
    "    dlo=lo2-lo1\n",
    "    y=math.sin(dlo)*math.cos(lat2)\n",
    "    x=math.cos(lat1)*math.sin(lat2)-math.sin(lat1)*math.cos(lat2)*math.cos(dlo)\n",
    "    z = math.atan2(y, x)\n",
    "    z = math.degrees(z)\n",
    "    z = (z + 360) % 360\n",
    "    return int(z)"
   ]
  },
  {
   "cell_type": "code",
   "execution_count": 11,
   "id": "44505053",
   "metadata": {},
   "outputs": [],
   "source": [
    "import math\n",
    "def an1(lat1,lo1,lat2,lo2):\n",
    "    dlo=lo2-lo1\n",
    "    y=math.sin(dlo)*math.cos(lat2)\n",
    "    x=math.cos(lat1)*math.sin(lat2)-math.sin(lat1)*math.cos(lat2)*math.cos(dlo)\n",
    "    z = math.atan2(y, x)\n",
    "    z = math.degrees(z)\n",
    "    z = (z + 360) % 360\n",
    "    return int(z)"
   ]
  },
  {
   "cell_type": "code",
   "execution_count": 12,
   "id": "2fd3d885",
   "metadata": {},
   "outputs": [],
   "source": [
    "def vector_calc(lat, long, ht):\n",
    "    '''\n",
    "    Calculates the vector from a specified point on the Earth's surface to the North Pole.\n",
    "    '''\n",
    "    a = 6378137.0  # Equatorial radius of the Earth\n",
    "    b = 6356752.314245  # Polar radius of the Earth\n",
    "\n",
    "    e_squared = 1 - ((b ** 2) / (a ** 2))  # e is the eccentricity of the Earth\n",
    "    n_phi = a / (np.sqrt(1 - (e_squared * (np.sin(lat) ** 2))))\n",
    "\n",
    "    x = (n_phi + ht) * np.cos(lat) * np.cos(long)\n",
    "    y = (n_phi + ht) * np.cos(lat) * np.sin(long)\n",
    "    z = ((((b ** 2) / (a ** 2)) * n_phi) + ht) * np.sin(lat)\n",
    "\n",
    "    x_npole = 0.0\n",
    "    y_npole = 6378137.0\n",
    "    z_npole = 0.0\n",
    "\n",
    "    v = ((x_npole - x), (y_npole - y), (z_npole - z))\n",
    "\n",
    "    return v"
   ]
  },
  {
   "cell_type": "code",
   "execution_count": 13,
   "id": "37471dcc",
   "metadata": {},
   "outputs": [],
   "source": [
    "def anc(lat2,long2, ht1=0, ht2=0):\n",
    "    '''\n",
    "    Calculates the angle between the vectors from 2 points to the North Pole.\n",
    "    '''\n",
    "    # Convert from degrees to radians\n",
    "    lat1=16.52638889\n",
    "    long1=80.64527778\n",
    "    lat1_rad = (lat1 / 180) * np.pi\n",
    "    long1_rad = (long1 / 180) * np.pi\n",
    "    lat2_rad = (lat2 / 180) * np.pi\n",
    "    long2_rad = (long2 / 180) * np.pi\n",
    "\n",
    "    v1 = vector_calc(lat1_rad, long1_rad, ht1)\n",
    "    v2 = vector_calc(lat2_rad, long2_rad, ht2)\n",
    "\n",
    "    # The angle between two vectors, vect1 and vect2 is given by:\n",
    "    # arccos[vect1.vect2 / |vect1||vect2|]\n",
    "    dot = np.dot(v1, v2)  # The dot product of the two vectors\n",
    "    v1_mag = np.linalg.norm(v1)  # The magnitude of the vector v1\n",
    "    v2_mag = np.linalg.norm(v2)  # The magnitude of the vector v2\n",
    "\n",
    "    theta_rad = np.arccos(dot / (v1_mag * v2_mag))\n",
    "    # Convert radians back to degrees\n",
    "    theta = (theta_rad / np.pi) * 180\n",
    "\n",
    "    return theta"
   ]
  },
  {
   "cell_type": "code",
   "execution_count": 14,
   "id": "8569c597",
   "metadata": {},
   "outputs": [],
   "source": [
    "def anc1(lat1,long1,lat2,long2, ht1=0, ht2=0):\n",
    "    '''\n",
    "    Calculates the angle between the vectors from 2 points to the North Pole.\n",
    "    '''\n",
    "    # Convert from degrees to radians\n",
    "    lat1_rad = (lat1 / 180) * np.pi\n",
    "    long1_rad = (long1 / 180) * np.pi\n",
    "    lat2_rad = (lat2 / 180) * np.pi\n",
    "    long2_rad = (long2 / 180) * np.pi\n",
    "\n",
    "    v1 = vector_calc(lat1_rad, long1_rad, ht1)\n",
    "    v2 = vector_calc(lat2_rad, long2_rad, ht2)\n",
    "\n",
    "    # The angle between two vectors, vect1 and vect2 is given by:\n",
    "    # arccos[vect1.vect2 / |vect1||vect2|]\n",
    "    dot = np.dot(v1, v2)  # The dot product of the two vectors\n",
    "    v1_mag = np.linalg.norm(v1)  # The magnitude of the vector v1\n",
    "    v2_mag = np.linalg.norm(v2)  # The magnitude of the vector v2\n",
    "\n",
    "    theta_rad = np.arccos(dot / (v1_mag * v2_mag))\n",
    "    # Convert radians back to degrees\n",
    "    theta = (theta_rad / np.pi) * 180\n",
    "\n",
    "    return theta"
   ]
  },
  {
   "cell_type": "code",
   "execution_count": 15,
   "id": "854be76b",
   "metadata": {},
   "outputs": [],
   "source": [
    "zan=[]\n",
    "for i in range(len(d)):\n",
    "    zan.append(an(d['Lat'][i],d['Lon'][i]))"
   ]
  },
  {
   "cell_type": "code",
   "execution_count": 16,
   "id": "7cf54d66",
   "metadata": {},
   "outputs": [
    {
     "data": {
      "text/plain": [
       "[<matplotlib.lines.Line2D at 0x1f557ffcc70>]"
      ]
     },
     "execution_count": 16,
     "metadata": {},
     "output_type": "execute_result"
    },
    {
     "data": {
      "image/png": "[encoded data removed]",
      "text/plain": [
       "<Figure size 432x288 with 1 Axes>"
      ]
     },
     "metadata": {
      "needs_background": "light"
     },
     "output_type": "display_data"
    }
   ],
   "source": [
    "plt.plot(zan)"
   ]
  },
  {
   "cell_type": "code",
   "execution_count": 17,
   "id": "3dd05e89",
   "metadata": {},
   "outputs": [],
   "source": [
    "zanc=[]\n",
    "for i in range(len(d)):\n",
    "    zanc.append(anc(d['Lat'][i],d['Lon'][i]))"
   ]
  },
  {
   "cell_type": "code",
   "execution_count": 18,
   "id": "36bd9055",
   "metadata": {},
   "outputs": [
    {
     "data": {
      "text/plain": [
       "[<matplotlib.lines.Line2D at 0x1f558744e20>]"
      ]
     },
     "execution_count": 18,
     "metadata": {},
     "output_type": "execute_result"
    },
    {
     "data": {
      "image/png": "[encoded data removed]",
      "text/plain": [
       "<Figure size 432x288 with 1 Axes>"
      ]
     },
     "metadata": {
      "needs_background": "light"
     },
     "output_type": "display_data"
    }
   ],
   "source": [
    "plt.plot(zanc)"
   ]
  },
  {
   "cell_type": "code",
   "execution_count": 19,
   "id": "0febb68c",
   "metadata": {},
   "outputs": [],
   "source": [
    "z1=[]\n",
    "i=0\n",
    "while(i<len(d)-1):\n",
    "    z1.append(an1(d['Lat'][i],d['Lon'][i],d['Lat'][i+1],d['Lon'][i+1]))\n",
    "    i=i+1"
   ]
  },
  {
   "cell_type": "code",
   "execution_count": 20,
   "id": "a7aa0296",
   "metadata": {},
   "outputs": [
    {
     "data": {
      "text/plain": [
       "[<matplotlib.lines.Line2D at 0x1f5587906a0>]"
      ]
     },
     "execution_count": 20,
     "metadata": {},
     "output_type": "execute_result"
    },
    {
     "data": {
      "image/png": "[encoded data removed]",
      "text/plain": [
       "<Figure size 432x288 with 1 Axes>"
      ]
     },
     "metadata": {
      "needs_background": "light"
     },
     "output_type": "display_data"
    }
   ],
   "source": [
    "plt.plot(z1)"
   ]
  },
  {
   "cell_type": "code",
   "execution_count": 21,
   "id": "8b25ec07",
   "metadata": {},
   "outputs": [],
   "source": [
    "z2=[]\n",
    "i=0\n",
    "while(i<len(d)-2):\n",
    "    z2.append(an1(d['Lat'][i],d['Lon'][i],d['Lat'][i+2],d['Lon'][i+2]))\n",
    "    i=i+2"
   ]
  },
  {
   "cell_type": "code",
   "execution_count": 22,
   "id": "b47b407b",
   "metadata": {},
   "outputs": [
    {
     "data": {
      "text/plain": [
       "[<matplotlib.lines.Line2D at 0x1f5587dcc10>]"
      ]
     },
     "execution_count": 22,
     "metadata": {},
     "output_type": "execute_result"
    },
    {
     "data": {
      "image/png": "[encoded data removed]",
      "text/plain": [
       "<Figure size 432x288 with 1 Axes>"
      ]
     },
     "metadata": {
      "needs_background": "light"
     },
     "output_type": "display_data"
    }
   ],
   "source": [
    "plt.plot(z2)"
   ]
  },
  {
   "cell_type": "code",
   "execution_count": 23,
   "id": "4805288c",
   "metadata": {},
   "outputs": [
    {
     "name": "stderr",
     "output_type": "stream",
     "text": [
      "<ipython-input-14-d1c3af7e86b5>:20: RuntimeWarning: invalid value encountered in arccos\n",
      "  theta_rad = np.arccos(dot / (v1_mag * v2_mag))\n"
     ]
    }
   ],
   "source": [
    "z1=[]\n",
    "i=0\n",
    "while(i<len(d)-1):\n",
    "    z1.append(anc1(d['Lat'][i],d['Lon'][i],d['Lat'][i+1],d['Lon'][i+1]))\n",
    "    i=i+1"
   ]
  },
  {
   "cell_type": "code",
   "execution_count": 24,
   "id": "a3707153",
   "metadata": {
    "scrolled": false
   },
   "outputs": [
    {
     "data": {
      "text/plain": [
       "[<matplotlib.lines.Line2D at 0x1f55884a730>]"
      ]
     },
     "execution_count": 24,
     "metadata": {},
     "output_type": "execute_result"
    },
    {
     "data": {
      "image/png": "[encoded data removed]",
      "text/plain": [
       "<Figure size 432x288 with 1 Axes>"
      ]
     },
     "metadata": {
      "needs_background": "light"
     },
     "output_type": "display_data"
    }
   ],
   "source": [
    "plt.plot(z1)"
   ]
  },
  {
   "cell_type": "code",
   "execution_count": 25,
   "id": "f3783e3f",
   "metadata": {},
   "outputs": [],
   "source": [
    "import math\n",
    " \n",
    "def ga(a, b, c):\n",
    "    ang = math.degrees(math.atan2(c[1]-b[1], c[0]-b[0]) - math.atan2(a[1]-b[1], a[0]-b[0]))\n",
    "    return ang + 360 if ang < 0 else ang"
   ]
  },
  {
   "cell_type": "code",
   "execution_count": 26,
   "id": "247a046f",
   "metadata": {},
   "outputs": [],
   "source": [
    "a=[]\n",
    "i=0\n",
    "while(i<len(d)-3):\n",
    "    x=(ga((d['Lat'][i],d['Lon'][i]),(d['Lat'][i+1],d['Lon'][i+1]),(d['Lat'][i+2],d['Lon'][i+2])))\n",
    "    x=min(x,360-x)\n",
    "    a.append(x)\n",
    "    i=i+3"
   ]
  },
  {
   "cell_type": "code",
   "execution_count": 27,
   "id": "c9f477a0",
   "metadata": {},
   "outputs": [
    {
     "data": {
      "text/plain": [
       "[<matplotlib.lines.Line2D at 0x1f558801d00>]"
      ]
     },
     "execution_count": 27,
     "metadata": {},
     "output_type": "execute_result"
    },
    {
     "data": {
      "image/png": "[encoded data removed]",
      "text/plain": [
       "<Figure size 432x288 with 1 Axes>"
      ]
     },
     "metadata": {
      "needs_background": "light"
     },
     "output_type": "display_data"
    }
   ],
   "source": [
    "plt.plot(a)"
   ]
  },
  {
   "cell_type": "code",
   "execution_count": 28,
   "id": "5452d1a9",
   "metadata": {},
   "outputs": [],
   "source": [
    "d['angle']=np.array(zanc)"
   ]
  },
  {
   "cell_type": "code",
   "execution_count": 29,
   "id": "bd9db33d",
   "metadata": {},
   "outputs": [
    {
     "data": {
      "text/html": [
       "<div>\n",
       "<style scoped>\n",
       "    .dataframe tbody tr th:only-of-type {\n",
       "        vertical-align: middle;\n",
       "    }\n",
       "\n",
       "    .dataframe tbody tr th {\n",
       "        vertical-align: top;\n",
       "    }\n",
       "\n",
       "    .dataframe thead th {\n",
       "        text-align: right;\n",
       "    }\n",
       "</style>\n",
       "<table border=\"1\" class=\"dataframe\">\n",
       "  <thead>\n",
       "    <tr style=\"text-align: right;\">\n",
       "      <th></th>\n",
       "      <th>Lat</th>\n",
       "      <th>Lon</th>\n",
       "      <th>roll</th>\n",
       "      <th>pitch</th>\n",
       "      <th>yaw</th>\n",
       "      <th>angle</th>\n",
       "    </tr>\n",
       "  </thead>\n",
       "  <tbody>\n",
       "    <tr>\n",
       "      <th>0</th>\n",
       "      <td>49.011227</td>\n",
       "      <td>8.422878</td>\n",
       "      <td>0.025982</td>\n",
       "      <td>-0.013047</td>\n",
       "      <td>-1.287962</td>\n",
       "      <td>34.475827</td>\n",
       "    </tr>\n",
       "    <tr>\n",
       "      <th>1</th>\n",
       "      <td>49.011226</td>\n",
       "      <td>8.422878</td>\n",
       "      <td>0.026346</td>\n",
       "      <td>-0.013242</td>\n",
       "      <td>-1.286318</td>\n",
       "      <td>34.475827</td>\n",
       "    </tr>\n",
       "    <tr>\n",
       "      <th>2</th>\n",
       "      <td>49.011226</td>\n",
       "      <td>8.422878</td>\n",
       "      <td>0.026712</td>\n",
       "      <td>-0.013469</td>\n",
       "      <td>-1.284915</td>\n",
       "      <td>34.475827</td>\n",
       "    </tr>\n",
       "    <tr>\n",
       "      <th>3</th>\n",
       "      <td>49.011226</td>\n",
       "      <td>8.422878</td>\n",
       "      <td>0.027125</td>\n",
       "      <td>-0.013598</td>\n",
       "      <td>-1.283393</td>\n",
       "      <td>34.475827</td>\n",
       "    </tr>\n",
       "    <tr>\n",
       "      <th>4</th>\n",
       "      <td>49.011225</td>\n",
       "      <td>8.422879</td>\n",
       "      <td>0.027577</td>\n",
       "      <td>-0.013621</td>\n",
       "      <td>-1.281920</td>\n",
       "      <td>34.475827</td>\n",
       "    </tr>\n",
       "  </tbody>\n",
       "</table>\n",
       "</div>"
      ],
      "text/plain": [
       "         Lat       Lon      roll     pitch       yaw      angle\n",
       "0  49.011227  8.422878  0.025982 -0.013047 -1.287962  34.475827\n",
       "1  49.011226  8.422878  0.026346 -0.013242 -1.286318  34.475827\n",
       "2  49.011226  8.422878  0.026712 -0.013469 -1.284915  34.475827\n",
       "3  49.011226  8.422878  0.027125 -0.013598 -1.283393  34.475827\n",
       "4  49.011225  8.422879  0.027577 -0.013621 -1.281920  34.475827"
      ]
     },
     "execution_count": 29,
     "metadata": {},
     "output_type": "execute_result"
    }
   ],
   "source": [
    "d.head()"
   ]
  },
  {
   "cell_type": "code",
   "execution_count": 30,
   "id": "4f6317f0",
   "metadata": {},
   "outputs": [
    {
     "data": {
      "text/plain": [
       "[<matplotlib.lines.Line2D at 0x1f5588bf2e0>]"
      ]
     },
     "execution_count": 30,
     "metadata": {},
     "output_type": "execute_result"
    },
    {
     "data": {
      "image/png": "[encoded data removed]",
      "text/plain": [
       "<Figure size 432x288 with 1 Axes>"
      ]
     },
     "metadata": {
      "needs_background": "light"
     },
     "output_type": "display_data"
    }
   ],
   "source": [
    "plt.plot(d['yaw'])"
   ]
  },
  {
   "cell_type": "code",
   "execution_count": 31,
   "id": "b16d6f7e",
   "metadata": {
    "scrolled": true
   },
   "outputs": [
    {
     "data": {
      "text/plain": [
       "[<matplotlib.lines.Line2D at 0x1f55891a670>]"
      ]
     },
     "execution_count": 31,
     "metadata": {},
     "output_type": "execute_result"
    },
    {
     "data": {
      "image/png": "[encoded data removed]",
      "text/plain": [
       "<Figure size 432x288 with 1 Axes>"
      ]
     },
     "metadata": {
      "needs_background": "light"
     },
     "output_type": "display_data"
    }
   ],
   "source": [
    "plt.plot(d['roll'])"
   ]
  },
  {
   "cell_type": "code",
   "execution_count": 32,
   "id": "1933973b",
   "metadata": {},
   "outputs": [
    {
     "data": {
      "text/plain": [
       "[<matplotlib.lines.Line2D at 0x1f558974a30>]"
      ]
     },
     "execution_count": 32,
     "metadata": {},
     "output_type": "execute_result"
    },
    {
     "data": {
      "image/png": "[encoded data removed]",
      "text/plain": [
       "<Figure size 432x288 with 1 Axes>"
      ]
     },
     "metadata": {
      "needs_background": "light"
     },
     "output_type": "display_data"
    }
   ],
   "source": [
    "plt.plot(d['pitch'])"
   ]
  },
  {
   "cell_type": "code",
   "execution_count": null,
   "id": "0950afa0",
   "metadata": {},
   "outputs": [],
   "source": []
  },
  {
   "cell_type": "code",
   "execution_count": null,
   "id": "769d2736",
   "metadata": {},
   "outputs": [],
   "source": []
  },
  {
   "cell_type": "code",
   "execution_count": null,
   "id": "00ff8bb7",
   "metadata": {},
   "outputs": [],
   "source": []
  },
  {
   "cell_type": "code",
   "execution_count": null,
   "id": "ebbfabf8",
   "metadata": {},
   "outputs": [],
   "source": []
  },
  {
   "cell_type": "code",
   "execution_count": 33,
   "id": "c0bd877d",
   "metadata": {},
   "outputs": [
    {
     "ename": "TypeError",
     "evalue": "an() takes 2 positional arguments but 4 were given",
     "output_type": "error",
     "traceback": [
      "\u001b[1;31m---------------------------------------------------------------------------\u001b[0m",
      "\u001b[1;31mTypeError\u001b[0m                                 Traceback (most recent call last)",
      "\u001b[1;32m<ipython-input-33-e3655feb9a8d>\u001b[0m in \u001b[0;36m<module>\u001b[1;34m\u001b[0m\n\u001b[0;32m      2\u001b[0m \u001b[0mi\u001b[0m\u001b[1;33m=\u001b[0m\u001b[1;36m0\u001b[0m\u001b[1;33m\u001b[0m\u001b[1;33m\u001b[0m\u001b[0m\n\u001b[0;32m      3\u001b[0m \u001b[1;32mwhile\u001b[0m\u001b[1;33m(\u001b[0m\u001b[0mi\u001b[0m\u001b[1;33m<\u001b[0m\u001b[0mlen\u001b[0m\u001b[1;33m(\u001b[0m\u001b[0md\u001b[0m\u001b[1;33m)\u001b[0m\u001b[1;33m-\u001b[0m\u001b[1;36m2\u001b[0m\u001b[1;33m)\u001b[0m\u001b[1;33m:\u001b[0m\u001b[1;33m\u001b[0m\u001b[1;33m\u001b[0m\u001b[0m\n\u001b[1;32m----> 4\u001b[1;33m     \u001b[0mz2\u001b[0m\u001b[1;33m.\u001b[0m\u001b[0mappend\u001b[0m\u001b[1;33m(\u001b[0m\u001b[0man\u001b[0m\u001b[1;33m(\u001b[0m\u001b[0md\u001b[0m\u001b[1;33m[\u001b[0m\u001b[1;34m'Lat'\u001b[0m\u001b[1;33m]\u001b[0m\u001b[1;33m[\u001b[0m\u001b[0mi\u001b[0m\u001b[1;33m]\u001b[0m\u001b[1;33m,\u001b[0m\u001b[0md\u001b[0m\u001b[1;33m[\u001b[0m\u001b[1;34m'Lon'\u001b[0m\u001b[1;33m]\u001b[0m\u001b[1;33m[\u001b[0m\u001b[0mi\u001b[0m\u001b[1;33m]\u001b[0m\u001b[1;33m,\u001b[0m\u001b[0md\u001b[0m\u001b[1;33m[\u001b[0m\u001b[1;34m'Lat'\u001b[0m\u001b[1;33m]\u001b[0m\u001b[1;33m[\u001b[0m\u001b[0mi\u001b[0m\u001b[1;33m+\u001b[0m\u001b[1;36m2\u001b[0m\u001b[1;33m]\u001b[0m\u001b[1;33m,\u001b[0m\u001b[0md\u001b[0m\u001b[1;33m[\u001b[0m\u001b[1;34m'Lon'\u001b[0m\u001b[1;33m]\u001b[0m\u001b[1;33m[\u001b[0m\u001b[0mi\u001b[0m\u001b[1;33m+\u001b[0m\u001b[1;36m2\u001b[0m\u001b[1;33m]\u001b[0m\u001b[1;33m)\u001b[0m\u001b[1;33m)\u001b[0m\u001b[1;33m\u001b[0m\u001b[1;33m\u001b[0m\u001b[0m\n\u001b[0m\u001b[0;32m      5\u001b[0m     \u001b[0mi\u001b[0m\u001b[1;33m=\u001b[0m\u001b[0mi\u001b[0m\u001b[1;33m+\u001b[0m\u001b[1;36m2\u001b[0m\u001b[1;33m\u001b[0m\u001b[1;33m\u001b[0m\u001b[0m\n",
      "\u001b[1;31mTypeError\u001b[0m: an() takes 2 positional arguments but 4 were given"
     ]
    }
   ],
   "source": [
    "z2=[]\n",
    "i=0\n",
    "while(i<len(d)-2):\n",
    "    z2.append(an(d['Lat'][i],d['Lon'][i],d['Lat'][i+2],d['Lon'][i+2]))\n",
    "    i=i+2"
   ]
  },
  {
   "cell_type": "code",
   "execution_count": null,
   "id": "c006f4a5",
   "metadata": {},
   "outputs": [],
   "source": [
    "z1=np.array(z1)\n",
    "len(z1)"
   ]
  },
  {
   "cell_type": "code",
   "execution_count": null,
   "id": "e21aff50",
   "metadata": {
    "scrolled": false
   },
   "outputs": [],
   "source": [
    "plt.plot(z1)"
   ]
  },
  {
   "cell_type": "code",
   "execution_count": null,
   "id": "9e22e6e4",
   "metadata": {},
   "outputs": [],
   "source": [
    "np.argmax(z1)\n",
    "max(z1)"
   ]
  },
  {
   "cell_type": "code",
   "execution_count": null,
   "id": "d17e7dc8",
   "metadata": {},
   "outputs": [],
   "source": [
    "for i in range(605,1114):\n",
    "    print(z1[i])"
   ]
  },
  {
   "cell_type": "code",
   "execution_count": null,
   "id": "85750935",
   "metadata": {},
   "outputs": [],
   "source": [
    "x=z1\n",
    "n=len(z1)"
   ]
  },
  {
   "cell_type": "code",
   "execution_count": null,
   "id": "427adddd",
   "metadata": {},
   "outputs": [],
   "source": [
    "np.argmax(z1)"
   ]
  },
  {
   "cell_type": "code",
   "execution_count": null,
   "id": "631ce6f2",
   "metadata": {},
   "outputs": [],
   "source": [
    "x=[]\n",
    "for i in range(0,len(z1),2):\n",
    "    x.append(z1[i])\n",
    "n=len(x)\n",
    "n"
   ]
  },
  {
   "cell_type": "code",
   "execution_count": null,
   "id": "2a133ddb",
   "metadata": {},
   "outputs": [],
   "source": [
    "z1[1000]"
   ]
  },
  {
   "cell_type": "code",
   "execution_count": null,
   "id": "47138a78",
   "metadata": {},
   "outputs": [],
   "source": [
    "for i in range(614,1061):\n",
    "    print(z1[i])"
   ]
  },
  {
   "cell_type": "code",
   "execution_count": null,
   "id": "39998e85",
   "metadata": {},
   "outputs": [],
   "source": [
    "plt.plot(x)"
   ]
  },
  {
   "cell_type": "code",
   "execution_count": null,
   "id": "5afee125",
   "metadata": {},
   "outputs": [],
   "source": [
    "#increasing order\n",
    "def inx(x,i):\n",
    "    s=0\n",
    "    r=0\n",
    "    v=0\n",
    "    k=6\n",
    "    l=3\n",
    "    if(i+k>=n):\n",
    "        k=n-i-1\n",
    "    if(i+l>=n):\n",
    "        l=n-i-1\n",
    "    for j in range(l):\n",
    "        if(x[i+j]<x[i+j+1]):\n",
    "            r=r+1\n",
    "    for j in range(k):\n",
    "        if(x[i+j]<=x[i+j+1]):\n",
    "            #s=s+(x[i+j+1]-x[i+j])\n",
    "            v=v+1\n",
    "    #if(s<=15):\n",
    "        #return 0\n",
    "    #else:\n",
    "    if(v==k or r==l):\n",
    "        return 1\n",
    "    return 0"
   ]
  },
  {
   "cell_type": "code",
   "execution_count": null,
   "id": "c8c41a2b",
   "metadata": {},
   "outputs": [],
   "source": [
    "#decreasing order\n",
    "def inx1(x,i):\n",
    "    s=0\n",
    "    r=0\n",
    "    v=0\n",
    "    k=6\n",
    "    l=3\n",
    "    if(i+k>=n):\n",
    "        k=n-i-1\n",
    "    if(i+l>=n):\n",
    "        l=n-i-1\n",
    "    for j in range(l):\n",
    "        if(x[i+j]>x[i+j+1]):\n",
    "            r=r+1\n",
    "    for j in range(k):\n",
    "        if(x[i+j]>=x[i+j+1]):\n",
    "            #s=s+(x[i+j]-x[i+j-1])\n",
    "            v=v+1\n",
    "    #if(s<=15):\n",
    "        #return 0\n",
    "    #else:\n",
    "    if(v==k or r==l):\n",
    "        return 1\n",
    "    return 0"
   ]
  },
  {
   "cell_type": "code",
   "execution_count": null,
   "id": "2a45152a",
   "metadata": {},
   "outputs": [],
   "source": [
    "#complete version\n",
    "s=x[0]\n",
    "a=0\n",
    "f=0\n",
    "g=0\n",
    "b=0\n",
    "i=0\n",
    "rt=[]\n",
    "lt=[]\n",
    "ru=[]\n",
    "lu=[]\n",
    "while(i<n-1):\n",
    "    i=i+1\n",
    "    y=abs(x[i]-s)\n",
    "    y=(min(y,360-y))\n",
    "    if(x[i-1]<=x[i] and g==0):\n",
    "        if(f==0 and g==0):\n",
    "            if(inx(x,i-1)):\n",
    "                right=i-1\n",
    "                #print(\"insr \"+str(right))\n",
    "                s=x[right]\n",
    "                f=1\n",
    "        if(y>=65 and y<=125):\n",
    "            v=0\n",
    "            k=10\n",
    "            if(i+k>=n):\n",
    "                k=n-i-1\n",
    "            for j in range(k):\n",
    "                if(x[i+j]<x[i+j+1]):\n",
    "                    v=v+1\n",
    "            if(v<k//2):\n",
    "                j=i\n",
    "                while(x[j]<x[j+1] and j<n):\n",
    "                    j=j+1\n",
    "                j=j+6\n",
    "                f=0\n",
    "                print('Right Turn',s,x[j],right,j)\n",
    "                rt.append([right,j])\n",
    "                s=x[j]\n",
    "                i=j\n",
    "                right=j\n",
    "        if(y>=170 and y<=190):\n",
    "            j=i\n",
    "            while(x[j]<x[j+1] and j<n):\n",
    "                j=j+1\n",
    "            j=j+6\n",
    "            f=0\n",
    "            print(\"RU\",s,x[j],right,j)\n",
    "            ru.append([right,j])\n",
    "            s=x[j]\n",
    "            i=j\n",
    "            right=j\n",
    "    elif(x[i-1]>=x[i] and f==0):\n",
    "        if(f==0 and g==0):\n",
    "            if(inx1(x,i-1)):\n",
    "                #print(\"insl \"+str(i-1))\n",
    "                left=i-1\n",
    "                s=x[left]\n",
    "                g=1\n",
    "        if(y>=65 and y<=125):\n",
    "            v=0\n",
    "            k=10\n",
    "            if(i+k>=n):\n",
    "                k=n-i-1\n",
    "            for j in range(k):\n",
    "                if(x[i+j]>x[i+j+1]):\n",
    "                    v=v+1\n",
    "            if(v<k//2):\n",
    "                j=i\n",
    "                while(x[j]>x[j+1] and j<n):\n",
    "                    j=j+1\n",
    "                j=j+6\n",
    "                g=0\n",
    "                print('Left Turn',s,x[j],left,j)\n",
    "                lt.append([left,j])\n",
    "                s=x[j]\n",
    "                i=j\n",
    "                left=j\n",
    "        if(y>=170 and y<=190):\n",
    "            j=i\n",
    "            while(x[j]>x[j+1] and j<n):\n",
    "                j=j+1\n",
    "            j=j+6\n",
    "            g=0\n",
    "            print(\"LU\",s,x[j],left,j)\n",
    "            rt.append([left,j])\n",
    "            s=x[j]\n",
    "            i=j\n",
    "            left=j"
   ]
  },
  {
   "cell_type": "code",
   "execution_count": null,
   "id": "a8793924",
   "metadata": {},
   "outputs": [],
   "source": [
    "x[72],x[526]"
   ]
  },
  {
   "cell_type": "code",
   "execution_count": null,
   "id": "06a95cf0",
   "metadata": {},
   "outputs": [],
   "source": [
    "for i in range(95,102):\n",
    "    #if(inx1(x,i)):\n",
    "        #print('1')\n",
    "    print(x[i])"
   ]
  },
  {
   "cell_type": "code",
   "execution_count": null,
   "id": "7294dd44",
   "metadata": {},
   "outputs": [],
   "source": []
  },
  {
   "cell_type": "code",
   "execution_count": null,
   "id": "c134f21b",
   "metadata": {},
   "outputs": [],
   "source": [
    "z=np.array(z)\n",
    "d['angle']=z"
   ]
  },
  {
   "cell_type": "code",
   "execution_count": null,
   "id": "0a109047",
   "metadata": {
    "scrolled": false
   },
   "outputs": [],
   "source": [
    "d.head()"
   ]
  },
  {
   "cell_type": "code",
   "execution_count": null,
   "id": "aca5f88c",
   "metadata": {
    "scrolled": true
   },
   "outputs": [],
   "source": [
    "d['angle'].value_counts()"
   ]
  },
  {
   "cell_type": "code",
   "execution_count": null,
   "id": "de9b7fb3",
   "metadata": {},
   "outputs": [],
   "source": [
    "d['angle']"
   ]
  },
  {
   "cell_type": "code",
   "execution_count": null,
   "id": "0fad86cb",
   "metadata": {
    "scrolled": true
   },
   "outputs": [],
   "source": [
    "plt.plot(d['angle'])"
   ]
  },
  {
   "cell_type": "code",
   "execution_count": null,
   "id": "1c61ab08",
   "metadata": {},
   "outputs": [],
   "source": [
    "l=[]\n",
    "for i in range(len(d)-1):\n",
    "    l.append(abs(d['angle'][i]-d['angle'][i+1])*(10**9))"
   ]
  },
  {
   "cell_type": "code",
   "execution_count": null,
   "id": "8eec15c9",
   "metadata": {},
   "outputs": [],
   "source": [
    "d['angle'][0]-d['angle'][1]"
   ]
  },
  {
   "cell_type": "code",
   "execution_count": null,
   "id": "bce3b48a",
   "metadata": {},
   "outputs": [],
   "source": [
    "plt.plot(l)"
   ]
  },
  {
   "cell_type": "code",
   "execution_count": null,
   "id": "c8dc655f",
   "metadata": {},
   "outputs": [],
   "source": [
    "d['angle']"
   ]
  },
  {
   "cell_type": "code",
   "execution_count": null,
   "id": "0b6f5358",
   "metadata": {},
   "outputs": [],
   "source": [
    "plt.plot(d['Lat'])"
   ]
  },
  {
   "cell_type": "code",
   "execution_count": null,
   "id": "ab8873b0",
   "metadata": {},
   "outputs": [],
   "source": [
    "plt.plot(d['Lon'])"
   ]
  },
  {
   "cell_type": "code",
   "execution_count": null,
   "id": "617346cb",
   "metadata": {},
   "outputs": [],
   "source": []
  },
  {
   "cell_type": "code",
   "execution_count": null,
   "id": "6482b6ad",
   "metadata": {},
   "outputs": [],
   "source": []
  },
  {
   "cell_type": "code",
   "execution_count": null,
   "id": "7e2f95c2",
   "metadata": {},
   "outputs": [],
   "source": [
    "a"
   ]
  },
  {
   "cell_type": "code",
   "execution_count": null,
   "id": "fd170866",
   "metadata": {},
   "outputs": [],
   "source": [
    "a=np.array(a)"
   ]
  },
  {
   "cell_type": "code",
   "execution_count": null,
   "id": "f8e13a2f",
   "metadata": {},
   "outputs": [],
   "source": [
    "plt.plot(a)"
   ]
  },
  {
   "cell_type": "code",
   "execution_count": null,
   "id": "595cd268",
   "metadata": {},
   "outputs": [],
   "source": []
  },
  {
   "cell_type": "code",
   "execution_count": null,
   "id": "623b17ca",
   "metadata": {},
   "outputs": [],
   "source": [
    "d.head()"
   ]
  },
  {
   "cell_type": "code",
   "execution_count": 8,
   "id": "86eb5bd3",
   "metadata": {},
   "outputs": [
    {
     "data": {
      "text/html": [
       "<div>\n",
       "<style scoped>\n",
       "    .dataframe tbody tr th:only-of-type {\n",
       "        vertical-align: middle;\n",
       "    }\n",
       "\n",
       "    .dataframe tbody tr th {\n",
       "        vertical-align: top;\n",
       "    }\n",
       "\n",
       "    .dataframe thead th {\n",
       "        text-align: right;\n",
       "    }\n",
       "</style>\n",
       "<table border=\"1\" class=\"dataframe\">\n",
       "  <thead>\n",
       "    <tr style=\"text-align: right;\">\n",
       "      <th></th>\n",
       "      <th>Lat</th>\n",
       "      <th>Lon</th>\n",
       "      <th>roll</th>\n",
       "      <th>pitch</th>\n",
       "      <th>yaw</th>\n",
       "    </tr>\n",
       "  </thead>\n",
       "  <tbody>\n",
       "    <tr>\n",
       "      <th>0</th>\n",
       "      <td>49.011227</td>\n",
       "      <td>8.422878</td>\n",
       "      <td>0.025982</td>\n",
       "      <td>-0.013047</td>\n",
       "      <td>-1.287962</td>\n",
       "    </tr>\n",
       "    <tr>\n",
       "      <th>1</th>\n",
       "      <td>49.011226</td>\n",
       "      <td>8.422878</td>\n",
       "      <td>0.026346</td>\n",
       "      <td>-0.013242</td>\n",
       "      <td>-1.286318</td>\n",
       "    </tr>\n",
       "    <tr>\n",
       "      <th>2</th>\n",
       "      <td>49.011226</td>\n",
       "      <td>8.422878</td>\n",
       "      <td>0.026712</td>\n",
       "      <td>-0.013469</td>\n",
       "      <td>-1.284915</td>\n",
       "    </tr>\n",
       "    <tr>\n",
       "      <th>3</th>\n",
       "      <td>49.011226</td>\n",
       "      <td>8.422878</td>\n",
       "      <td>0.027125</td>\n",
       "      <td>-0.013598</td>\n",
       "      <td>-1.283393</td>\n",
       "    </tr>\n",
       "    <tr>\n",
       "      <th>4</th>\n",
       "      <td>49.011225</td>\n",
       "      <td>8.422879</td>\n",
       "      <td>0.027577</td>\n",
       "      <td>-0.013621</td>\n",
       "      <td>-1.281920</td>\n",
       "    </tr>\n",
       "  </tbody>\n",
       "</table>\n",
       "</div>"
      ],
      "text/plain": [
       "         Lat       Lon      roll     pitch       yaw\n",
       "0  49.011227  8.422878  0.025982 -0.013047 -1.287962\n",
       "1  49.011226  8.422878  0.026346 -0.013242 -1.286318\n",
       "2  49.011226  8.422878  0.026712 -0.013469 -1.284915\n",
       "3  49.011226  8.422878  0.027125 -0.013598 -1.283393\n",
       "4  49.011225  8.422879  0.027577 -0.013621 -1.281920"
      ]
     },
     "execution_count": 8,
     "metadata": {},
     "output_type": "execute_result"
    }
   ],
   "source": [
    "d.head()"
   ]
  },
  {
   "cell_type": "code",
   "execution_count": 21,
   "id": "65f870c9",
   "metadata": {},
   "outputs": [],
   "source": [
    "import geopy\n",
    "import pandas as pd\n",
    "import json\n",
    "\n",
    "def get_zipcode(df, geolocator, lat_field, lon_field):\n",
    "    location = geolocator.reverse((df[lat_field], df[lon_field]))\n",
    "    return location.raw['address']['postcode']\n"
   ]
  },
  {
   "cell_type": "code",
   "execution_count": 11,
   "id": "6950e5af",
   "metadata": {},
   "outputs": [],
   "source": [
    "geolocator = geopy.Nominatim(user_agent='geoapiExercises')"
   ]
  },
  {
   "cell_type": "code",
   "execution_count": 12,
   "id": "16c690b4",
   "metadata": {},
   "outputs": [],
   "source": [
    "zipcodes = d.apply(get_zipcode, axis=1, geolocator=geolocator, lat_field='Lat', lon_field='Lon')"
   ]
  },
  {
   "cell_type": "code",
   "execution_count": 14,
   "id": "3600f22a",
   "metadata": {},
   "outputs": [
    {
     "data": {
      "text/plain": [
       "array(['76131'], dtype=object)"
      ]
     },
     "execution_count": 14,
     "metadata": {},
     "output_type": "execute_result"
    }
   ],
   "source": [
    "zipcodes.unique()"
   ]
  },
  {
   "cell_type": "code",
   "execution_count": 15,
   "id": "1e8ac582",
   "metadata": {},
   "outputs": [],
   "source": [
    "z=76131"
   ]
  },
  {
   "cell_type": "code",
   "execution_count": 16,
   "id": "666fd247",
   "metadata": {},
   "outputs": [],
   "source": [
    "import requests"
   ]
  },
  {
   "cell_type": "code",
   "execution_count": null,
   "id": "6258074b",
   "metadata": {},
   "outputs": [],
   "source": [
    "ak=\"CFCE92ZUA2PD8PSCFJ7QMWSJU\""
   ]
  },
  {
   "cell_type": "code",
   "execution_count": 17,
   "id": "7c850a25",
   "metadata": {},
   "outputs": [],
   "source": [
    "url=r\"https://weather.visualcrossing.com/VisualCrossingWebServices/rest/services/timeline/76131/2011-09-26T13:04:31?key=CFCE92ZUA2PD8PSCFJ7QMWSJU\""
   ]
  },
  {
   "cell_type": "code",
   "execution_count": 18,
   "id": "34031d23",
   "metadata": {},
   "outputs": [],
   "source": [
    "r=requests.request(\"GET\",url)"
   ]
  },
  {
   "cell_type": "code",
   "execution_count": 19,
   "id": "a4a859c7",
   "metadata": {},
   "outputs": [
    {
     "data": {
      "text/plain": [
       "'{\"queryCost\":24,\"latitude\":32.873017,\"longitude\":-97.34622,\"resolvedAddress\":\"76131, USA\",\"address\":\"76131\",\"timezone\":\"America/Chicago\",\"tzoffset\":-5.0,\"days\":[{\"datetime\":\"2011-09-26\",\"datetimeEpoch\":1317013200,\"tempmax\":89.2,\"tempmin\":62.5,\"temp\":76.0,\"feelslikemax\":89.1,\"feelslikemin\":62.5,\"feelslike\":76.1,\"dew\":55.7,\"humidity\":50.16,\"precip\":0.0,\"precipprob\":null,\"precipcover\":0.0,\"preciptype\":null,\"snow\":null,\"snowdepth\":null,\"windgust\":32.2,\"windspeed\":9.6,\"winddir\":68.5,\"pressure\":1009.1,\"cloudcover\":0.5,\"visibility\":9.9,\"solarradiation\":null,\"solarenergy\":null,\"uvindex\":0.0,\"sunrise\":\"07:19:57\",\"sunriseEpoch\":1317039597,\"sunset\":\"19:21:03\",\"sunsetEpoch\":1317082863,\"moonphase\":1.0,\"conditions\":\"Clear\",\"description\":\"Clear conditions throughout the day.\",\"icon\":\"clear-day\",\"stations\":[\"74739013961\",\"72259453909\",\"KAFW\",\"KNFW\",\"72259513911\",\"KFTW\"],\"source\":\"obs\",\"hours\":[{\"datetime\":\"00:00:00\",\"datetimeEpoch\":1317013200,\"temp\":73.4,\"feelslike\":73.4,\"humidity\":40.26,\"dew\":47.8,\"precip\":0.0,\"precipprob\":null,\"snow\":null,\"snowdepth\":null,\"preciptype\":null,\"windgust\":null,\"windspeed\":8.8,\"winddir\":28.0,\"pressure\":1007.5,\"visibility\":9.9,\"cloudcover\":0.0,\"solarradiation\":null,\"solarenergy\":null,\"uvindex\":0.0,\"conditions\":\"Clear\",\"icon\":\"clear-night\",\"stations\":[\"74739013961\",\"72259453909\",\"KAFW\",\"KNFW\",\"72259513911\",\"KFTW\"],\"source\":\"obs\"},{\"datetime\":\"01:00:00\",\"datetimeEpoch\":1317016800,\"temp\":71.1,\"feelslike\":71.1,\"humidity\":45.09,\"dew\":48.7,\"precip\":0.0,\"precipprob\":null,\"snow\":null,\"snowdepth\":null,\"preciptype\":null,\"windgust\":null,\"windspeed\":8.4,\"winddir\":45.0,\"pressure\":1007.8,\"visibility\":9.9,\"cloudcover\":0.0,\"solarradiation\":null,\"solarenergy\":null,\"uvindex\":0.0,\"conditions\":\"Clear\",\"icon\":\"clear-night\",\"stations\":[\"74739013961\",\"72259453909\",\"KAFW\",\"KNFW\",\"72259513911\",\"KFTW\"],\"source\":\"obs\"},{\"datetime\":\"02:00:00\",\"datetimeEpoch\":1317020400,\"temp\":70.0,\"feelslike\":70.0,\"humidity\":46.09,\"dew\":48.3,\"precip\":0.0,\"precipprob\":null,\"snow\":null,\"snowdepth\":null,\"preciptype\":null,\"windgust\":null,\"windspeed\":7.5,\"winddir\":45.0,\"pressure\":1008.6,\"visibility\":9.9,\"cloudcover\":0.0,\"solarradiation\":null,\"solarenergy\":null,\"uvindex\":0.0,\"conditions\":\"Clear\",\"icon\":\"clear-night\",\"stations\":[\"74739013961\",\"72259453909\",\"KAFW\",\"KNFW\",\"72259513911\",\"KFTW\"],\"source\":\"obs\"},{\"datetime\":\"03:00:00\",\"datetimeEpoch\":1317024000,\"temp\":67.9,\"feelslike\":67.9,\"humidity\":48.68,\"dew\":47.9,\"precip\":0.0,\"precipprob\":null,\"snow\":null,\"snowdepth\":null,\"preciptype\":null,\"windgust\":null,\"windspeed\":7.4,\"winddir\":50.0,\"pressure\":1009.0,\"visibility\":9.9,\"cloudcover\":0.0,\"solarradiation\":null,\"solarenergy\":null,\"uvindex\":0.0,\"conditions\":\"Clear\",\"icon\":\"clear-night\",\"stations\":[\"74739013961\",\"72259453909\",\"KAFW\",\"KNFW\",\"72259513911\",\"KFTW\"],\"source\":\"obs\"},{\"datetime\":\"04:00:00\",\"datetimeEpoch\":1317027600,\"temp\":66.2,\"feelslike\":66.2,\"humidity\":52.44,\"dew\":48.3,\"precip\":0.0,\"precipprob\":null,\"snow\":null,\"snowdepth\":null,\"preciptype\":null,\"windgust\":null,\"windspeed\":7.1,\"winddir\":67.0,\"pressure\":1009.6,\"visibility\":9.9,\"cloudcover\":0.0,\"solarradiation\":null,\"solarenergy\":null,\"uvindex\":0.0,\"conditions\":\"Clear\",\"icon\":\"clear-night\",\"stations\":[\"74739013961\",\"72259453909\",\"KAFW\",\"KNFW\",\"72259513911\",\"KFTW\"],\"source\":\"obs\"},{\"datetime\":\"05:00:00\",\"datetimeEpoch\":1317031200,\"temp\":65.4,\"feelslike\":65.4,\"humidity\":54.58,\"dew\":48.6,\"precip\":0.0,\"precipprob\":null,\"snow\":null,\"snowdepth\":null,\"preciptype\":null,\"windgust\":null,\"windspeed\":5.9,\"winddir\":54.0,\"pressure\":1009.5,\"visibility\":9.9,\"cloudcover\":0.0,\"solarradiation\":null,\"solarenergy\":null,\"uvindex\":0.0,\"conditions\":\"Clear\",\"icon\":\"clear-night\",\"stations\":[\"74739013961\",\"72259453909\",\"KAFW\",\"KNFW\",\"72259513911\",\"KFTW\"],\"source\":\"obs\"},{\"datetime\":\"06:00:00\",\"datetimeEpoch\":1317034800,\"temp\":63.8,\"feelslike\":63.8,\"humidity\":61.27,\"dew\":50.2,\"precip\":0.0,\"precipprob\":null,\"snow\":null,\"snowdepth\":null,\"preciptype\":null,\"windgust\":null,\"windspeed\":5.4,\"winddir\":54.0,\"pressure\":1009.8,\"visibility\":9.9,\"cloudcover\":0.0,\"solarradiation\":null,\"solarenergy\":null,\"uvindex\":0.0,\"conditions\":\"Clear\",\"icon\":\"clear-night\",\"stations\":[\"74739013961\",\"72259453909\",\"KAFW\",\"KNFW\",\"KFTW\"],\"source\":\"obs\"},{\"datetime\":\"07:00:00\",\"datetimeEpoch\":1317038400,\"temp\":62.5,\"feelslike\":62.5,\"humidity\":65.86,\"dew\":51.0,\"precip\":0.0,\"precipprob\":null,\"snow\":null,\"snowdepth\":null,\"preciptype\":null,\"windgust\":null,\"windspeed\":4.3,\"winddir\":53.0,\"pressure\":1010.4,\"visibility\":9.9,\"cloudcover\":0.0,\"solarradiation\":null,\"solarenergy\":null,\"uvindex\":0.0,\"conditions\":\"Clear\",\"icon\":\"clear-night\",\"stations\":[\"74739013961\",\"72259453909\",\"KAFW\",\"KNFW\",\"72259513911\",\"KFTW\"],\"source\":\"obs\"},{\"datetime\":\"08:00:00\",\"datetimeEpoch\":1317042000,\"temp\":62.5,\"feelslike\":62.5,\"humidity\":66.74,\"dew\":51.3,\"precip\":0.0,\"precipprob\":null,\"snow\":null,\"snowdepth\":null,\"preciptype\":null,\"windgust\":null,\"windspeed\":5.2,\"winddir\":49.0,\"pressure\":1010.8,\"visibility\":9.9,\"cloudcover\":0.0,\"solarradiation\":null,\"solarenergy\":null,\"uvindex\":0.0,\"conditions\":\"Clear\",\"icon\":\"clear-day\",\"stations\":[\"74739013961\",\"72259453909\",\"KAFW\",\"KNFW\",\"72259513911\",\"KFTW\"],\"source\":\"obs\"},{\"datetime\":\"09:00:00\",\"datetimeEpoch\":1317045600,\"temp\":65.8,\"feelslike\":65.8,\"humidity\":63.44,\"dew\":53.0,\"precip\":0.0,\"precipprob\":null,\"snow\":null,\"snowdepth\":null,\"preciptype\":null,\"windgust\":null,\"windspeed\":7.7,\"winddir\":59.0,\"pressure\":1011.3,\"visibility\":9.9,\"cloudcover\":0.0,\"solarradiation\":null,\"solarenergy\":null,\"uvindex\":0.0,\"conditions\":\"Clear\",\"icon\":\"clear-day\",\"stations\":[\"74739013961\",\"72259453909\",\"KAFW\",\"KNFW\",\"72259513911\",\"KFTW\"],\"source\":\"obs\"},{\"datetime\":\"10:00:00\",\"datetimeEpoch\":1317049200,\"temp\":70.0,\"feelslike\":70.0,\"humidity\":60.45,\"dew\":55.7,\"precip\":0.0,\"precipprob\":null,\"snow\":null,\"snowdepth\":null,\"preciptype\":null,\"windgust\":null,\"windspeed\":8.0,\"winddir\":89.0,\"pressure\":1011.6,\"visibility\":9.9,\"cloudcover\":0.0,\"solarradiation\":null,\"solarenergy\":null,\"uvindex\":0.0,\"conditions\":\"Clear\",\"icon\":\"clear-day\",\"stations\":[\"74739013961\",\"72259453909\",\"KAFW\",\"KNFW\",\"72259513911\",\"KFTW\"],\"source\":\"obs\"},{\"datetime\":\"11:00:00\",\"datetimeEpoch\":1317052800,\"temp\":74.7,\"feelslike\":74.7,\"humidity\":55.17,\"dew\":57.6,\"precip\":0.0,\"precipprob\":null,\"snow\":null,\"snowdepth\":null,\"preciptype\":null,\"windgust\":20.8,\"windspeed\":6.8,\"winddir\":81.0,\"pressure\":1011.7,\"visibility\":9.9,\"cloudcover\":0.0,\"solarradiation\":null,\"solarenergy\":null,\"uvindex\":0.0,\"conditions\":\"Clear\",\"icon\":\"clear-day\",\"stations\":[\"74739013961\",\"72259453909\",\"KAFW\",\"KNFW\",\"72259513911\",\"KFTW\"],\"source\":\"obs\"},{\"datetime\":\"12:00:00\",\"datetimeEpoch\":1317056400,\"temp\":78.9,\"feelslike\":78.9,\"humidity\":48.34,\"dew\":57.7,\"precip\":0.0,\"precipprob\":null,\"snow\":null,\"snowdepth\":null,\"preciptype\":null,\"windgust\":32.2,\"windspeed\":9.3,\"winddir\":101.0,\"pressure\":1011.0,\"visibility\":9.9,\"cloudcover\":0.0,\"solarradiation\":null,\"solarenergy\":null,\"uvindex\":0.0,\"conditions\":\"Clear\",\"icon\":\"clear-day\",\"stations\":[\"74739013961\",\"72259453909\",\"KAFW\",\"KNFW\",\"72259513911\",\"KFTW\"],\"source\":\"obs\"},{\"datetime\":\"13:00:00\",\"datetimeEpoch\":1317060000,\"temp\":81.3,\"feelslike\":81.9,\"humidity\":48.35,\"dew\":60.0,\"precip\":0.0,\"precipprob\":null,\"snow\":null,\"snowdepth\":null,\"preciptype\":null,\"windgust\":null,\"windspeed\":9.6,\"winddir\":93.0,\"pressure\":1010.3,\"visibility\":9.9,\"cloudcover\":0.0,\"solarradiation\":null,\"solarenergy\":null,\"uvindex\":0.0,\"conditions\":\"Clear\",\"icon\":\"clear-day\",\"stations\":[\"74739013961\",\"72259453909\",\"KAFW\",\"KNFW\",\"72259513911\",\"KFTW\"],\"source\":\"obs\"},{\"datetime\":\"14:00:00\",\"datetimeEpoch\":1317063600,\"temp\":84.2,\"feelslike\":84.2,\"humidity\":44.59,\"dew\":60.3,\"precip\":0.0,\"precipprob\":null,\"snow\":null,\"snowdepth\":null,\"preciptype\":null,\"windgust\":null,\"windspeed\":7.5,\"winddir\":108.0,\"pressure\":1009.6,\"visibility\":9.9,\"cloudcover\":3.1,\"solarradiation\":null,\"solarenergy\":null,\"uvindex\":0.0,\"conditions\":\"Clear\",\"icon\":\"clear-day\",\"stations\":[\"74739013961\",\"72259453909\",\"KAFW\",\"KNFW\",\"72259513911\",\"KFTW\"],\"source\":\"obs\"},{\"datetime\":\"15:00:00\",\"datetimeEpoch\":1317067200,\"temp\":87.4,\"feelslike\":87.2,\"humidity\":40.16,\"dew\":60.3,\"precip\":0.0,\"precipprob\":null,\"snow\":null,\"snowdepth\":null,\"preciptype\":null,\"windgust\":null,\"windspeed\":8.6,\"winddir\":103.0,\"pressure\":1008.7,\"visibility\":9.9,\"cloudcover\":3.1,\"solarradiation\":null,\"solarenergy\":null,\"uvindex\":0.0,\"conditions\":\"Clear\",\"icon\":\"clear-day\",\"stations\":[\"74739013961\",\"72259453909\",\"KAFW\",\"KNFW\",\"72259513911\",\"KFTW\"],\"source\":\"obs\"},{\"datetime\":\"16:00:00\",\"datetimeEpoch\":1317070800,\"temp\":89.0,\"feelslike\":88.7,\"humidity\":38.27,\"dew\":60.3,\"precip\":0.0,\"precipprob\":null,\"snow\":null,\"snowdepth\":null,\"preciptype\":null,\"windgust\":null,\"windspeed\":7.5,\"winddir\":85.0,\"pressure\":1008.1,\"visibility\":9.9,\"cloudcover\":3.1,\"solarradiation\":null,\"solarenergy\":null,\"uvindex\":0.0,\"conditions\":\"Clear\",\"icon\":\"clear-day\",\"stations\":[\"74739013961\",\"72259453909\",\"KAFW\",\"KNFW\",\"72259513911\",\"KFTW\"],\"source\":\"obs\"},{\"datetime\":\"17:00:00\",\"datetimeEpoch\":1317074400,\"temp\":89.2,\"feelslike\":89.1,\"humidity\":38.78,\"dew\":60.8,\"precip\":0.0,\"precipprob\":null,\"snow\":null,\"snowdepth\":null,\"preciptype\":null,\"windgust\":null,\"windspeed\":7.7,\"winddir\":76.0,\"pressure\":1007.7,\"visibility\":9.9,\"cloudcover\":3.1,\"solarradiation\":null,\"solarenergy\":null,\"uvindex\":0.0,\"conditions\":\"Clear\",\"icon\":\"clear-day\",\"stations\":[\"74739013961\",\"72259453909\",\"KAFW\",\"KNFW\",\"72259513911\",\"KFTW\"],\"source\":\"obs\"},{\"datetime\":\"18:00:00\",\"datetimeEpoch\":1317078000,\"temp\":88.1,\"feelslike\":88.2,\"humidity\":40.53,\"dew\":61.1,\"precip\":0.0,\"precipprob\":null,\"snow\":null,\"snowdepth\":null,\"preciptype\":null,\"windgust\":null,\"windspeed\":5.9,\"winddir\":95.0,\"pressure\":1007.4,\"visibility\":9.9,\"cloudcover\":0.0,\"solarradiation\":null,\"solarenergy\":null,\"uvindex\":0.0,\"conditions\":\"Clear\",\"icon\":\"clear-day\",\"stations\":[\"74739013961\",\"72259453909\",\"KAFW\",\"KNFW\",\"72259513911\",\"KFTW\"],\"source\":\"obs\"},{\"datetime\":\"19:00:00\",\"datetimeEpoch\":1317081600,\"temp\":87.2,\"feelslike\":87.3,\"humidity\":41.72,\"dew\":61.1,\"precip\":0.0,\"precipprob\":null,\"snow\":null,\"snowdepth\":null,\"preciptype\":null,\"windgust\":null,\"windspeed\":5.7,\"winddir\":79.0,\"pressure\":1007.1,\"visibility\":9.9,\"cloudcover\":0.0,\"solarradiation\":null,\"solarenergy\":null,\"uvindex\":0.0,\"conditions\":\"Clear\",\"icon\":\"clear-day\",\"stations\":[\"74739013961\",\"72259453909\",\"KAFW\",\"KNFW\",\"72259513911\",\"KFTW\"],\"source\":\"obs\"},{\"datetime\":\"20:00:00\",\"datetimeEpoch\":1317085200,\"temp\":84.2,\"feelslike\":84.5,\"humidity\":45.92,\"dew\":61.1,\"precip\":0.0,\"precipprob\":null,\"snow\":null,\"snowdepth\":null,\"preciptype\":null,\"windgust\":null,\"windspeed\":6.8,\"winddir\":58.0,\"pressure\":1007.1,\"visibility\":9.9,\"cloudcover\":0.0,\"solarradiation\":null,\"solarenergy\":null,\"uvindex\":0.0,\"conditions\":\"Clear\",\"icon\":\"clear-night\",\"stations\":[\"74739013961\",\"72259453909\",\"KAFW\",\"KNFW\",\"72259513911\",\"KFTW\"],\"source\":\"obs\"},{\"datetime\":\"21:00:00\",\"datetimeEpoch\":1317088800,\"temp\":81.8,\"feelslike\":82.8,\"humidity\":51.46,\"dew\":62.2,\"precip\":0.0,\"precipprob\":null,\"snow\":null,\"snowdepth\":null,\"preciptype\":null,\"windgust\":null,\"windspeed\":5.8,\"winddir\":41.0,\"pressure\":1007.7,\"visibility\":9.9,\"cloudcover\":0.0,\"solarradiation\":null,\"solarenergy\":null,\"uvindex\":0.0,\"conditions\":\"Clear\",\"icon\":\"clear-night\",\"stations\":[\"74739013961\",\"72259453909\",\"KAFW\",\"KNFW\",\"72259513911\",\"KFTW\"],\"source\":\"obs\"},{\"datetime\":\"22:00:00\",\"datetimeEpoch\":1317092400,\"temp\":80.4,\"feelslike\":81.6,\"humidity\":53.7,\"dew\":62.1,\"precip\":0.0,\"precipprob\":null,\"snow\":null,\"snowdepth\":null,\"preciptype\":null,\"windgust\":null,\"windspeed\":6.2,\"winddir\":67.0,\"pressure\":1008.2,\"visibility\":9.9,\"cloudcover\":0.0,\"solarradiation\":null,\"solarenergy\":null,\"uvindex\":0.0,\"conditions\":\"Clear\",\"icon\":\"clear-night\",\"stations\":[\"74739013961\",\"72259453909\",\"KAFW\",\"KNFW\",\"72259513911\",\"KFTW\"],\"source\":\"obs\"},{\"datetime\":\"23:00:00\",\"datetimeEpoch\":1317096000,\"temp\":79.6,\"feelslike\":79.6,\"humidity\":52.01,\"dew\":60.4,\"precip\":0.0,\"precipprob\":null,\"snow\":null,\"snowdepth\":null,\"preciptype\":null,\"windgust\":null,\"windspeed\":5.8,\"winddir\":63.0,\"pressure\":1008.6,\"visibility\":9.9,\"cloudcover\":0.0,\"solarradiation\":null,\"solarenergy\":null,\"uvindex\":0.0,\"conditions\":\"Clear\",\"icon\":\"clear-night\",\"stations\":[\"74739013961\",\"72259453909\",\"KAFW\",\"KNFW\",\"72259513911\",\"KFTW\"],\"source\":\"obs\"}]}],\"stations\":{\"74739013961\":{\"distance\":6157.0,\"latitude\":32.819,\"longitude\":-97.361,\"useCount\":0,\"id\":\"74739013961\",\"name\":\"FORT WORTH MEACHAM FIELD, TX US\",\"quality\":100,\"contribution\":0.0},\"72259453909\":{\"distance\":11469.0,\"latitude\":32.973,\"longitude\":-97.318,\"useCount\":0,\"id\":\"72259453909\",\"name\":\"FORT WORTH ALLIANCE AIRPORT, TX US\",\"quality\":100,\"contribution\":0.0},\"KAFW\":{\"distance\":11071.0,\"latitude\":32.97,\"longitude\":-97.32,\"useCount\":0,\"id\":\"KAFW\",\"name\":\"KAFW\",\"quality\":100,\"contribution\":0.0},\"KNFW\":{\"distance\":15025.0,\"latitude\":32.77,\"longitude\":-97.45,\"useCount\":0,\"id\":\"KNFW\",\"name\":\"KNFW\",\"quality\":100,\"contribution\":0.0},\"72259513911\":{\"distance\":15308.0,\"latitude\":32.767,\"longitude\":-97.45,\"useCount\":0,\"id\":\"72259513911\",\"name\":\"FORT WORTH NAS, TX US\",\"quality\":100,\"contribution\":0.0},\"KFTW\":{\"distance\":6307.0,\"latitude\":32.82,\"longitude\":-97.37,\"useCount\":0,\"id\":\"KFTW\",\"name\":\"FT WORTH/MEACHAM, TX\",\"quality\":100,\"contribution\":0.0}},\"currentConditions\":{\"datetime\":\"13:00:00\",\"datetimeEpoch\":1317060000,\"temp\":81.3,\"feelslike\":81.9,\"humidity\":48.3,\"dew\":60.0,\"precip\":0.0,\"precipprob\":null,\"snow\":null,\"snowdepth\":0.0,\"preciptype\":null,\"windgust\":null,\"windspeed\":9.6,\"winddir\":93.0,\"pressure\":1010.3,\"visibility\":9.9,\"cloudcover\":0.0,\"solarradiation\":null,\"solarenergy\":null,\"uvindex\":null,\"conditions\":\"Clear\",\"icon\":\"clear-day\",\"stations\":[\"74739013961\",\"72259453909\",\"KAFW\",\"KNFW\",\"72259513911\",\"KFTW\"],\"sunrise\":\"07:19:57\",\"sunriseEpoch\":1317039597,\"sunset\":\"19:21:03\",\"sunsetEpoch\":1317082863,\"moonphase\":1.0}}'"
      ]
     },
     "execution_count": 19,
     "metadata": {},
     "output_type": "execute_result"
    }
   ],
   "source": [
    "s=r.text\n",
    "s"
   ]
  },
  {
   "cell_type": "code",
   "execution_count": 22,
   "id": "8c69ae41",
   "metadata": {},
   "outputs": [],
   "source": [
    "d=json.loads(s)"
   ]
  },
  {
   "cell_type": "code",
   "execution_count": 23,
   "id": "9acb2843",
   "metadata": {},
   "outputs": [
    {
     "data": {
      "text/plain": [
       "{'queryCost': 24,\n",
       " 'latitude': 32.873017,\n",
       " 'longitude': -97.34622,\n",
       " 'resolvedAddress': '76131, USA',\n",
       " 'address': '76131',\n",
       " 'timezone': 'America/Chicago',\n",
       " 'tzoffset': -5.0,\n",
       " 'days': [{'datetime': '2011-09-26',\n",
       "   'datetimeEpoch': 1317013200,\n",
       "   'tempmax': 89.2,\n",
       "   'tempmin': 62.5,\n",
       "   'temp': 76.0,\n",
       "   'feelslikemax': 89.1,\n",
       "   'feelslikemin': 62.5,\n",
       "   'feelslike': 76.1,\n",
       "   'dew': 55.7,\n",
       "   'humidity': 50.16,\n",
       "   'precip': 0.0,\n",
       "   'precipprob': None,\n",
       "   'precipcover': 0.0,\n",
       "   'preciptype': None,\n",
       "   'snow': None,\n",
       "   'snowdepth': None,\n",
       "   'windgust': 32.2,\n",
       "   'windspeed': 9.6,\n",
       "   'winddir': 68.5,\n",
       "   'pressure': 1009.1,\n",
       "   'cloudcover': 0.5,\n",
       "   'visibility': 9.9,\n",
       "   'solarradiation': None,\n",
       "   'solarenergy': None,\n",
       "   'uvindex': 0.0,\n",
       "   'sunrise': '07:19:57',\n",
       "   'sunriseEpoch': 1317039597,\n",
       "   'sunset': '19:21:03',\n",
       "   'sunsetEpoch': 1317082863,\n",
       "   'moonphase': 1.0,\n",
       "   'conditions': 'Clear',\n",
       "   'description': 'Clear conditions throughout the day.',\n",
       "   'icon': 'clear-day',\n",
       "   'stations': ['74739013961',\n",
       "    '72259453909',\n",
       "    'KAFW',\n",
       "    'KNFW',\n",
       "    '72259513911',\n",
       "    'KFTW'],\n",
       "   'source': 'obs',\n",
       "   'hours': [{'datetime': '00:00:00',\n",
       "     'datetimeEpoch': 1317013200,\n",
       "     'temp': 73.4,\n",
       "     'feelslike': 73.4,\n",
       "     'humidity': 40.26,\n",
       "     'dew': 47.8,\n",
       "     'precip': 0.0,\n",
       "     'precipprob': None,\n",
       "     'snow': None,\n",
       "     'snowdepth': None,\n",
       "     'preciptype': None,\n",
       "     'windgust': None,\n",
       "     'windspeed': 8.8,\n",
       "     'winddir': 28.0,\n",
       "     'pressure': 1007.5,\n",
       "     'visibility': 9.9,\n",
       "     'cloudcover': 0.0,\n",
       "     'solarradiation': None,\n",
       "     'solarenergy': None,\n",
       "     'uvindex': 0.0,\n",
       "     'conditions': 'Clear',\n",
       "     'icon': 'clear-night',\n",
       "     'stations': ['74739013961',\n",
       "      '72259453909',\n",
       "      'KAFW',\n",
       "      'KNFW',\n",
       "      '72259513911',\n",
       "      'KFTW'],\n",
       "     'source': 'obs'},\n",
       "    {'datetime': '01:00:00',\n",
       "     'datetimeEpoch': 1317016800,\n",
       "     'temp': 71.1,\n",
       "     'feelslike': 71.1,\n",
       "     'humidity': 45.09,\n",
       "     'dew': 48.7,\n",
       "     'precip': 0.0,\n",
       "     'precipprob': None,\n",
       "     'snow': None,\n",
       "     'snowdepth': None,\n",
       "     'preciptype': None,\n",
       "     'windgust': None,\n",
       "     'windspeed': 8.4,\n",
       "     'winddir': 45.0,\n",
       "     'pressure': 1007.8,\n",
       "     'visibility': 9.9,\n",
       "     'cloudcover': 0.0,\n",
       "     'solarradiation': None,\n",
       "     'solarenergy': None,\n",
       "     'uvindex': 0.0,\n",
       "     'conditions': 'Clear',\n",
       "     'icon': 'clear-night',\n",
       "     'stations': ['74739013961',\n",
       "      '72259453909',\n",
       "      'KAFW',\n",
       "      'KNFW',\n",
       "      '72259513911',\n",
       "      'KFTW'],\n",
       "     'source': 'obs'},\n",
       "    {'datetime': '02:00:00',\n",
       "     'datetimeEpoch': 1317020400,\n",
       "     'temp': 70.0,\n",
       "     'feelslike': 70.0,\n",
       "     'humidity': 46.09,\n",
       "     'dew': 48.3,\n",
       "     'precip': 0.0,\n",
       "     'precipprob': None,\n",
       "     'snow': None,\n",
       "     'snowdepth': None,\n",
       "     'preciptype': None,\n",
       "     'windgust': None,\n",
       "     'windspeed': 7.5,\n",
       "     'winddir': 45.0,\n",
       "     'pressure': 1008.6,\n",
       "     'visibility': 9.9,\n",
       "     'cloudcover': 0.0,\n",
       "     'solarradiation': None,\n",
       "     'solarenergy': None,\n",
       "     'uvindex': 0.0,\n",
       "     'conditions': 'Clear',\n",
       "     'icon': 'clear-night',\n",
       "     'stations': ['74739013961',\n",
       "      '72259453909',\n",
       "      'KAFW',\n",
       "      'KNFW',\n",
       "      '72259513911',\n",
       "      'KFTW'],\n",
       "     'source': 'obs'},\n",
       "    {'datetime': '03:00:00',\n",
       "     'datetimeEpoch': 1317024000,\n",
       "     'temp': 67.9,\n",
       "     'feelslike': 67.9,\n",
       "     'humidity': 48.68,\n",
       "     'dew': 47.9,\n",
       "     'precip': 0.0,\n",
       "     'precipprob': None,\n",
       "     'snow': None,\n",
       "     'snowdepth': None,\n",
       "     'preciptype': None,\n",
       "     'windgust': None,\n",
       "     'windspeed': 7.4,\n",
       "     'winddir': 50.0,\n",
       "     'pressure': 1009.0,\n",
       "     'visibility': 9.9,\n",
       "     'cloudcover': 0.0,\n",
       "     'solarradiation': None,\n",
       "     'solarenergy': None,\n",
       "     'uvindex': 0.0,\n",
       "     'conditions': 'Clear',\n",
       "     'icon': 'clear-night',\n",
       "     'stations': ['74739013961',\n",
       "      '72259453909',\n",
       "      'KAFW',\n",
       "      'KNFW',\n",
       "      '72259513911',\n",
       "      'KFTW'],\n",
       "     'source': 'obs'},\n",
       "    {'datetime': '04:00:00',\n",
       "     'datetimeEpoch': 1317027600,\n",
       "     'temp': 66.2,\n",
       "     'feelslike': 66.2,\n",
       "     'humidity': 52.44,\n",
       "     'dew': 48.3,\n",
       "     'precip': 0.0,\n",
       "     'precipprob': None,\n",
       "     'snow': None,\n",
       "     'snowdepth': None,\n",
       "     'preciptype': None,\n",
       "     'windgust': None,\n",
       "     'windspeed': 7.1,\n",
       "     'winddir': 67.0,\n",
       "     'pressure': 1009.6,\n",
       "     'visibility': 9.9,\n",
       "     'cloudcover': 0.0,\n",
       "     'solarradiation': None,\n",
       "     'solarenergy': None,\n",
       "     'uvindex': 0.0,\n",
       "     'conditions': 'Clear',\n",
       "     'icon': 'clear-night',\n",
       "     'stations': ['74739013961',\n",
       "      '72259453909',\n",
       "      'KAFW',\n",
       "      'KNFW',\n",
       "      '72259513911',\n",
       "      'KFTW'],\n",
       "     'source': 'obs'},\n",
       "    {'datetime': '05:00:00',\n",
       "     'datetimeEpoch': 1317031200,\n",
       "     'temp': 65.4,\n",
       "     'feelslike': 65.4,\n",
       "     'humidity': 54.58,\n",
       "     'dew': 48.6,\n",
       "     'precip': 0.0,\n",
       "     'precipprob': None,\n",
       "     'snow': None,\n",
       "     'snowdepth': None,\n",
       "     'preciptype': None,\n",
       "     'windgust': None,\n",
       "     'windspeed': 5.9,\n",
       "     'winddir': 54.0,\n",
       "     'pressure': 1009.5,\n",
       "     'visibility': 9.9,\n",
       "     'cloudcover': 0.0,\n",
       "     'solarradiation': None,\n",
       "     'solarenergy': None,\n",
       "     'uvindex': 0.0,\n",
       "     'conditions': 'Clear',\n",
       "     'icon': 'clear-night',\n",
       "     'stations': ['74739013961',\n",
       "      '72259453909',\n",
       "      'KAFW',\n",
       "      'KNFW',\n",
       "      '72259513911',\n",
       "      'KFTW'],\n",
       "     'source': 'obs'},\n",
       "    {'datetime': '06:00:00',\n",
       "     'datetimeEpoch': 1317034800,\n",
       "     'temp': 63.8,\n",
       "     'feelslike': 63.8,\n",
       "     'humidity': 61.27,\n",
       "     'dew': 50.2,\n",
       "     'precip': 0.0,\n",
       "     'precipprob': None,\n",
       "     'snow': None,\n",
       "     'snowdepth': None,\n",
       "     'preciptype': None,\n",
       "     'windgust': None,\n",
       "     'windspeed': 5.4,\n",
       "     'winddir': 54.0,\n",
       "     'pressure': 1009.8,\n",
       "     'visibility': 9.9,\n",
       "     'cloudcover': 0.0,\n",
       "     'solarradiation': None,\n",
       "     'solarenergy': None,\n",
       "     'uvindex': 0.0,\n",
       "     'conditions': 'Clear',\n",
       "     'icon': 'clear-night',\n",
       "     'stations': ['74739013961', '72259453909', 'KAFW', 'KNFW', 'KFTW'],\n",
       "     'source': 'obs'},\n",
       "    {'datetime': '07:00:00',\n",
       "     'datetimeEpoch': 1317038400,\n",
       "     'temp': 62.5,\n",
       "     'feelslike': 62.5,\n",
       "     'humidity': 65.86,\n",
       "     'dew': 51.0,\n",
       "     'precip': 0.0,\n",
       "     'precipprob': None,\n",
       "     'snow': None,\n",
       "     'snowdepth': None,\n",
       "     'preciptype': None,\n",
       "     'windgust': None,\n",
       "     'windspeed': 4.3,\n",
       "     'winddir': 53.0,\n",
       "     'pressure': 1010.4,\n",
       "     'visibility': 9.9,\n",
       "     'cloudcover': 0.0,\n",
       "     'solarradiation': None,\n",
       "     'solarenergy': None,\n",
       "     'uvindex': 0.0,\n",
       "     'conditions': 'Clear',\n",
       "     'icon': 'clear-night',\n",
       "     'stations': ['74739013961',\n",
       "      '72259453909',\n",
       "      'KAFW',\n",
       "      'KNFW',\n",
       "      '72259513911',\n",
       "      'KFTW'],\n",
       "     'source': 'obs'},\n",
       "    {'datetime': '08:00:00',\n",
       "     'datetimeEpoch': 1317042000,\n",
       "     'temp': 62.5,\n",
       "     'feelslike': 62.5,\n",
       "     'humidity': 66.74,\n",
       "     'dew': 51.3,\n",
       "     'precip': 0.0,\n",
       "     'precipprob': None,\n",
       "     'snow': None,\n",
       "     'snowdepth': None,\n",
       "     'preciptype': None,\n",
       "     'windgust': None,\n",
       "     'windspeed': 5.2,\n",
       "     'winddir': 49.0,\n",
       "     'pressure': 1010.8,\n",
       "     'visibility': 9.9,\n",
       "     'cloudcover': 0.0,\n",
       "     'solarradiation': None,\n",
       "     'solarenergy': None,\n",
       "     'uvindex': 0.0,\n",
       "     'conditions': 'Clear',\n",
       "     'icon': 'clear-day',\n",
       "     'stations': ['74739013961',\n",
       "      '72259453909',\n",
       "      'KAFW',\n",
       "      'KNFW',\n",
       "      '72259513911',\n",
       "      'KFTW'],\n",
       "     'source': 'obs'},\n",
       "    {'datetime': '09:00:00',\n",
       "     'datetimeEpoch': 1317045600,\n",
       "     'temp': 65.8,\n",
       "     'feelslike': 65.8,\n",
       "     'humidity': 63.44,\n",
       "     'dew': 53.0,\n",
       "     'precip': 0.0,\n",
       "     'precipprob': None,\n",
       "     'snow': None,\n",
       "     'snowdepth': None,\n",
       "     'preciptype': None,\n",
       "     'windgust': None,\n",
       "     'windspeed': 7.7,\n",
       "     'winddir': 59.0,\n",
       "     'pressure': 1011.3,\n",
       "     'visibility': 9.9,\n",
       "     'cloudcover': 0.0,\n",
       "     'solarradiation': None,\n",
       "     'solarenergy': None,\n",
       "     'uvindex': 0.0,\n",
       "     'conditions': 'Clear',\n",
       "     'icon': 'clear-day',\n",
       "     'stations': ['74739013961',\n",
       "      '72259453909',\n",
       "      'KAFW',\n",
       "      'KNFW',\n",
       "      '72259513911',\n",
       "      'KFTW'],\n",
       "     'source': 'obs'},\n",
       "    {'datetime': '10:00:00',\n",
       "     'datetimeEpoch': 1317049200,\n",
       "     'temp': 70.0,\n",
       "     'feelslike': 70.0,\n",
       "     'humidity': 60.45,\n",
       "     'dew': 55.7,\n",
       "     'precip': 0.0,\n",
       "     'precipprob': None,\n",
       "     'snow': None,\n",
       "     'snowdepth': None,\n",
       "     'preciptype': None,\n",
       "     'windgust': None,\n",
       "     'windspeed': 8.0,\n",
       "     'winddir': 89.0,\n",
       "     'pressure': 1011.6,\n",
       "     'visibility': 9.9,\n",
       "     'cloudcover': 0.0,\n",
       "     'solarradiation': None,\n",
       "     'solarenergy': None,\n",
       "     'uvindex': 0.0,\n",
       "     'conditions': 'Clear',\n",
       "     'icon': 'clear-day',\n",
       "     'stations': ['74739013961',\n",
       "      '72259453909',\n",
       "      'KAFW',\n",
       "      'KNFW',\n",
       "      '72259513911',\n",
       "      'KFTW'],\n",
       "     'source': 'obs'},\n",
       "    {'datetime': '11:00:00',\n",
       "     'datetimeEpoch': 1317052800,\n",
       "     'temp': 74.7,\n",
       "     'feelslike': 74.7,\n",
       "     'humidity': 55.17,\n",
       "     'dew': 57.6,\n",
       "     'precip': 0.0,\n",
       "     'precipprob': None,\n",
       "     'snow': None,\n",
       "     'snowdepth': None,\n",
       "     'preciptype': None,\n",
       "     'windgust': 20.8,\n",
       "     'windspeed': 6.8,\n",
       "     'winddir': 81.0,\n",
       "     'pressure': 1011.7,\n",
       "     'visibility': 9.9,\n",
       "     'cloudcover': 0.0,\n",
       "     'solarradiation': None,\n",
       "     'solarenergy': None,\n",
       "     'uvindex': 0.0,\n",
       "     'conditions': 'Clear',\n",
       "     'icon': 'clear-day',\n",
       "     'stations': ['74739013961',\n",
       "      '72259453909',\n",
       "      'KAFW',\n",
       "      'KNFW',\n",
       "      '72259513911',\n",
       "      'KFTW'],\n",
       "     'source': 'obs'},\n",
       "    {'datetime': '12:00:00',\n",
       "     'datetimeEpoch': 1317056400,\n",
       "     'temp': 78.9,\n",
       "     'feelslike': 78.9,\n",
       "     'humidity': 48.34,\n",
       "     'dew': 57.7,\n",
       "     'precip': 0.0,\n",
       "     'precipprob': None,\n",
       "     'snow': None,\n",
       "     'snowdepth': None,\n",
       "     'preciptype': None,\n",
       "     'windgust': 32.2,\n",
       "     'windspeed': 9.3,\n",
       "     'winddir': 101.0,\n",
       "     'pressure': 1011.0,\n",
       "     'visibility': 9.9,\n",
       "     'cloudcover': 0.0,\n",
       "     'solarradiation': None,\n",
       "     'solarenergy': None,\n",
       "     'uvindex': 0.0,\n",
       "     'conditions': 'Clear',\n",
       "     'icon': 'clear-day',\n",
       "     'stations': ['74739013961',\n",
       "      '72259453909',\n",
       "      'KAFW',\n",
       "      'KNFW',\n",
       "      '72259513911',\n",
       "      'KFTW'],\n",
       "     'source': 'obs'},\n",
       "    {'datetime': '13:00:00',\n",
       "     'datetimeEpoch': 1317060000,\n",
       "     'temp': 81.3,\n",
       "     'feelslike': 81.9,\n",
       "     'humidity': 48.35,\n",
       "     'dew': 60.0,\n",
       "     'precip': 0.0,\n",
       "     'precipprob': None,\n",
       "     'snow': None,\n",
       "     'snowdepth': None,\n",
       "     'preciptype': None,\n",
       "     'windgust': None,\n",
       "     'windspeed': 9.6,\n",
       "     'winddir': 93.0,\n",
       "     'pressure': 1010.3,\n",
       "     'visibility': 9.9,\n",
       "     'cloudcover': 0.0,\n",
       "     'solarradiation': None,\n",
       "     'solarenergy': None,\n",
       "     'uvindex': 0.0,\n",
       "     'conditions': 'Clear',\n",
       "     'icon': 'clear-day',\n",
       "     'stations': ['74739013961',\n",
       "      '72259453909',\n",
       "      'KAFW',\n",
       "      'KNFW',\n",
       "      '72259513911',\n",
       "      'KFTW'],\n",
       "     'source': 'obs'},\n",
       "    {'datetime': '14:00:00',\n",
       "     'datetimeEpoch': 1317063600,\n",
       "     'temp': 84.2,\n",
       "     'feelslike': 84.2,\n",
       "     'humidity': 44.59,\n",
       "     'dew': 60.3,\n",
       "     'precip': 0.0,\n",
       "     'precipprob': None,\n",
       "     'snow': None,\n",
       "     'snowdepth': None,\n",
       "     'preciptype': None,\n",
       "     'windgust': None,\n",
       "     'windspeed': 7.5,\n",
       "     'winddir': 108.0,\n",
       "     'pressure': 1009.6,\n",
       "     'visibility': 9.9,\n",
       "     'cloudcover': 3.1,\n",
       "     'solarradiation': None,\n",
       "     'solarenergy': None,\n",
       "     'uvindex': 0.0,\n",
       "     'conditions': 'Clear',\n",
       "     'icon': 'clear-day',\n",
       "     'stations': ['74739013961',\n",
       "      '72259453909',\n",
       "      'KAFW',\n",
       "      'KNFW',\n",
       "      '72259513911',\n",
       "      'KFTW'],\n",
       "     'source': 'obs'},\n",
       "    {'datetime': '15:00:00',\n",
       "     'datetimeEpoch': 1317067200,\n",
       "     'temp': 87.4,\n",
       "     'feelslike': 87.2,\n",
       "     'humidity': 40.16,\n",
       "     'dew': 60.3,\n",
       "     'precip': 0.0,\n",
       "     'precipprob': None,\n",
       "     'snow': None,\n",
       "     'snowdepth': None,\n",
       "     'preciptype': None,\n",
       "     'windgust': None,\n",
       "     'windspeed': 8.6,\n",
       "     'winddir': 103.0,\n",
       "     'pressure': 1008.7,\n",
       "     'visibility': 9.9,\n",
       "     'cloudcover': 3.1,\n",
       "     'solarradiation': None,\n",
       "     'solarenergy': None,\n",
       "     'uvindex': 0.0,\n",
       "     'conditions': 'Clear',\n",
       "     'icon': 'clear-day',\n",
       "     'stations': ['74739013961',\n",
       "      '72259453909',\n",
       "      'KAFW',\n",
       "      'KNFW',\n",
       "      '72259513911',\n",
       "      'KFTW'],\n",
       "     'source': 'obs'},\n",
       "    {'datetime': '16:00:00',\n",
       "     'datetimeEpoch': 1317070800,\n",
       "     'temp': 89.0,\n",
       "     'feelslike': 88.7,\n",
       "     'humidity': 38.27,\n",
       "     'dew': 60.3,\n",
       "     'precip': 0.0,\n",
       "     'precipprob': None,\n",
       "     'snow': None,\n",
       "     'snowdepth': None,\n",
       "     'preciptype': None,\n",
       "     'windgust': None,\n",
       "     'windspeed': 7.5,\n",
       "     'winddir': 85.0,\n",
       "     'pressure': 1008.1,\n",
       "     'visibility': 9.9,\n",
       "     'cloudcover': 3.1,\n",
       "     'solarradiation': None,\n",
       "     'solarenergy': None,\n",
       "     'uvindex': 0.0,\n",
       "     'conditions': 'Clear',\n",
       "     'icon': 'clear-day',\n",
       "     'stations': ['74739013961',\n",
       "      '72259453909',\n",
       "      'KAFW',\n",
       "      'KNFW',\n",
       "      '72259513911',\n",
       "      'KFTW'],\n",
       "     'source': 'obs'},\n",
       "    {'datetime': '17:00:00',\n",
       "     'datetimeEpoch': 1317074400,\n",
       "     'temp': 89.2,\n",
       "     'feelslike': 89.1,\n",
       "     'humidity': 38.78,\n",
       "     'dew': 60.8,\n",
       "     'precip': 0.0,\n",
       "     'precipprob': None,\n",
       "     'snow': None,\n",
       "     'snowdepth': None,\n",
       "     'preciptype': None,\n",
       "     'windgust': None,\n",
       "     'windspeed': 7.7,\n",
       "     'winddir': 76.0,\n",
       "     'pressure': 1007.7,\n",
       "     'visibility': 9.9,\n",
       "     'cloudcover': 3.1,\n",
       "     'solarradiation': None,\n",
       "     'solarenergy': None,\n",
       "     'uvindex': 0.0,\n",
       "     'conditions': 'Clear',\n",
       "     'icon': 'clear-day',\n",
       "     'stations': ['74739013961',\n",
       "      '72259453909',\n",
       "      'KAFW',\n",
       "      'KNFW',\n",
       "      '72259513911',\n",
       "      'KFTW'],\n",
       "     'source': 'obs'},\n",
       "    {'datetime': '18:00:00',\n",
       "     'datetimeEpoch': 1317078000,\n",
       "     'temp': 88.1,\n",
       "     'feelslike': 88.2,\n",
       "     'humidity': 40.53,\n",
       "     'dew': 61.1,\n",
       "     'precip': 0.0,\n",
       "     'precipprob': None,\n",
       "     'snow': None,\n",
       "     'snowdepth': None,\n",
       "     'preciptype': None,\n",
       "     'windgust': None,\n",
       "     'windspeed': 5.9,\n",
       "     'winddir': 95.0,\n",
       "     'pressure': 1007.4,\n",
       "     'visibility': 9.9,\n",
       "     'cloudcover': 0.0,\n",
       "     'solarradiation': None,\n",
       "     'solarenergy': None,\n",
       "     'uvindex': 0.0,\n",
       "     'conditions': 'Clear',\n",
       "     'icon': 'clear-day',\n",
       "     'stations': ['74739013961',\n",
       "      '72259453909',\n",
       "      'KAFW',\n",
       "      'KNFW',\n",
       "      '72259513911',\n",
       "      'KFTW'],\n",
       "     'source': 'obs'},\n",
       "    {'datetime': '19:00:00',\n",
       "     'datetimeEpoch': 1317081600,\n",
       "     'temp': 87.2,\n",
       "     'feelslike': 87.3,\n",
       "     'humidity': 41.72,\n",
       "     'dew': 61.1,\n",
       "     'precip': 0.0,\n",
       "     'precipprob': None,\n",
       "     'snow': None,\n",
       "     'snowdepth': None,\n",
       "     'preciptype': None,\n",
       "     'windgust': None,\n",
       "     'windspeed': 5.7,\n",
       "     'winddir': 79.0,\n",
       "     'pressure': 1007.1,\n",
       "     'visibility': 9.9,\n",
       "     'cloudcover': 0.0,\n",
       "     'solarradiation': None,\n",
       "     'solarenergy': None,\n",
       "     'uvindex': 0.0,\n",
       "     'conditions': 'Clear',\n",
       "     'icon': 'clear-day',\n",
       "     'stations': ['74739013961',\n",
       "      '72259453909',\n",
       "      'KAFW',\n",
       "      'KNFW',\n",
       "      '72259513911',\n",
       "      'KFTW'],\n",
       "     'source': 'obs'},\n",
       "    {'datetime': '20:00:00',\n",
       "     'datetimeEpoch': 1317085200,\n",
       "     'temp': 84.2,\n",
       "     'feelslike': 84.5,\n",
       "     'humidity': 45.92,\n",
       "     'dew': 61.1,\n",
       "     'precip': 0.0,\n",
       "     'precipprob': None,\n",
       "     'snow': None,\n",
       "     'snowdepth': None,\n",
       "     'preciptype': None,\n",
       "     'windgust': None,\n",
       "     'windspeed': 6.8,\n",
       "     'winddir': 58.0,\n",
       "     'pressure': 1007.1,\n",
       "     'visibility': 9.9,\n",
       "     'cloudcover': 0.0,\n",
       "     'solarradiation': None,\n",
       "     'solarenergy': None,\n",
       "     'uvindex': 0.0,\n",
       "     'conditions': 'Clear',\n",
       "     'icon': 'clear-night',\n",
       "     'stations': ['74739013961',\n",
       "      '72259453909',\n",
       "      'KAFW',\n",
       "      'KNFW',\n",
       "      '72259513911',\n",
       "      'KFTW'],\n",
       "     'source': 'obs'},\n",
       "    {'datetime': '21:00:00',\n",
       "     'datetimeEpoch': 1317088800,\n",
       "     'temp': 81.8,\n",
       "     'feelslike': 82.8,\n",
       "     'humidity': 51.46,\n",
       "     'dew': 62.2,\n",
       "     'precip': 0.0,\n",
       "     'precipprob': None,\n",
       "     'snow': None,\n",
       "     'snowdepth': None,\n",
       "     'preciptype': None,\n",
       "     'windgust': None,\n",
       "     'windspeed': 5.8,\n",
       "     'winddir': 41.0,\n",
       "     'pressure': 1007.7,\n",
       "     'visibility': 9.9,\n",
       "     'cloudcover': 0.0,\n",
       "     'solarradiation': None,\n",
       "     'solarenergy': None,\n",
       "     'uvindex': 0.0,\n",
       "     'conditions': 'Clear',\n",
       "     'icon': 'clear-night',\n",
       "     'stations': ['74739013961',\n",
       "      '72259453909',\n",
       "      'KAFW',\n",
       "      'KNFW',\n",
       "      '72259513911',\n",
       "      'KFTW'],\n",
       "     'source': 'obs'},\n",
       "    {'datetime': '22:00:00',\n",
       "     'datetimeEpoch': 1317092400,\n",
       "     'temp': 80.4,\n",
       "     'feelslike': 81.6,\n",
       "     'humidity': 53.7,\n",
       "     'dew': 62.1,\n",
       "     'precip': 0.0,\n",
       "     'precipprob': None,\n",
       "     'snow': None,\n",
       "     'snowdepth': None,\n",
       "     'preciptype': None,\n",
       "     'windgust': None,\n",
       "     'windspeed': 6.2,\n",
       "     'winddir': 67.0,\n",
       "     'pressure': 1008.2,\n",
       "     'visibility': 9.9,\n",
       "     'cloudcover': 0.0,\n",
       "     'solarradiation': None,\n",
       "     'solarenergy': None,\n",
       "     'uvindex': 0.0,\n",
       "     'conditions': 'Clear',\n",
       "     'icon': 'clear-night',\n",
       "     'stations': ['74739013961',\n",
       "      '72259453909',\n",
       "      'KAFW',\n",
       "      'KNFW',\n",
       "      '72259513911',\n",
       "      'KFTW'],\n",
       "     'source': 'obs'},\n",
       "    {'datetime': '23:00:00',\n",
       "     'datetimeEpoch': 1317096000,\n",
       "     'temp': 79.6,\n",
       "     'feelslike': 79.6,\n",
       "     'humidity': 52.01,\n",
       "     'dew': 60.4,\n",
       "     'precip': 0.0,\n",
       "     'precipprob': None,\n",
       "     'snow': None,\n",
       "     'snowdepth': None,\n",
       "     'preciptype': None,\n",
       "     'windgust': None,\n",
       "     'windspeed': 5.8,\n",
       "     'winddir': 63.0,\n",
       "     'pressure': 1008.6,\n",
       "     'visibility': 9.9,\n",
       "     'cloudcover': 0.0,\n",
       "     'solarradiation': None,\n",
       "     'solarenergy': None,\n",
       "     'uvindex': 0.0,\n",
       "     'conditions': 'Clear',\n",
       "     'icon': 'clear-night',\n",
       "     'stations': ['74739013961',\n",
       "      '72259453909',\n",
       "      'KAFW',\n",
       "      'KNFW',\n",
       "      '72259513911',\n",
       "      'KFTW'],\n",
       "     'source': 'obs'}]}],\n",
       " 'stations': {'74739013961': {'distance': 6157.0,\n",
       "   'latitude': 32.819,\n",
       "   'longitude': -97.361,\n",
       "   'useCount': 0,\n",
       "   'id': '74739013961',\n",
       "   'name': 'FORT WORTH MEACHAM FIELD, TX US',\n",
       "   'quality': 100,\n",
       "   'contribution': 0.0},\n",
       "  '72259453909': {'distance': 11469.0,\n",
       "   'latitude': 32.973,\n",
       "   'longitude': -97.318,\n",
       "   'useCount': 0,\n",
       "   'id': '72259453909',\n",
       "   'name': 'FORT WORTH ALLIANCE AIRPORT, TX US',\n",
       "   'quality': 100,\n",
       "   'contribution': 0.0},\n",
       "  'KAFW': {'distance': 11071.0,\n",
       "   'latitude': 32.97,\n",
       "   'longitude': -97.32,\n",
       "   'useCount': 0,\n",
       "   'id': 'KAFW',\n",
       "   'name': 'KAFW',\n",
       "   'quality': 100,\n",
       "   'contribution': 0.0},\n",
       "  'KNFW': {'distance': 15025.0,\n",
       "   'latitude': 32.77,\n",
       "   'longitude': -97.45,\n",
       "   'useCount': 0,\n",
       "   'id': 'KNFW',\n",
       "   'name': 'KNFW',\n",
       "   'quality': 100,\n",
       "   'contribution': 0.0},\n",
       "  '72259513911': {'distance': 15308.0,\n",
       "   'latitude': 32.767,\n",
       "   'longitude': -97.45,\n",
       "   'useCount': 0,\n",
       "   'id': '72259513911',\n",
       "   'name': 'FORT WORTH NAS, TX US',\n",
       "   'quality': 100,\n",
       "   'contribution': 0.0},\n",
       "  'KFTW': {'distance': 6307.0,\n",
       "   'latitude': 32.82,\n",
       "   'longitude': -97.37,\n",
       "   'useCount': 0,\n",
       "   'id': 'KFTW',\n",
       "   'name': 'FT WORTH/MEACHAM, TX',\n",
       "   'quality': 100,\n",
       "   'contribution': 0.0}},\n",
       " 'currentConditions': {'datetime': '13:00:00',\n",
       "  'datetimeEpoch': 1317060000,\n",
       "  'temp': 81.3,\n",
       "  'feelslike': 81.9,\n",
       "  'humidity': 48.3,\n",
       "  'dew': 60.0,\n",
       "  'precip': 0.0,\n",
       "  'precipprob': None,\n",
       "  'snow': None,\n",
       "  'snowdepth': 0.0,\n",
       "  'preciptype': None,\n",
       "  'windgust': None,\n",
       "  'windspeed': 9.6,\n",
       "  'winddir': 93.0,\n",
       "  'pressure': 1010.3,\n",
       "  'visibility': 9.9,\n",
       "  'cloudcover': 0.0,\n",
       "  'solarradiation': None,\n",
       "  'solarenergy': None,\n",
       "  'uvindex': None,\n",
       "  'conditions': 'Clear',\n",
       "  'icon': 'clear-day',\n",
       "  'stations': ['74739013961',\n",
       "   '72259453909',\n",
       "   'KAFW',\n",
       "   'KNFW',\n",
       "   '72259513911',\n",
       "   'KFTW'],\n",
       "  'sunrise': '07:19:57',\n",
       "  'sunriseEpoch': 1317039597,\n",
       "  'sunset': '19:21:03',\n",
       "  'sunsetEpoch': 1317082863,\n",
       "  'moonphase': 1.0}}"
      ]
     },
     "execution_count": 23,
     "metadata": {},
     "output_type": "execute_result"
    }
   ],
   "source": [
    "d"
   ]
  },
  {
   "cell_type": "code",
   "execution_count": null,
   "id": "7d046056",
   "metadata": {},
   "outputs": [],
   "source": []
  }
 ],
 "metadata": {
  "kernelspec": {
   "display_name": "Python 3 (ipykernel)",
   "language": "python",
   "name": "python3"
  },
  "language_info": {
   "codemirror_mode": {
    "name": "ipython",
    "version": 3
   },
   "file_extension": ".py",
   "mimetype": "text/x-python",
   "name": "python",
   "nbconvert_exporter": "python",
   "pygments_lexer": "ipython3",
   "version": "3.9.7"
  }
 },
 "nbformat": 4,
 "nbformat_minor": 5
}

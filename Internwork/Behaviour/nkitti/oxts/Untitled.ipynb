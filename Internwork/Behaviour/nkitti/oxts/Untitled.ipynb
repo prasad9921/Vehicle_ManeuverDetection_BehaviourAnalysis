{
 "cells": [
  {
   "cell_type": "code",
   "execution_count": 1,
   "id": "df401a04",
   "metadata": {},
   "outputs": [
    {
     "name": "stdout",
     "output_type": "stream",
     "text": [
      "['49.014469305055', '8.4323954473023', '116.43120574951', '0.013512', '0.007208', '-3.0025129803847', '-1.2424467338666', '-8.5325182699632', '8.6225009735591', '-0.023377717262865', '-0.14317006071049', '-0.041490794905849', '-0.20837820539826', '9.093745089874', '0.058055375869602', '-0.3200438466906', '9.0900592561877', '0.023343899978178', '-0.070017406558051', '-0.049960205878114', '0.022763740077163', '-0.069408036450491', '-0.051115285263642', '0.032202484376209', '0.015', '4', '9', '6', '6', '0']\n"
     ]
    }
   ],
   "source": [
    "f = open(\"data/0000000000.txt\", \"r\")\n",
    "l=[]\n",
    "for x in f:\n",
    "    a=x.split()\n",
    "    l.append(a)\n",
    "    print(a)"
   ]
  },
  {
   "cell_type": "code",
   "execution_count": 12,
   "id": "41aac1ad",
   "metadata": {},
   "outputs": [],
   "source": [
    "la=[]\n",
    "lo=[]\n",
    "a1=[]\n",
    "b=[]\n",
    "c=[]\n",
    "for i in range(77):\n",
    "    x=str(i)\n",
    "    s='0'*(10-len(x))+x+'.txt'\n",
    "    f=open(\"data/\"+s, \"r\")\n",
    "    for x in f:\n",
    "        a=x.split()\n",
    "        la.append(float(a[0]))\n",
    "        lo.append(float(a[1]))\n",
    "        a1.append(float(a[3]))\n",
    "        b.append(float(a[4]))\n",
    "        c.append(float(a[5]))"
   ]
  },
  {
   "cell_type": "code",
   "execution_count": 3,
   "id": "ef30dca3",
   "metadata": {},
   "outputs": [
    {
     "ename": "ModuleNotFoundError",
     "evalue": "No module named 'sklearn'",
     "output_type": "error",
     "traceback": [
      "\u001b[1;31m---------------------------------------------------------------------------\u001b[0m",
      "\u001b[1;31mModuleNotFoundError\u001b[0m                       Traceback (most recent call last)",
      "\u001b[1;32m~\\AppData\\Local\\Temp/ipykernel_10428/1139614812.py\u001b[0m in \u001b[0;36m<module>\u001b[1;34m\u001b[0m\n\u001b[0;32m      3\u001b[0m \u001b[1;32mimport\u001b[0m \u001b[0mmatplotlib\u001b[0m\u001b[1;33m.\u001b[0m\u001b[0mpyplot\u001b[0m \u001b[1;32mas\u001b[0m \u001b[0mplt\u001b[0m\u001b[1;33m\u001b[0m\u001b[1;33m\u001b[0m\u001b[0m\n\u001b[0;32m      4\u001b[0m \u001b[1;32mimport\u001b[0m \u001b[0mseaborn\u001b[0m \u001b[1;32mas\u001b[0m \u001b[0msns\u001b[0m\u001b[1;33m\u001b[0m\u001b[1;33m\u001b[0m\u001b[0m\n\u001b[1;32m----> 5\u001b[1;33m \u001b[1;32mimport\u001b[0m \u001b[0msklearn\u001b[0m \u001b[1;32mas\u001b[0m \u001b[0msk\u001b[0m\u001b[1;33m\u001b[0m\u001b[1;33m\u001b[0m\u001b[0m\n\u001b[0m\u001b[0;32m      6\u001b[0m \u001b[0mget_ipython\u001b[0m\u001b[1;33m(\u001b[0m\u001b[1;33m)\u001b[0m\u001b[1;33m.\u001b[0m\u001b[0mrun_line_magic\u001b[0m\u001b[1;33m(\u001b[0m\u001b[1;34m'matplotlib'\u001b[0m\u001b[1;33m,\u001b[0m \u001b[1;34m'inline'\u001b[0m\u001b[1;33m)\u001b[0m\u001b[1;33m\u001b[0m\u001b[1;33m\u001b[0m\u001b[0m\n",
      "\u001b[1;31mModuleNotFoundError\u001b[0m: No module named 'sklearn'"
     ]
    }
   ],
   "source": [
    "import numpy as np\n",
    "import pandas as pd\n",
    "import matplotlib.pyplot as plt\n",
    "import seaborn as sns\n",
    "import sklearn as sk\n",
    "%matplotlib inline"
   ]
  },
  {
   "cell_type": "code",
   "execution_count": 4,
   "id": "e71741c5",
   "metadata": {},
   "outputs": [],
   "source": [
    "d=pd.DataFrame([np.array(la),np.array(lo),np.array(a1),np.array(b),np.array(c)])"
   ]
  },
  {
   "cell_type": "code",
   "execution_count": 5,
   "id": "d2391e05",
   "metadata": {},
   "outputs": [],
   "source": [
    "d=d.T"
   ]
  },
  {
   "cell_type": "code",
   "execution_count": 13,
   "id": "9a7191ba",
   "metadata": {},
   "outputs": [
    {
     "data": {
      "text/html": [
       "<div>\n",
       "<style scoped>\n",
       "    .dataframe tbody tr th:only-of-type {\n",
       "        vertical-align: middle;\n",
       "    }\n",
       "\n",
       "    .dataframe tbody tr th {\n",
       "        vertical-align: top;\n",
       "    }\n",
       "\n",
       "    .dataframe thead th {\n",
       "        text-align: right;\n",
       "    }\n",
       "</style>\n",
       "<table border=\"1\" class=\"dataframe\">\n",
       "  <thead>\n",
       "    <tr style=\"text-align: right;\">\n",
       "      <th></th>\n",
       "      <th>Lat</th>\n",
       "      <th>Lon</th>\n",
       "      <th>roll</th>\n",
       "      <th>pitch</th>\n",
       "      <th>yaw</th>\n",
       "    </tr>\n",
       "  </thead>\n",
       "  <tbody>\n",
       "    <tr>\n",
       "      <th>0</th>\n",
       "      <td>49.014469</td>\n",
       "      <td>8.432395</td>\n",
       "      <td>0.013512</td>\n",
       "      <td>0.007208</td>\n",
       "      <td>-3.002513</td>\n",
       "    </tr>\n",
       "    <tr>\n",
       "      <th>1</th>\n",
       "      <td>49.014468</td>\n",
       "      <td>8.432384</td>\n",
       "      <td>0.013787</td>\n",
       "      <td>0.002210</td>\n",
       "      <td>-3.006468</td>\n",
       "    </tr>\n",
       "    <tr>\n",
       "      <th>2</th>\n",
       "      <td>49.014467</td>\n",
       "      <td>8.432371</td>\n",
       "      <td>0.012623</td>\n",
       "      <td>0.006346</td>\n",
       "      <td>-3.010004</td>\n",
       "    </tr>\n",
       "    <tr>\n",
       "      <th>3</th>\n",
       "      <td>49.014466</td>\n",
       "      <td>8.432359</td>\n",
       "      <td>0.007931</td>\n",
       "      <td>0.013213</td>\n",
       "      <td>-3.012732</td>\n",
       "    </tr>\n",
       "    <tr>\n",
       "      <th>4</th>\n",
       "      <td>49.014465</td>\n",
       "      <td>8.432347</td>\n",
       "      <td>0.008191</td>\n",
       "      <td>0.013948</td>\n",
       "      <td>-3.015371</td>\n",
       "    </tr>\n",
       "  </tbody>\n",
       "</table>\n",
       "</div>"
      ],
      "text/plain": [
       "         Lat       Lon      roll     pitch       yaw\n",
       "0  49.014469  8.432395  0.013512  0.007208 -3.002513\n",
       "1  49.014468  8.432384  0.013787  0.002210 -3.006468\n",
       "2  49.014467  8.432371  0.012623  0.006346 -3.010004\n",
       "3  49.014466  8.432359  0.007931  0.013213 -3.012732\n",
       "4  49.014465  8.432347  0.008191  0.013948 -3.015371"
      ]
     },
     "execution_count": 13,
     "metadata": {},
     "output_type": "execute_result"
    }
   ],
   "source": [
    "d.head()"
   ]
  },
  {
   "cell_type": "code",
   "execution_count": 7,
   "id": "8d37d34d",
   "metadata": {},
   "outputs": [],
   "source": [
    "d.rename(columns = {0: 'Lat', 1: 'Lon',2:'roll',3:'pitch',4:'yaw'}, inplace = True)"
   ]
  },
  {
   "cell_type": "code",
   "execution_count": 8,
   "id": "9f66fde3",
   "metadata": {
    "scrolled": false
   },
   "outputs": [
    {
     "data": {
      "text/html": [
       "<div>\n",
       "<style scoped>\n",
       "    .dataframe tbody tr th:only-of-type {\n",
       "        vertical-align: middle;\n",
       "    }\n",
       "\n",
       "    .dataframe tbody tr th {\n",
       "        vertical-align: top;\n",
       "    }\n",
       "\n",
       "    .dataframe thead th {\n",
       "        text-align: right;\n",
       "    }\n",
       "</style>\n",
       "<table border=\"1\" class=\"dataframe\">\n",
       "  <thead>\n",
       "    <tr style=\"text-align: right;\">\n",
       "      <th></th>\n",
       "      <th>Lat</th>\n",
       "      <th>Lon</th>\n",
       "      <th>roll</th>\n",
       "      <th>pitch</th>\n",
       "      <th>yaw</th>\n",
       "    </tr>\n",
       "  </thead>\n",
       "  <tbody>\n",
       "    <tr>\n",
       "      <th>0</th>\n",
       "      <td>49.014469</td>\n",
       "      <td>8.432395</td>\n",
       "      <td>0.013512</td>\n",
       "      <td>0.007208</td>\n",
       "      <td>-3.002513</td>\n",
       "    </tr>\n",
       "    <tr>\n",
       "      <th>1</th>\n",
       "      <td>49.014468</td>\n",
       "      <td>8.432384</td>\n",
       "      <td>0.013787</td>\n",
       "      <td>0.002210</td>\n",
       "      <td>-3.006468</td>\n",
       "    </tr>\n",
       "    <tr>\n",
       "      <th>2</th>\n",
       "      <td>49.014467</td>\n",
       "      <td>8.432371</td>\n",
       "      <td>0.012623</td>\n",
       "      <td>0.006346</td>\n",
       "      <td>-3.010004</td>\n",
       "    </tr>\n",
       "    <tr>\n",
       "      <th>3</th>\n",
       "      <td>49.014466</td>\n",
       "      <td>8.432359</td>\n",
       "      <td>0.007931</td>\n",
       "      <td>0.013213</td>\n",
       "      <td>-3.012732</td>\n",
       "    </tr>\n",
       "    <tr>\n",
       "      <th>4</th>\n",
       "      <td>49.014465</td>\n",
       "      <td>8.432347</td>\n",
       "      <td>0.008191</td>\n",
       "      <td>0.013948</td>\n",
       "      <td>-3.015371</td>\n",
       "    </tr>\n",
       "  </tbody>\n",
       "</table>\n",
       "</div>"
      ],
      "text/plain": [
       "         Lat       Lon      roll     pitch       yaw\n",
       "0  49.014469  8.432395  0.013512  0.007208 -3.002513\n",
       "1  49.014468  8.432384  0.013787  0.002210 -3.006468\n",
       "2  49.014467  8.432371  0.012623  0.006346 -3.010004\n",
       "3  49.014466  8.432359  0.007931  0.013213 -3.012732\n",
       "4  49.014465  8.432347  0.008191  0.013948 -3.015371"
      ]
     },
     "execution_count": 8,
     "metadata": {},
     "output_type": "execute_result"
    }
   ],
   "source": [
    "d.head()"
   ]
  },
  {
   "cell_type": "code",
   "execution_count": 9,
   "id": "cad8f596",
   "metadata": {
    "scrolled": false
   },
   "outputs": [
    {
     "name": "stdout",
     "output_type": "stream",
     "text": [
      "<class 'pandas.core.frame.DataFrame'>\n",
      "RangeIndex: 77 entries, 0 to 76\n",
      "Data columns (total 5 columns):\n",
      " #   Column  Non-Null Count  Dtype  \n",
      "---  ------  --------------  -----  \n",
      " 0   Lat     77 non-null     float64\n",
      " 1   Lon     77 non-null     float64\n",
      " 2   roll    77 non-null     float64\n",
      " 3   pitch   77 non-null     float64\n",
      " 4   yaw     77 non-null     float64\n",
      "dtypes: float64(5)\n",
      "memory usage: 3.1 KB\n"
     ]
    }
   ],
   "source": [
    "d.info()"
   ]
  },
  {
   "cell_type": "code",
   "execution_count": 10,
   "id": "dc2a0826",
   "metadata": {},
   "outputs": [],
   "source": [
    "import math\n",
    "def an(lat1,lo1):\n",
    "    lat2=16.52638889\n",
    "    lo2=80.64527778\n",
    "    dlo=lo2-lo1\n",
    "    y=math.sin(dlo)*math.cos(lat2)\n",
    "    x=math.cos(lat1)*math.sin(lat2)-math.sin(lat1)*math.cos(lat2)*math.cos(dlo)\n",
    "    z = math.atan2(y, x)\n",
    "    z = math.degrees(z)\n",
    "    z = (z + 360) % 360\n",
    "    return int(z)"
   ]
  },
  {
   "cell_type": "code",
   "execution_count": 11,
   "id": "44505053",
   "metadata": {},
   "outputs": [],
   "source": [
    "import math\n",
    "def an1(lat1,lo1,lat2,lo2):\n",
    "    dlo=lo2-lo1\n",
    "    y=math.sin(dlo)*math.cos(lat2)\n",
    "    x=math.cos(lat1)*math.sin(lat2)-math.sin(lat1)*math.cos(lat2)*math.cos(dlo)\n",
    "    z = math.atan2(y, x)\n",
    "    z = math.degrees(z)\n",
    "    z = (z + 360) % 360\n",
    "    return int(z)"
   ]
  },
  {
   "cell_type": "code",
   "execution_count": 12,
   "id": "2fd3d885",
   "metadata": {},
   "outputs": [],
   "source": [
    "def vector_calc(lat, long, ht):\n",
    "    '''\n",
    "    Calculates the vector from a specified point on the Earth's surface to the North Pole.\n",
    "    '''\n",
    "    a = 6378137.0  # Equatorial radius of the Earth\n",
    "    b = 6356752.314245  # Polar radius of the Earth\n",
    "\n",
    "    e_squared = 1 - ((b ** 2) / (a ** 2))  # e is the eccentricity of the Earth\n",
    "    n_phi = a / (np.sqrt(1 - (e_squared * (np.sin(lat) ** 2))))\n",
    "\n",
    "    x = (n_phi + ht) * np.cos(lat) * np.cos(long)\n",
    "    y = (n_phi + ht) * np.cos(lat) * np.sin(long)\n",
    "    z = ((((b ** 2) / (a ** 2)) * n_phi) + ht) * np.sin(lat)\n",
    "\n",
    "    x_npole = 0.0\n",
    "    y_npole = 6378137.0\n",
    "    z_npole = 0.0\n",
    "\n",
    "    v = ((x_npole - x), (y_npole - y), (z_npole - z))\n",
    "\n",
    "    return v"
   ]
  },
  {
   "cell_type": "code",
   "execution_count": 13,
   "id": "37471dcc",
   "metadata": {},
   "outputs": [],
   "source": [
    "def anc(lat2,long2, ht1=0, ht2=0):\n",
    "    '''\n",
    "    Calculates the angle between the vectors from 2 points to the North Pole.\n",
    "    '''\n",
    "    # Convert from degrees to radians\n",
    "    lat1=16.52638889\n",
    "    long1=80.64527778\n",
    "    lat1_rad = (lat1 / 180) * np.pi\n",
    "    long1_rad = (long1 / 180) * np.pi\n",
    "    lat2_rad = (lat2 / 180) * np.pi\n",
    "    long2_rad = (long2 / 180) * np.pi\n",
    "\n",
    "    v1 = vector_calc(lat1_rad, long1_rad, ht1)\n",
    "    v2 = vector_calc(lat2_rad, long2_rad, ht2)\n",
    "\n",
    "    # The angle between two vectors, vect1 and vect2 is given by:\n",
    "    # arccos[vect1.vect2 / |vect1||vect2|]\n",
    "    dot = np.dot(v1, v2)  # The dot product of the two vectors\n",
    "    v1_mag = np.linalg.norm(v1)  # The magnitude of the vector v1\n",
    "    v2_mag = np.linalg.norm(v2)  # The magnitude of the vector v2\n",
    "\n",
    "    theta_rad = np.arccos(dot / (v1_mag * v2_mag))\n",
    "    # Convert radians back to degrees\n",
    "    theta = (theta_rad / np.pi) * 180\n",
    "\n",
    "    return theta"
   ]
  },
  {
   "cell_type": "code",
   "execution_count": 14,
   "id": "8569c597",
   "metadata": {},
   "outputs": [],
   "source": [
    "def anc1(lat1,long1,lat2,long2, ht1=0, ht2=0):\n",
    "    '''\n",
    "    Calculates the angle between the vectors from 2 points to the North Pole.\n",
    "    '''\n",
    "    # Convert from degrees to radians\n",
    "    lat1_rad = (lat1 / 180) * np.pi\n",
    "    long1_rad = (long1 / 180) * np.pi\n",
    "    lat2_rad = (lat2 / 180) * np.pi\n",
    "    long2_rad = (long2 / 180) * np.pi\n",
    "\n",
    "    v1 = vector_calc(lat1_rad, long1_rad, ht1)\n",
    "    v2 = vector_calc(lat2_rad, long2_rad, ht2)\n",
    "\n",
    "    # The angle between two vectors, vect1 and vect2 is given by:\n",
    "    # arccos[vect1.vect2 / |vect1||vect2|]\n",
    "    dot = np.dot(v1, v2)  # The dot product of the two vectors\n",
    "    v1_mag = np.linalg.norm(v1)  # The magnitude of the vector v1\n",
    "    v2_mag = np.linalg.norm(v2)  # The magnitude of the vector v2\n",
    "\n",
    "    theta_rad = np.arccos(dot / (v1_mag * v2_mag))\n",
    "    # Convert radians back to degrees\n",
    "    theta = (theta_rad / np.pi) * 180\n",
    "\n",
    "    return theta"
   ]
  },
  {
   "cell_type": "code",
   "execution_count": 15,
   "id": "854be76b",
   "metadata": {},
   "outputs": [],
   "source": [
    "zan=[]\n",
    "for i in range(len(d)):\n",
    "    zan.append(an(d['Lat'][i],d['Lon'][i]))"
   ]
  },
  {
   "cell_type": "code",
   "execution_count": 16,
   "id": "7cf54d66",
   "metadata": {},
   "outputs": [
    {
     "data": {
      "text/plain": [
       "[<matplotlib.lines.Line2D at 0x198bd4ced60>]"
      ]
     },
     "execution_count": 16,
     "metadata": {},
     "output_type": "execute_result"
    },
    {
     "data": {
      "image/png": "[encoded data removed]",
      "text/plain": [
       "<Figure size 432x288 with 1 Axes>"
      ]
     },
     "metadata": {
      "needs_background": "light"
     },
     "output_type": "display_data"
    }
   ],
   "source": [
    "plt.plot(zan)"
   ]
  },
  {
   "cell_type": "code",
   "execution_count": 17,
   "id": "3dd05e89",
   "metadata": {},
   "outputs": [],
   "source": [
    "zanc=[]\n",
    "for i in range(len(d)):\n",
    "    zanc.append(anc(d['Lat'][i],d['Lon'][i]))"
   ]
  },
  {
   "cell_type": "code",
   "execution_count": 18,
   "id": "36bd9055",
   "metadata": {},
   "outputs": [
    {
     "data": {
      "text/plain": [
       "[<matplotlib.lines.Line2D at 0x198bdc08b80>]"
      ]
     },
     "execution_count": 18,
     "metadata": {},
     "output_type": "execute_result"
    },
    {
     "data": {
      "image/png": "[encoded data removed]",
      "text/plain": [
       "<Figure size 432x288 with 1 Axes>"
      ]
     },
     "metadata": {
      "needs_background": "light"
     },
     "output_type": "display_data"
    }
   ],
   "source": [
    "plt.plot(zanc)"
   ]
  },
  {
   "cell_type": "code",
   "execution_count": 19,
   "id": "0febb68c",
   "metadata": {},
   "outputs": [],
   "source": [
    "z1=[]\n",
    "i=0\n",
    "while(i<len(d)-1):\n",
    "    z1.append(an1(d['Lat'][i],d['Lon'][i],d['Lat'][i+1],d['Lon'][i+1]))\n",
    "    i=i+1"
   ]
  },
  {
   "cell_type": "code",
   "execution_count": 20,
   "id": "a7aa0296",
   "metadata": {},
   "outputs": [
    {
     "data": {
      "text/plain": [
       "[<matplotlib.lines.Line2D at 0x198bdc5a190>]"
      ]
     },
     "execution_count": 20,
     "metadata": {},
     "output_type": "execute_result"
    },
    {
     "data": {
      "image/png": "[encoded data removed]",
      "text/plain": [
       "<Figure size 432x288 with 1 Axes>"
      ]
     },
     "metadata": {
      "needs_background": "light"
     },
     "output_type": "display_data"
    }
   ],
   "source": [
    "plt.plot(z1)"
   ]
  },
  {
   "cell_type": "code",
   "execution_count": 21,
   "id": "8b25ec07",
   "metadata": {},
   "outputs": [],
   "source": [
    "z2=[]\n",
    "i=0\n",
    "while(i<len(d)-2):\n",
    "    z2.append(an1(d['Lat'][i],d['Lon'][i],d['Lat'][i+2],d['Lon'][i+2]))\n",
    "    i=i+2"
   ]
  },
  {
   "cell_type": "code",
   "execution_count": 22,
   "id": "b47b407b",
   "metadata": {},
   "outputs": [
    {
     "data": {
      "text/plain": [
       "[<matplotlib.lines.Line2D at 0x1f5587dcc10>]"
      ]
     },
     "execution_count": 22,
     "metadata": {},
     "output_type": "execute_result"
    },
    {
     "data": {
      "image/png": "[encoded data removed]",
      "text/plain": [
       "<Figure size 432x288 with 1 Axes>"
      ]
     },
     "metadata": {
      "needs_background": "light"
     },
     "output_type": "display_data"
    }
   ],
   "source": [
    "plt.plot(z2)"
   ]
  },
  {
   "cell_type": "code",
   "execution_count": 23,
   "id": "4805288c",
   "metadata": {},
   "outputs": [
    {
     "name": "stderr",
     "output_type": "stream",
     "text": [
      "<ipython-input-14-d1c3af7e86b5>:20: RuntimeWarning: invalid value encountered in arccos\n",
      "  theta_rad = np.arccos(dot / (v1_mag * v2_mag))\n"
     ]
    }
   ],
   "source": [
    "z1=[]\n",
    "i=0\n",
    "while(i<len(d)-1):\n",
    "    z1.append(anc1(d['Lat'][i],d['Lon'][i],d['Lat'][i+1],d['Lon'][i+1]))\n",
    "    i=i+1"
   ]
  },
  {
   "cell_type": "code",
   "execution_count": 24,
   "id": "a3707153",
   "metadata": {
    "scrolled": false
   },
   "outputs": [
    {
     "data": {
      "text/plain": [
       "[<matplotlib.lines.Line2D at 0x1f55884a730>]"
      ]
     },
     "execution_count": 24,
     "metadata": {},
     "output_type": "execute_result"
    },
    {
     "data": {
      "image/png": "[encoded data removed]",
      "text/plain": [
       "<Figure size 432x288 with 1 Axes>"
      ]
     },
     "metadata": {
      "needs_background": "light"
     },
     "output_type": "display_data"
    }
   ],
   "source": [
    "plt.plot(z1)"
   ]
  },
  {
   "cell_type": "code",
   "execution_count": 25,
   "id": "f3783e3f",
   "metadata": {},
   "outputs": [],
   "source": [
    "import math\n",
    " \n",
    "def ga(a, b, c):\n",
    "    ang = math.degrees(math.atan2(c[1]-b[1], c[0]-b[0]) - math.atan2(a[1]-b[1], a[0]-b[0]))\n",
    "    return ang + 360 if ang < 0 else ang"
   ]
  },
  {
   "cell_type": "code",
   "execution_count": 26,
   "id": "247a046f",
   "metadata": {},
   "outputs": [],
   "source": [
    "a=[]\n",
    "i=0\n",
    "while(i<len(d)-3):\n",
    "    x=(ga((d['Lat'][i],d['Lon'][i]),(d['Lat'][i+1],d['Lon'][i+1]),(d['Lat'][i+2],d['Lon'][i+2])))\n",
    "    x=min(x,360-x)\n",
    "    a.append(x)\n",
    "    i=i+3"
   ]
  },
  {
   "cell_type": "code",
   "execution_count": 27,
   "id": "c9f477a0",
   "metadata": {},
   "outputs": [
    {
     "data": {
      "text/plain": [
       "[<matplotlib.lines.Line2D at 0x1f558801d00>]"
      ]
     },
     "execution_count": 27,
     "metadata": {},
     "output_type": "execute_result"
    },
    {
     "data": {
      "image/png": "[encoded data removed]",
      "text/plain": [
       "<Figure size 432x288 with 1 Axes>"
      ]
     },
     "metadata": {
      "needs_background": "light"
     },
     "output_type": "display_data"
    }
   ],
   "source": [
    "plt.plot(a)"
   ]
  },
  {
   "cell_type": "code",
   "execution_count": 28,
   "id": "5452d1a9",
   "metadata": {},
   "outputs": [],
   "source": [
    "d['angle']=np.array(zanc)"
   ]
  },
  {
   "cell_type": "code",
   "execution_count": 29,
   "id": "bd9db33d",
   "metadata": {},
   "outputs": [
    {
     "data": {
      "text/html": [
       "<div>\n",
       "<style scoped>\n",
       "    .dataframe tbody tr th:only-of-type {\n",
       "        vertical-align: middle;\n",
       "    }\n",
       "\n",
       "    .dataframe tbody tr th {\n",
       "        vertical-align: top;\n",
       "    }\n",
       "\n",
       "    .dataframe thead th {\n",
       "        text-align: right;\n",
       "    }\n",
       "</style>\n",
       "<table border=\"1\" class=\"dataframe\">\n",
       "  <thead>\n",
       "    <tr style=\"text-align: right;\">\n",
       "      <th></th>\n",
       "      <th>Lat</th>\n",
       "      <th>Lon</th>\n",
       "      <th>roll</th>\n",
       "      <th>pitch</th>\n",
       "      <th>yaw</th>\n",
       "      <th>angle</th>\n",
       "    </tr>\n",
       "  </thead>\n",
       "  <tbody>\n",
       "    <tr>\n",
       "      <th>0</th>\n",
       "      <td>49.011227</td>\n",
       "      <td>8.422878</td>\n",
       "      <td>0.025982</td>\n",
       "      <td>-0.013047</td>\n",
       "      <td>-1.287962</td>\n",
       "      <td>34.475827</td>\n",
       "    </tr>\n",
       "    <tr>\n",
       "      <th>1</th>\n",
       "      <td>49.011226</td>\n",
       "      <td>8.422878</td>\n",
       "      <td>0.026346</td>\n",
       "      <td>-0.013242</td>\n",
       "      <td>-1.286318</td>\n",
       "      <td>34.475827</td>\n",
       "    </tr>\n",
       "    <tr>\n",
       "      <th>2</th>\n",
       "      <td>49.011226</td>\n",
       "      <td>8.422878</td>\n",
       "      <td>0.026712</td>\n",
       "      <td>-0.013469</td>\n",
       "      <td>-1.284915</td>\n",
       "      <td>34.475827</td>\n",
       "    </tr>\n",
       "    <tr>\n",
       "      <th>3</th>\n",
       "      <td>49.011226</td>\n",
       "      <td>8.422878</td>\n",
       "      <td>0.027125</td>\n",
       "      <td>-0.013598</td>\n",
       "      <td>-1.283393</td>\n",
       "      <td>34.475827</td>\n",
       "    </tr>\n",
       "    <tr>\n",
       "      <th>4</th>\n",
       "      <td>49.011225</td>\n",
       "      <td>8.422879</td>\n",
       "      <td>0.027577</td>\n",
       "      <td>-0.013621</td>\n",
       "      <td>-1.281920</td>\n",
       "      <td>34.475827</td>\n",
       "    </tr>\n",
       "  </tbody>\n",
       "</table>\n",
       "</div>"
      ],
      "text/plain": [
       "         Lat       Lon      roll     pitch       yaw      angle\n",
       "0  49.011227  8.422878  0.025982 -0.013047 -1.287962  34.475827\n",
       "1  49.011226  8.422878  0.026346 -0.013242 -1.286318  34.475827\n",
       "2  49.011226  8.422878  0.026712 -0.013469 -1.284915  34.475827\n",
       "3  49.011226  8.422878  0.027125 -0.013598 -1.283393  34.475827\n",
       "4  49.011225  8.422879  0.027577 -0.013621 -1.281920  34.475827"
      ]
     },
     "execution_count": 29,
     "metadata": {},
     "output_type": "execute_result"
    }
   ],
   "source": [
    "d.head()"
   ]
  },
  {
   "cell_type": "code",
   "execution_count": 21,
   "id": "4f6317f0",
   "metadata": {},
   "outputs": [
    {
     "data": {
      "text/plain": [
       "[<matplotlib.lines.Line2D at 0x198bdc9f4c0>]"
      ]
     },
     "execution_count": 21,
     "metadata": {},
     "output_type": "execute_result"
    },
    {
     "data": {
      "image/png": "[encoded data removed]",
      "text/plain": [
       "<Figure size 432x288 with 1 Axes>"
      ]
     },
     "metadata": {
      "needs_background": "light"
     },
     "output_type": "display_data"
    }
   ],
   "source": [
    "plt.plot(d['yaw'])"
   ]
  },
  {
   "cell_type": "code",
   "execution_count": 31,
   "id": "b16d6f7e",
   "metadata": {
    "scrolled": true
   },
   "outputs": [
    {
     "data": {
      "text/plain": [
       "[<matplotlib.lines.Line2D at 0x1f55891a670>]"
      ]
     },
     "execution_count": 31,
     "metadata": {},
     "output_type": "execute_result"
    },
    {
     "data": {
      "image/png": "[encoded data removed]",
      "text/plain": [
       "<Figure size 432x288 with 1 Axes>"
      ]
     },
     "metadata": {
      "needs_background": "light"
     },
     "output_type": "display_data"
    }
   ],
   "source": [
    "plt.plot(d['roll'])"
   ]
  },
  {
   "cell_type": "code",
   "execution_count": 32,
   "id": "1933973b",
   "metadata": {},
   "outputs": [
    {
     "data": {
      "text/plain": [
       "[<matplotlib.lines.Line2D at 0x1f558974a30>]"
      ]
     },
     "execution_count": 32,
     "metadata": {},
     "output_type": "execute_result"
    },
    {
     "data": {
      "image/png": "[encoded data removed]",
      "text/plain": [
       "<Figure size 432x288 with 1 Axes>"
      ]
     },
     "metadata": {
      "needs_background": "light"
     },
     "output_type": "display_data"
    }
   ],
   "source": [
    "plt.plot(d['pitch'])"
   ]
  },
  {
   "cell_type": "code",
   "execution_count": null,
   "id": "0950afa0",
   "metadata": {},
   "outputs": [],
   "source": []
  },
  {
   "cell_type": "code",
   "execution_count": null,
   "id": "769d2736",
   "metadata": {},
   "outputs": [],
   "source": []
  },
  {
   "cell_type": "code",
   "execution_count": null,
   "id": "00ff8bb7",
   "metadata": {},
   "outputs": [],
   "source": []
  },
  {
   "cell_type": "code",
   "execution_count": null,
   "id": "ebbfabf8",
   "metadata": {},
   "outputs": [],
   "source": []
  },
  {
   "cell_type": "code",
   "execution_count": 33,
   "id": "c0bd877d",
   "metadata": {},
   "outputs": [
    {
     "ename": "TypeError",
     "evalue": "an() takes 2 positional arguments but 4 were given",
     "output_type": "error",
     "traceback": [
      "\u001b[1;31m---------------------------------------------------------------------------\u001b[0m",
      "\u001b[1;31mTypeError\u001b[0m                                 Traceback (most recent call last)",
      "\u001b[1;32m<ipython-input-33-e3655feb9a8d>\u001b[0m in \u001b[0;36m<module>\u001b[1;34m\u001b[0m\n\u001b[0;32m      2\u001b[0m \u001b[0mi\u001b[0m\u001b[1;33m=\u001b[0m\u001b[1;36m0\u001b[0m\u001b[1;33m\u001b[0m\u001b[1;33m\u001b[0m\u001b[0m\n\u001b[0;32m      3\u001b[0m \u001b[1;32mwhile\u001b[0m\u001b[1;33m(\u001b[0m\u001b[0mi\u001b[0m\u001b[1;33m<\u001b[0m\u001b[0mlen\u001b[0m\u001b[1;33m(\u001b[0m\u001b[0md\u001b[0m\u001b[1;33m)\u001b[0m\u001b[1;33m-\u001b[0m\u001b[1;36m2\u001b[0m\u001b[1;33m)\u001b[0m\u001b[1;33m:\u001b[0m\u001b[1;33m\u001b[0m\u001b[1;33m\u001b[0m\u001b[0m\n\u001b[1;32m----> 4\u001b[1;33m     \u001b[0mz2\u001b[0m\u001b[1;33m.\u001b[0m\u001b[0mappend\u001b[0m\u001b[1;33m(\u001b[0m\u001b[0man\u001b[0m\u001b[1;33m(\u001b[0m\u001b[0md\u001b[0m\u001b[1;33m[\u001b[0m\u001b[1;34m'Lat'\u001b[0m\u001b[1;33m]\u001b[0m\u001b[1;33m[\u001b[0m\u001b[0mi\u001b[0m\u001b[1;33m]\u001b[0m\u001b[1;33m,\u001b[0m\u001b[0md\u001b[0m\u001b[1;33m[\u001b[0m\u001b[1;34m'Lon'\u001b[0m\u001b[1;33m]\u001b[0m\u001b[1;33m[\u001b[0m\u001b[0mi\u001b[0m\u001b[1;33m]\u001b[0m\u001b[1;33m,\u001b[0m\u001b[0md\u001b[0m\u001b[1;33m[\u001b[0m\u001b[1;34m'Lat'\u001b[0m\u001b[1;33m]\u001b[0m\u001b[1;33m[\u001b[0m\u001b[0mi\u001b[0m\u001b[1;33m+\u001b[0m\u001b[1;36m2\u001b[0m\u001b[1;33m]\u001b[0m\u001b[1;33m,\u001b[0m\u001b[0md\u001b[0m\u001b[1;33m[\u001b[0m\u001b[1;34m'Lon'\u001b[0m\u001b[1;33m]\u001b[0m\u001b[1;33m[\u001b[0m\u001b[0mi\u001b[0m\u001b[1;33m+\u001b[0m\u001b[1;36m2\u001b[0m\u001b[1;33m]\u001b[0m\u001b[1;33m)\u001b[0m\u001b[1;33m)\u001b[0m\u001b[1;33m\u001b[0m\u001b[1;33m\u001b[0m\u001b[0m\n\u001b[0m\u001b[0;32m      5\u001b[0m     \u001b[0mi\u001b[0m\u001b[1;33m=\u001b[0m\u001b[0mi\u001b[0m\u001b[1;33m+\u001b[0m\u001b[1;36m2\u001b[0m\u001b[1;33m\u001b[0m\u001b[1;33m\u001b[0m\u001b[0m\n",
      "\u001b[1;31mTypeError\u001b[0m: an() takes 2 positional arguments but 4 were given"
     ]
    }
   ],
   "source": [
    "z2=[]\n",
    "i=0\n",
    "while(i<len(d)-2):\n",
    "    z2.append(an(d['Lat'][i],d['Lon'][i],d['Lat'][i+2],d['Lon'][i+2]))\n",
    "    i=i+2"
   ]
  },
  {
   "cell_type": "code",
   "execution_count": null,
   "id": "c006f4a5",
   "metadata": {},
   "outputs": [],
   "source": [
    "z1=np.array(z1)\n",
    "len(z1)"
   ]
  },
  {
   "cell_type": "code",
   "execution_count": null,
   "id": "e21aff50",
   "metadata": {
    "scrolled": false
   },
   "outputs": [],
   "source": [
    "plt.plot(z1)"
   ]
  },
  {
   "cell_type": "code",
   "execution_count": null,
   "id": "9e22e6e4",
   "metadata": {},
   "outputs": [],
   "source": [
    "np.argmax(z1)\n",
    "max(z1)"
   ]
  },
  {
   "cell_type": "code",
   "execution_count": null,
   "id": "d17e7dc8",
   "metadata": {},
   "outputs": [],
   "source": [
    "for i in range(605,1114):\n",
    "    print(z1[i])"
   ]
  },
  {
   "cell_type": "code",
   "execution_count": null,
   "id": "85750935",
   "metadata": {},
   "outputs": [],
   "source": [
    "x=z1\n",
    "n=len(z1)"
   ]
  },
  {
   "cell_type": "code",
   "execution_count": null,
   "id": "427adddd",
   "metadata": {},
   "outputs": [],
   "source": [
    "np.argmax(z1)"
   ]
  },
  {
   "cell_type": "code",
   "execution_count": null,
   "id": "631ce6f2",
   "metadata": {},
   "outputs": [],
   "source": [
    "x=[]\n",
    "for i in range(0,len(z1),2):\n",
    "    x.append(z1[i])\n",
    "n=len(x)\n",
    "n"
   ]
  },
  {
   "cell_type": "code",
   "execution_count": null,
   "id": "2a133ddb",
   "metadata": {},
   "outputs": [],
   "source": [
    "z1[1000]"
   ]
  },
  {
   "cell_type": "code",
   "execution_count": null,
   "id": "47138a78",
   "metadata": {},
   "outputs": [],
   "source": [
    "for i in range(614,1061):\n",
    "    print(z1[i])"
   ]
  },
  {
   "cell_type": "code",
   "execution_count": null,
   "id": "39998e85",
   "metadata": {},
   "outputs": [],
   "source": [
    "plt.plot(x)"
   ]
  },
  {
   "cell_type": "code",
   "execution_count": null,
   "id": "5afee125",
   "metadata": {},
   "outputs": [],
   "source": [
    "#increasing order\n",
    "def inx(x,i):\n",
    "    s=0\n",
    "    r=0\n",
    "    v=0\n",
    "    k=6\n",
    "    l=3\n",
    "    if(i+k>=n):\n",
    "        k=n-i-1\n",
    "    if(i+l>=n):\n",
    "        l=n-i-1\n",
    "    for j in range(l):\n",
    "        if(x[i+j]<x[i+j+1]):\n",
    "            r=r+1\n",
    "    for j in range(k):\n",
    "        if(x[i+j]<=x[i+j+1]):\n",
    "            #s=s+(x[i+j+1]-x[i+j])\n",
    "            v=v+1\n",
    "    #if(s<=15):\n",
    "        #return 0\n",
    "    #else:\n",
    "    if(v==k or r==l):\n",
    "        return 1\n",
    "    return 0"
   ]
  },
  {
   "cell_type": "code",
   "execution_count": null,
   "id": "c8c41a2b",
   "metadata": {},
   "outputs": [],
   "source": [
    "#decreasing order\n",
    "def inx1(x,i):\n",
    "    s=0\n",
    "    r=0\n",
    "    v=0\n",
    "    k=6\n",
    "    l=3\n",
    "    if(i+k>=n):\n",
    "        k=n-i-1\n",
    "    if(i+l>=n):\n",
    "        l=n-i-1\n",
    "    for j in range(l):\n",
    "        if(x[i+j]>x[i+j+1]):\n",
    "            r=r+1\n",
    "    for j in range(k):\n",
    "        if(x[i+j]>=x[i+j+1]):\n",
    "            #s=s+(x[i+j]-x[i+j-1])\n",
    "            v=v+1\n",
    "    #if(s<=15):\n",
    "        #return 0\n",
    "    #else:\n",
    "    if(v==k or r==l):\n",
    "        return 1\n",
    "    return 0"
   ]
  },
  {
   "cell_type": "code",
   "execution_count": null,
   "id": "2a45152a",
   "metadata": {},
   "outputs": [],
   "source": [
    "#complete version\n",
    "s=x[0]\n",
    "a=0\n",
    "f=0\n",
    "g=0\n",
    "b=0\n",
    "i=0\n",
    "rt=[]\n",
    "lt=[]\n",
    "ru=[]\n",
    "lu=[]\n",
    "while(i<n-1):\n",
    "    i=i+1\n",
    "    y=abs(x[i]-s)\n",
    "    y=(min(y,360-y))\n",
    "    if(x[i-1]<=x[i] and g==0):\n",
    "        if(f==0 and g==0):\n",
    "            if(inx(x,i-1)):\n",
    "                right=i-1\n",
    "                #print(\"insr \"+str(right))\n",
    "                s=x[right]\n",
    "                f=1\n",
    "        if(y>=65 and y<=125):\n",
    "            v=0\n",
    "            k=10\n",
    "            if(i+k>=n):\n",
    "                k=n-i-1\n",
    "            for j in range(k):\n",
    "                if(x[i+j]<x[i+j+1]):\n",
    "                    v=v+1\n",
    "            if(v<k//2):\n",
    "                j=i\n",
    "                while(x[j]<x[j+1] and j<n):\n",
    "                    j=j+1\n",
    "                j=j+6\n",
    "                f=0\n",
    "                print('Right Turn',s,x[j],right,j)\n",
    "                rt.append([right,j])\n",
    "                s=x[j]\n",
    "                i=j\n",
    "                right=j\n",
    "        if(y>=170 and y<=190):\n",
    "            j=i\n",
    "            while(x[j]<x[j+1] and j<n):\n",
    "                j=j+1\n",
    "            j=j+6\n",
    "            f=0\n",
    "            print(\"RU\",s,x[j],right,j)\n",
    "            ru.append([right,j])\n",
    "            s=x[j]\n",
    "            i=j\n",
    "            right=j\n",
    "    elif(x[i-1]>=x[i] and f==0):\n",
    "        if(f==0 and g==0):\n",
    "            if(inx1(x,i-1)):\n",
    "                #print(\"insl \"+str(i-1))\n",
    "                left=i-1\n",
    "                s=x[left]\n",
    "                g=1\n",
    "        if(y>=65 and y<=125):\n",
    "            v=0\n",
    "            k=10\n",
    "            if(i+k>=n):\n",
    "                k=n-i-1\n",
    "            for j in range(k):\n",
    "                if(x[i+j]>x[i+j+1]):\n",
    "                    v=v+1\n",
    "            if(v<k//2):\n",
    "                j=i\n",
    "                while(x[j]>x[j+1] and j<n):\n",
    "                    j=j+1\n",
    "                j=j+6\n",
    "                g=0\n",
    "                print('Left Turn',s,x[j],left,j)\n",
    "                lt.append([left,j])\n",
    "                s=x[j]\n",
    "                i=j\n",
    "                left=j\n",
    "        if(y>=170 and y<=190):\n",
    "            j=i\n",
    "            while(x[j]>x[j+1] and j<n):\n",
    "                j=j+1\n",
    "            j=j+6\n",
    "            g=0\n",
    "            print(\"LU\",s,x[j],left,j)\n",
    "            rt.append([left,j])\n",
    "            s=x[j]\n",
    "            i=j\n",
    "            left=j"
   ]
  },
  {
   "cell_type": "code",
   "execution_count": null,
   "id": "a8793924",
   "metadata": {},
   "outputs": [],
   "source": [
    "x[72],x[526]"
   ]
  },
  {
   "cell_type": "code",
   "execution_count": null,
   "id": "06a95cf0",
   "metadata": {},
   "outputs": [],
   "source": [
    "for i in range(95,102):\n",
    "    #if(inx1(x,i)):\n",
    "        #print('1')\n",
    "    print(x[i])"
   ]
  },
  {
   "cell_type": "code",
   "execution_count": null,
   "id": "7294dd44",
   "metadata": {},
   "outputs": [],
   "source": []
  },
  {
   "cell_type": "code",
   "execution_count": null,
   "id": "c134f21b",
   "metadata": {},
   "outputs": [],
   "source": [
    "z=np.array(z)\n",
    "d['angle']=z"
   ]
  },
  {
   "cell_type": "code",
   "execution_count": null,
   "id": "0a109047",
   "metadata": {
    "scrolled": false
   },
   "outputs": [],
   "source": [
    "d.head()"
   ]
  },
  {
   "cell_type": "code",
   "execution_count": null,
   "id": "aca5f88c",
   "metadata": {
    "scrolled": true
   },
   "outputs": [],
   "source": [
    "d['angle'].value_counts()"
   ]
  },
  {
   "cell_type": "code",
   "execution_count": null,
   "id": "de9b7fb3",
   "metadata": {},
   "outputs": [],
   "source": [
    "d['angle']"
   ]
  },
  {
   "cell_type": "code",
   "execution_count": null,
   "id": "0fad86cb",
   "metadata": {
    "scrolled": true
   },
   "outputs": [],
   "source": [
    "plt.plot(d['angle'])"
   ]
  },
  {
   "cell_type": "code",
   "execution_count": null,
   "id": "1c61ab08",
   "metadata": {},
   "outputs": [],
   "source": [
    "l=[]\n",
    "for i in range(len(d)-1):\n",
    "    l.append(abs(d['angle'][i]-d['angle'][i+1])*(10**9))"
   ]
  },
  {
   "cell_type": "code",
   "execution_count": null,
   "id": "8eec15c9",
   "metadata": {},
   "outputs": [],
   "source": [
    "d['angle'][0]-d['angle'][1]"
   ]
  },
  {
   "cell_type": "code",
   "execution_count": null,
   "id": "bce3b48a",
   "metadata": {},
   "outputs": [],
   "source": [
    "plt.plot(l)"
   ]
  },
  {
   "cell_type": "code",
   "execution_count": null,
   "id": "c8dc655f",
   "metadata": {},
   "outputs": [],
   "source": [
    "d['angle']"
   ]
  },
  {
   "cell_type": "code",
   "execution_count": null,
   "id": "0b6f5358",
   "metadata": {},
   "outputs": [],
   "source": [
    "plt.plot(d['Lat'])"
   ]
  },
  {
   "cell_type": "code",
   "execution_count": null,
   "id": "ab8873b0",
   "metadata": {},
   "outputs": [],
   "source": [
    "plt.plot(d['Lon'])"
   ]
  },
  {
   "cell_type": "code",
   "execution_count": null,
   "id": "617346cb",
   "metadata": {},
   "outputs": [],
   "source": []
  },
  {
   "cell_type": "code",
   "execution_count": null,
   "id": "6482b6ad",
   "metadata": {},
   "outputs": [],
   "source": []
  },
  {
   "cell_type": "code",
   "execution_count": null,
   "id": "7e2f95c2",
   "metadata": {},
   "outputs": [],
   "source": [
    "a"
   ]
  },
  {
   "cell_type": "code",
   "execution_count": null,
   "id": "fd170866",
   "metadata": {},
   "outputs": [],
   "source": [
    "a=np.array(a)"
   ]
  },
  {
   "cell_type": "code",
   "execution_count": null,
   "id": "f8e13a2f",
   "metadata": {},
   "outputs": [],
   "source": [
    "plt.plot(a)"
   ]
  },
  {
   "cell_type": "code",
   "execution_count": null,
   "id": "595cd268",
   "metadata": {},
   "outputs": [],
   "source": []
  },
  {
   "cell_type": "code",
   "execution_count": null,
   "id": "623b17ca",
   "metadata": {},
   "outputs": [],
   "source": [
    "d.head()"
   ]
  },
  {
   "cell_type": "code",
   "execution_count": 11,
   "id": "86eb5bd3",
   "metadata": {},
   "outputs": [],
   "source": [
    "from arcgis.geocoding import reverse_geocode\n",
    "from arcgis.geometry import Geometry\n",
    "from arcgis.gis import GIS\n",
    "import pandas as pd"
   ]
  },
  {
   "cell_type": "code",
   "execution_count": 14,
   "id": "93f4bb4d",
   "metadata": {},
   "outputs": [],
   "source": [
    "gis = GIS(\"http://www.arcgis.com\", \"pramya96\", \"Pramya@9966\")\n",
    "\n",
    "def get_zip(df, lon_field, lat_field):\n",
    "    location = reverse_geocode((Geometry({\"x\":float(df[lon_field]), \"y\":float(df[lat_field]), \"spatialReference\":{\"wkid\": 4326}})))\n",
    "    return location['address']\n",
    "\n",
    "zipcodes = d.apply(get_zip, axis=1, lat_field='Lat', lon_field='Lon')"
   ]
  },
  {
   "cell_type": "code",
   "execution_count": null,
   "id": "6531d977",
   "metadata": {},
   "outputs": [],
   "source": []
  }
 ],
 "metadata": {
  "kernelspec": {
   "display_name": "Python 3 (ipykernel)",
   "language": "python",
   "name": "python3"
  },
  "language_info": {
   "codemirror_mode": {
    "name": "ipython",
    "version": 3
   },
   "file_extension": ".py",
   "mimetype": "text/x-python",
   "name": "python",
   "nbconvert_exporter": "python",
   "pygments_lexer": "ipython3",
   "version": "3.9.7"
  }
 },
 "nbformat": 4,
 "nbformat_minor": 5
}
